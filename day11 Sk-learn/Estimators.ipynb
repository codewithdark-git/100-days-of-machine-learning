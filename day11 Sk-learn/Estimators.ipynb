{
 "cells": [
  {
   "cell_type": "markdown",
   "metadata": {},
   "source": [
    "### Estimators :"
   ]
  },
  {
   "cell_type": "markdown",
   "metadata": {},
   "source": [
    "In scikit-learn (sklearn), estimators are the core components that implement learning algorithms. They can be used for various tasks, such as classification, regression, clustering, and dimensionality reduction. Here’s an overview of the key concepts and types of estimators in scikit-learn:\n",
    "\n",
    "### Types of Estimators\n",
    "\n",
    "1. **Supervised Learning Estimators:**\n",
    "   - **Classification:** Estimators that predict discrete labels (e.g., `LogisticRegression`, `RandomForestClassifier`, `SVC`).\n",
    "   - **Regression:** Estimators that predict continuous values (e.g., `LinearRegression`, `RandomForestRegressor`, `SVR`).\n",
    "\n",
    "2. **Unsupervised Learning Estimators:**\n",
    "   - **Clustering:** Estimators that group similar samples together (e.g., `KMeans`, `DBSCAN`, `AgglomerativeClustering`).\n",
    "   - **Dimensionality Reduction:** Estimators that reduce the number of features while retaining important information (e.g., `PCA`, `t-SNE`, `UMAP`).\n",
    "\n",
    "3. **Transformers:**\n",
    "   - These estimators implement the `fit_transform` method, allowing them to learn from the data and then transform it (e.g., `StandardScaler`, `OneHotEncoder`, `PCA`).\n",
    "\n",
    "4. **Pipeline:** \n",
    "   - A way to chain multiple estimators together, allowing for streamlined processing and tuning of parameters (e.g., `Pipeline` class).\n",
    "\n",
    "### Common Methods\n",
    "\n",
    "Estimators in scikit-learn generally provide the following methods:\n",
    "\n",
    "- **`fit(X, y)`**: Fit the estimator to the training data `X` and labels `y`.\n",
    "- **`predict(X)`**: Generate predictions for the input data `X`.\n",
    "- **`score(X, y)`**: Return the mean accuracy on the given test data and labels.\n",
    "- **`fit_transform(X, y=None)`**: Fit to the data and then transform it (used in transformers).\n",
    "- **`transform(X)`**: Apply the transformation learned from the fit method.\n",
    "\n",
    "### Example Usage\n",
    "\n",
    "Here’s a simple example of how to use an estimator in scikit-learn:"
   ]
  },
  {
   "cell_type": "code",
   "execution_count": null,
   "metadata": {},
   "outputs": [],
   "source": [
    "import numpy as np\n",
    "from sklearn.model_selection import train_test_split\n",
    "from sklearn.linear_model import LogisticRegression\n",
    "from sklearn.datasets import load_iris\n",
    "\n",
    "# Load dataset\n",
    "data = load_iris()\n",
    "X, y = data.data, data.target\n",
    "\n",
    "# Split into training and test sets\n",
    "X_train, X_test, y_train, y_test = train_test_split(X, y, test_size=0.2, random_state=42)\n",
    "\n",
    "# Create an estimator\n",
    "model = LogisticRegression()\n",
    "\n",
    "# Fit the model\n",
    "model.fit(X_train, y_train)\n",
    "\n",
    "# Make predictions\n",
    "predictions = model.predict(X_test)\n",
    "\n",
    "# Evaluate the model\n",
    "accuracy = model.score(X_test, y_test)\n",
    "print(f'Accuracy: {accuracy:.2f}')"
   ]
  },
  {
   "cell_type": "markdown",
   "metadata": {},
   "source": [
    "### Conclusion\n",
    "\n",
    "Estimators in scikit-learn provide a unified interface for various machine learning tasks, making it easier to implement and evaluate different models. You can explore more estimators and their parameters in the [scikit-learn documentation](https://scikit-learn.org/stable/supervised_learning.html). If you have a specific estimator or task in mind, let me know!"
   ]
  },
  {
   "cell_type": "code",
   "execution_count": null,
   "metadata": {},
   "outputs": [],
   "source": []
  }
 ],
 "metadata": {
  "kernelspec": {
   "display_name": "Python 3",
   "language": "python",
   "name": "python3"
  },
  "language_info": {
   "name": "python",
   "version": "3.12.4"
  }
 },
 "nbformat": 4,
 "nbformat_minor": 2
}
