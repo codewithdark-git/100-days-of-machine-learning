{
 "cells": [
  {
   "cell_type": "markdown",
   "metadata": {},
   "source": [
    "### Custom Estimator OR  Own ML Algorithm"
   ]
  },
  {
   "cell_type": "markdown",
   "metadata": {},
   "source": [
    "Creating a custom estimator in scikit-learn involves subclassing the `BaseEstimator` and `ClassifierMixin` or `RegressorMixin` classes (depending on whether you're building a classifier or regressor). This allows you to define your own machine learning model with custom behavior. Here's a step-by-step guide to creating a simple custom estimator:\n",
    "\n",
    "### Step 1: Import Required Libraries\n"
   ]
  },
  {
   "cell_type": "code",
   "execution_count": 1,
   "metadata": {},
   "outputs": [],
   "source": [
    "import numpy as np\n",
    "from sklearn.base import BaseEstimator, ClassifierMixin"
   ]
  },
  {
   "cell_type": "markdown",
   "metadata": {},
   "source": [
    "\n",
    "### Step 2: Define the Custom Estimator\n",
    "\n",
    "Here’s an example of a custom classifier that implements a simple nearest neighbor algorithm:"
   ]
  },
  {
   "cell_type": "code",
   "execution_count": 2,
   "metadata": {},
   "outputs": [],
   "source": [
    "class CustomKNN(BaseEstimator, ClassifierMixin):\n",
    "    def __init__(self, n_neighbors=3):\n",
    "        self.n_neighbors = n_neighbors\n",
    "\n",
    "    def fit(self, X, y):\n",
    "        self.X_train = X\n",
    "        self.y_train = y\n",
    "        return self  # To allow for method chaining\n",
    "\n",
    "    def predict(self, X):\n",
    "        predictions = []\n",
    "        for x in X:\n",
    "            # Compute distances from x to all points in the training set\n",
    "            distances = np.linalg.norm(self.X_train - x, axis=1)\n",
    "            # Get the indices of the n_neighbors closest points\n",
    "            indices = np.argsort(distances)[:self.n_neighbors]\n",
    "            # Get the most common class among the nearest neighbors\n",
    "            closest_labels = self.y_train[indices]\n",
    "            predictions.append(np.bincount(closest_labels).argmax())\n",
    "        return np.array(predictions)"
   ]
  },
  {
   "cell_type": "markdown",
   "metadata": {},
   "source": [
    "### Step 3: Using the Custom Estimator\n",
    "\n",
    "You can use your custom estimator just like any other scikit-learn model:"
   ]
  },
  {
   "cell_type": "code",
   "execution_count": 6,
   "metadata": {},
   "outputs": [
    {
     "name": "stdout",
     "output_type": "stream",
     "text": [
      "Accuracy: 1.00\n"
     ]
    }
   ],
   "source": [
    "from sklearn.datasets import load_iris\n",
    "from sklearn.model_selection import train_test_split\n",
    "from sklearn.metrics import accuracy_score\n",
    "\n",
    "# Load dataset\n",
    "data = load_iris()\n",
    "X, y = data.data, data.target\n",
    "\n",
    "# Split into training and test sets\n",
    "X_train, X_test, y_train, y_test = train_test_split(X, y, test_size=0.2, random_state=42)\n",
    "\n",
    "# Instantiate the custom estimator\n",
    "model = CustomKNN(n_neighbors=5)\n",
    "\n",
    "# Fit the model\n",
    "model.fit(X_train, y_train)\n",
    "\n",
    "# Make predictions\n",
    "predictions = model.predict(X_test)\n",
    "\n",
    "# Evaluate the model\n",
    "accuracy = accuracy_score(y_test, predictions)\n",
    "print(f'Accuracy: {accuracy:.2f}')"
   ]
  },
  {
   "cell_type": "markdown",
   "metadata": {},
   "source": [
    "### Step 4: Additional Features\n",
    "\n",
    "To enhance your custom estimator, you can also implement additional methods, such as:\n",
    "\n",
    "- **`score(X, y)`**: To compute the accuracy or other scoring metrics.\n",
    "- **`fit_predict(X, y)`**: To fit the model and return predictions in one step.\n",
    "- **Hyperparameter tuning**: You can implement parameter validation in the `__init__` method or create a `set_params` method.\n",
    "\n",
    "### Conclusion\n",
    "\n",
    "Custom estimators allow you to extend the functionality of scikit-learn and implement your own machine learning algorithms. The design pattern for custom estimators is flexible, allowing you to create models tailored to your specific needs. If you need more advanced features or specific functionality, feel free to ask!"
   ]
  },
  {
   "cell_type": "markdown",
   "metadata": {},
   "source": []
  }
 ],
 "metadata": {
  "kernelspec": {
   "display_name": "Python 3",
   "language": "python",
   "name": "python3"
  },
  "language_info": {
   "codemirror_mode": {
    "name": "ipython",
    "version": 3
   },
   "file_extension": ".py",
   "mimetype": "text/x-python",
   "name": "python",
   "nbconvert_exporter": "python",
   "pygments_lexer": "ipython3",
   "version": "3.12.4"
  }
 },
 "nbformat": 4,
 "nbformat_minor": 2
}
