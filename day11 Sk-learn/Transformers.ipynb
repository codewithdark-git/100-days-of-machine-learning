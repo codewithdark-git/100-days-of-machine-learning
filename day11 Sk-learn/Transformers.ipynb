{
 "cells": [
  {
   "cell_type": "markdown",
   "metadata": {},
   "source": [
    "### Transformers"
   ]
  },
  {
   "cell_type": "markdown",
   "metadata": {},
   "source": [
    "In scikit-learn, transformers are a category of estimators that are specifically designed to transform input data. They implement the `fit_transform` method, which allows them to learn from the data during the fitting process and then apply that learning to transform the data. Here's a more detailed breakdown:\n",
    "\n",
    "### Key Features of Transformers\n",
    "\n",
    "1. **Fitting the Model:**\n",
    "   - When you call the `fit` method on a transformer, it learns parameters from the training data. This could involve calculating statistics (like mean and standard deviation for scaling) or identifying categories for encoding.\n",
    "   - The `fit` method does not change the data; it simply prepares the transformer for transformation.\n",
    "\n",
    "2. **Transforming the Data:**\n",
    "   - After fitting the transformer, you can call the `transform` method to apply the learned parameters to the data.\n",
    "   - This method modifies the input data according to the learned parameters, producing a transformed output.\n",
    "\n",
    "3. **Fit-Transform Convenience Method:**\n",
    "   - The `fit_transform` method combines both the fitting and transforming steps into one. This is especially useful when you're working with training data.\n",
    "   - For example, when using `StandardScaler`, `fit_transform` calculates the mean and standard deviation of the features and then scales them in a single step.\n",
    "\n",
    "### Examples of Common Transformers\n",
    "\n",
    "1. **StandardScaler:**\n",
    "   - Standardizes features by removing the mean and scaling to unit variance.\n",
    "   ```python\n",
    "   from sklearn.preprocessing import StandardScaler\n",
    "\n",
    "   scaler = StandardScaler()\n",
    "   X_scaled = scaler.fit_transform(X)  # Learn and transform\n",
    "   ```\n",
    "\n",
    "2. **OneHotEncoder:**\n",
    "   - Converts categorical variables into a format that can be provided to machine learning algorithms to improve predictions.\n",
    "   ```python\n",
    "   from sklearn.preprocessing import OneHotEncoder\n",
    "\n",
    "   encoder = OneHotEncoder()\n",
    "   X_encoded = encoder.fit_transform(X_categorical)  # Learn and transform\n",
    "   ```\n",
    "\n",
    "3. **PCA (Principal Component Analysis):**\n",
    "   - A dimensionality reduction technique that transforms the features into a lower-dimensional space while retaining as much variance as possible.\n",
    "   ```python\n",
    "   from sklearn.decomposition import PCA\n",
    "\n",
    "   pca = PCA(n_components=2)\n",
    "   X_reduced = pca.fit_transform(X)  # Learn and transform\n",
    "   ```\n",
    "\n",
    "### Summary\n",
    "\n",
    "Transformers in scikit-learn play a crucial role in preprocessing data, making it suitable for machine learning models. They enable you to standardize, encode, and reduce dimensions of your data efficiently. By implementing the `fit_transform` method, they streamline the process of learning from data and applying transformations in a single step, thus enhancing the workflow for data preprocessing in machine learning pipelines. If you have specific questions about a particular transformer or use case, feel free to ask!"
   ]
  },
  {
   "cell_type": "markdown",
   "metadata": {},
   "source": []
  }
 ],
 "metadata": {
  "language_info": {
   "name": "python"
  }
 },
 "nbformat": 4,
 "nbformat_minor": 2
}
