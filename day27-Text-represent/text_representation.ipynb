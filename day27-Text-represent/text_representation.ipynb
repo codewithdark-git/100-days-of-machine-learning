{
  "cells": [
    {
      "cell_type": "markdown",
      "metadata": {
        "id": "3iKVSl7hDZJl"
      },
      "source": [
        "Use the following dataset - https://www.kaggle.com/lakshmi25npathi/imdb-dataset-of-50k-movie-reviews"
      ]
    },
    {
      "cell_type": "code",
      "execution_count": null,
      "metadata": {},
      "outputs": [],
      "source": [
        "!pip install kaggle"
      ]
    },
    {
      "cell_type": "code",
      "execution_count": null,
      "metadata": {},
      "outputs": [],
      "source": [
        "!kaggle datasets download -d lakshmi25npathi/imdb-dataset-of-50k-movie-reviews"
      ]
    },
    {
      "cell_type": "code",
      "execution_count": null,
      "metadata": {},
      "outputs": [],
      "source": [
        "# use this commend to unzip the file. work only in google colab \n",
        "!unzip imdb-dataset-of-50k-movie-reviews.zip "
      ]
    },
    {
      "cell_type": "code",
      "execution_count": null,
      "metadata": {},
      "outputs": [],
      "source": [
        "import zipfile\n",
        "\n",
        "# Unzip the downloaded file at every where\n",
        "with zipfile.ZipFile(\"imdb-dataset-of-50k-movie-reviews.zip\", \"r\") as zip_ref:\n",
        "    zip_ref.extractall(\".\")"
      ]
    },
    {
      "cell_type": "markdown",
      "metadata": {
        "id": "k-u5PN0TVfRd"
      },
      "source": [
        "# Problem 1\n",
        "\n",
        "### Apply all the preprocessing techniques that you think are necessary"
      ]
    },
    {
      "cell_type": "code",
      "execution_count": 9,
      "metadata": {
        "colab": {
          "base_uri": "https://localhost:8080/",
          "height": 206
        },
        "id": "-MnjNsGhDfCA",
        "outputId": "83227924-7488-4072-f02a-80e08d67c1e2"
      },
      "outputs": [
        {
          "data": {
            "text/html": [
              "<div>\n",
              "<style scoped>\n",
              "    .dataframe tbody tr th:only-of-type {\n",
              "        vertical-align: middle;\n",
              "    }\n",
              "\n",
              "    .dataframe tbody tr th {\n",
              "        vertical-align: top;\n",
              "    }\n",
              "\n",
              "    .dataframe thead th {\n",
              "        text-align: right;\n",
              "    }\n",
              "</style>\n",
              "<table border=\"1\" class=\"dataframe\">\n",
              "  <thead>\n",
              "    <tr style=\"text-align: right;\">\n",
              "      <th></th>\n",
              "      <th>review</th>\n",
              "      <th>sentiment</th>\n",
              "    </tr>\n",
              "  </thead>\n",
              "  <tbody>\n",
              "    <tr>\n",
              "      <th>0</th>\n",
              "      <td>One of the other reviewers has mentioned that ...</td>\n",
              "      <td>positive</td>\n",
              "    </tr>\n",
              "    <tr>\n",
              "      <th>1</th>\n",
              "      <td>A wonderful little production. &lt;br /&gt;&lt;br /&gt;The...</td>\n",
              "      <td>positive</td>\n",
              "    </tr>\n",
              "    <tr>\n",
              "      <th>2</th>\n",
              "      <td>I thought this was a wonderful way to spend ti...</td>\n",
              "      <td>positive</td>\n",
              "    </tr>\n",
              "    <tr>\n",
              "      <th>3</th>\n",
              "      <td>Basically there's a family where a little boy ...</td>\n",
              "      <td>negative</td>\n",
              "    </tr>\n",
              "    <tr>\n",
              "      <th>4</th>\n",
              "      <td>Petter Mattei's \"Love in the Time of Money\" is...</td>\n",
              "      <td>positive</td>\n",
              "    </tr>\n",
              "  </tbody>\n",
              "</table>\n",
              "</div>"
            ],
            "text/plain": [
              "                                              review sentiment\n",
              "0  One of the other reviewers has mentioned that ...  positive\n",
              "1  A wonderful little production. <br /><br />The...  positive\n",
              "2  I thought this was a wonderful way to spend ti...  positive\n",
              "3  Basically there's a family where a little boy ...  negative\n",
              "4  Petter Mattei's \"Love in the Time of Money\" is...  positive"
            ]
          },
          "execution_count": 9,
          "metadata": {},
          "output_type": "execute_result"
        }
      ],
      "source": [
        "import pandas as pd\n",
        "import numpy as np\n",
        "\n",
        "import matplotlib.pyplot as plt\n",
        "import seaborn as sns\n",
        "\n",
        "df = pd.read_csv('IMDB Dataset.csv')\n",
        "df.head()"
      ]
    },
    {
      "cell_type": "code",
      "execution_count": 3,
      "metadata": {
        "colab": {
          "base_uri": "https://localhost:8080/"
        },
        "id": "x6vZJ_NvWBGj",
        "outputId": "b754303f-a33d-4c2f-8aeb-08530c5d9229"
      },
      "outputs": [
        {
          "name": "stdout",
          "output_type": "stream",
          "text": [
            "<class 'pandas.core.frame.DataFrame'>\n",
            "RangeIndex: 50000 entries, 0 to 49999\n",
            "Data columns (total 2 columns):\n",
            " #   Column     Non-Null Count  Dtype \n",
            "---  ------     --------------  ----- \n",
            " 0   review     50000 non-null  object\n",
            " 1   sentiment  50000 non-null  object\n",
            "dtypes: object(2)\n",
            "memory usage: 781.4+ KB\n"
          ]
        }
      ],
      "source": [
        "df.info()"
      ]
    },
    {
      "cell_type": "code",
      "execution_count": 4,
      "metadata": {
        "colab": {
          "base_uri": "https://localhost:8080/",
          "height": 146
        },
        "id": "GL9pFBnXWje7",
        "outputId": "d1567f0e-c493-4f4d-8280-524bc1ee119d"
      },
      "outputs": [
        {
          "data": {
            "text/html": [
              "<div>\n",
              "<style scoped>\n",
              "    .dataframe tbody tr th:only-of-type {\n",
              "        vertical-align: middle;\n",
              "    }\n",
              "\n",
              "    .dataframe tbody tr th {\n",
              "        vertical-align: top;\n",
              "    }\n",
              "\n",
              "    .dataframe thead th {\n",
              "        text-align: right;\n",
              "    }\n",
              "</style>\n",
              "<table border=\"1\" class=\"dataframe\">\n",
              "  <thead>\n",
              "    <tr style=\"text-align: right;\">\n",
              "      <th></th>\n",
              "      <th>0</th>\n",
              "    </tr>\n",
              "  </thead>\n",
              "  <tbody>\n",
              "    <tr>\n",
              "      <th>review</th>\n",
              "      <td>0</td>\n",
              "    </tr>\n",
              "    <tr>\n",
              "      <th>sentiment</th>\n",
              "      <td>0</td>\n",
              "    </tr>\n",
              "  </tbody>\n",
              "</table>\n",
              "</div><br><label><b>dtype:</b> int64</label>"
            ],
            "text/plain": [
              "review       0\n",
              "sentiment    0\n",
              "dtype: int64"
            ]
          },
          "execution_count": 4,
          "metadata": {},
          "output_type": "execute_result"
        }
      ],
      "source": [
        "df.isnull().sum()"
      ]
    },
    {
      "cell_type": "code",
      "execution_count": 5,
      "metadata": {
        "colab": {
          "base_uri": "https://localhost:8080/"
        },
        "id": "b6T0VsQcWoUX",
        "outputId": "cd6b158c-b00d-4da5-8968-cacd48ee7b2c"
      },
      "outputs": [
        {
          "data": {
            "text/plain": [
              "418"
            ]
          },
          "execution_count": 5,
          "metadata": {},
          "output_type": "execute_result"
        }
      ],
      "source": [
        "df['review'].duplicated().sum()"
      ]
    },
    {
      "cell_type": "code",
      "execution_count": 6,
      "metadata": {
        "colab": {
          "base_uri": "https://localhost:8080/"
        },
        "id": "alPTYT4IXWl3",
        "outputId": "0cfca45b-7c80-45a5-d1c3-b90a88899ab7"
      },
      "outputs": [
        {
          "data": {
            "text/plain": [
              "50000"
            ]
          },
          "execution_count": 6,
          "metadata": {},
          "output_type": "execute_result"
        }
      ],
      "source": [
        "df['review'].value_counts().sum()"
      ]
    },
    {
      "cell_type": "code",
      "execution_count": 7,
      "metadata": {
        "colab": {
          "base_uri": "https://localhost:8080/",
          "height": 178
        },
        "id": "Po18cAokWzwQ",
        "outputId": "d1b522df-3e06-4042-844d-a97d9b174e92"
      },
      "outputs": [
        {
          "data": {
            "text/html": [
              "<div>\n",
              "<style scoped>\n",
              "    .dataframe tbody tr th:only-of-type {\n",
              "        vertical-align: middle;\n",
              "    }\n",
              "\n",
              "    .dataframe tbody tr th {\n",
              "        vertical-align: top;\n",
              "    }\n",
              "\n",
              "    .dataframe thead th {\n",
              "        text-align: right;\n",
              "    }\n",
              "</style>\n",
              "<table border=\"1\" class=\"dataframe\">\n",
              "  <thead>\n",
              "    <tr style=\"text-align: right;\">\n",
              "      <th></th>\n",
              "      <th>count</th>\n",
              "    </tr>\n",
              "    <tr>\n",
              "      <th>sentiment</th>\n",
              "      <th></th>\n",
              "    </tr>\n",
              "  </thead>\n",
              "  <tbody>\n",
              "    <tr>\n",
              "      <th>positive</th>\n",
              "      <td>25000</td>\n",
              "    </tr>\n",
              "    <tr>\n",
              "      <th>negative</th>\n",
              "      <td>25000</td>\n",
              "    </tr>\n",
              "  </tbody>\n",
              "</table>\n",
              "</div><br><label><b>dtype:</b> int64</label>"
            ],
            "text/plain": [
              "sentiment\n",
              "positive    25000\n",
              "negative    25000\n",
              "Name: count, dtype: int64"
            ]
          },
          "execution_count": 7,
          "metadata": {},
          "output_type": "execute_result"
        }
      ],
      "source": [
        "df['sentiment'].value_counts()"
      ]
    },
    {
      "cell_type": "code",
      "execution_count": 8,
      "metadata": {
        "colab": {
          "base_uri": "https://localhost:8080/",
          "height": 506
        },
        "id": "lr4H4LHZXqC1",
        "outputId": "35025d8f-911b-4235-eb4d-9b5712ea8b6d"
      },
      "outputs": [
        {
          "data": {
            "image/png": "[encoded data removed]",
            "text/plain": [
              "<Figure size 500x500 with 1 Axes>"
            ]
          },
          "metadata": {},
          "output_type": "display_data"
        }
      ],
      "source": [
        "sns.displot(df['sentiment'])\n",
        "plt.show()"
      ]
    },
    {
      "cell_type": "markdown",
      "metadata": {
        "id": "IqUz_tX-ZEsg"
      },
      "source": [
        "# Problem 2\n",
        "\n",
        "### Find out the number of words in the entire corpus and also the total number of unique words(vocabulary) using just python"
      ]
    },
    {
      "cell_type": "code",
      "execution_count": 16,
      "metadata": {
        "id": "VuVSlxaZDqsj"
      },
      "outputs": [],
      "source": [
        "# find the corpus of the dataset using combine all review\n",
        "corpus = ' '.join(df['review'])\n",
        "vocabulary = set(corpus.split())\n"
      ]
    },
    {
      "cell_type": "code",
      "execution_count": 17,
      "metadata": {
        "colab": {
          "base_uri": "https://localhost:8080/"
        },
        "id": "QSnOkbqlne_P",
        "outputId": "dedf6196-28fc-410f-c58d-6d0199fa6545"
      },
      "outputs": [
        {
          "name": "stdout",
          "output_type": "stream",
          "text": [
            "The total number of word in dataset review column is 65521550\n",
            "The total number of unique words in the entire corpus is 438729\n"
          ]
        }
      ],
      "source": [
        "print(f'The total number of word in dataset review column is {len(corpus)}')\n",
        "print(f'The total number of unique words in the entire corpus is {len(vocabulary)}')\n"
      ]
    },
    {
      "cell_type": "code",
      "execution_count": null,
      "metadata": {
        "id": "AYTlbXyYoXVu"
      },
      "outputs": [],
      "source": []
    },
    {
      "cell_type": "markdown",
      "metadata": {
        "id": "IUHLAhdGoYQx"
      },
      "source": [
        "# Problem 3\n",
        "\n",
        "### Apply One Hot Encoding"
      ]
    },
    {
      "cell_type": "code",
      "execution_count": 33,
      "metadata": {
        "id": "B9BcW8aLD4nr"
      },
      "outputs": [],
      "source": [
        "from sklearn.preprocessing import OneHotEncoder\n",
        "\n",
        "OHE = OneHotEncoder(max_categories=50)\n",
        "ohe = OHE.fit_transform(df[['review']]).toarray()\n"
      ]
    },
    {
      "cell_type": "code",
      "execution_count": 34,
      "metadata": {
        "colab": {
          "base_uri": "https://localhost:8080/"
        },
        "id": "yW9uQ5h6tVcf",
        "outputId": "bbe1d73c-9096-405a-a4ad-f3449ac71ebb"
      },
      "outputs": [
        {
          "data": {
            "text/plain": [
              "array([[0., 0., 0., ..., 0., 0., 1.],\n",
              "       [0., 0., 0., ..., 0., 0., 1.],\n",
              "       [0., 0., 0., ..., 0., 0., 1.],\n",
              "       ...,\n",
              "       [0., 0., 0., ..., 0., 0., 1.],\n",
              "       [0., 0., 0., ..., 0., 0., 1.],\n",
              "       [0., 0., 0., ..., 0., 0., 1.]])"
            ]
          },
          "execution_count": 34,
          "metadata": {},
          "output_type": "execute_result"
        }
      ],
      "source": [
        "ohe"
      ]
    },
    {
      "cell_type": "code",
      "execution_count": 35,
      "metadata": {
        "colab": {
          "base_uri": "https://localhost:8080/"
        },
        "id": "Q4YUn9fFtXT0",
        "outputId": "4b0edcd3-de2b-4e81-e218-816c4e6781d9"
      },
      "outputs": [
        {
          "data": {
            "text/plain": [
              "array([0., 0., 0., 0., 0., 0., 0., 0., 0., 0., 0., 0., 0., 0., 0., 0., 0.,\n",
              "       0., 0., 0., 0., 0., 0., 0., 0., 0., 0., 0., 0., 0., 0., 0., 0., 0.,\n",
              "       0., 0., 0., 0., 0., 0., 0., 0., 0., 0., 0., 0., 0., 0., 0., 1.])"
            ]
          },
          "execution_count": 35,
          "metadata": {},
          "output_type": "execute_result"
        }
      ],
      "source": [
        "ohe[0]"
      ]
    },
    {
      "cell_type": "code",
      "execution_count": 36,
      "metadata": {
        "colab": {
          "base_uri": "https://localhost:8080/"
        },
        "id": "jjnKgIGktcRO",
        "outputId": "bf42d749-87e8-4e20-f3ad-8e28a1ad5528"
      },
      "outputs": [
        {
          "data": {
            "text/plain": [
              "(50,)"
            ]
          },
          "execution_count": 36,
          "metadata": {},
          "output_type": "execute_result"
        }
      ],
      "source": [
        "ohe[0].shape"
      ]
    },
    {
      "cell_type": "code",
      "execution_count": 40,
      "metadata": {
        "colab": {
          "base_uri": "https://localhost:8080/"
        },
        "id": "38Dje9sntuiI",
        "outputId": "df223817-57f9-4fe3-ada6-71c22fe5ee28"
      },
      "outputs": [
        {
          "data": {
            "text/plain": [
              "50"
            ]
          },
          "execution_count": 40,
          "metadata": {},
          "output_type": "execute_result"
        }
      ],
      "source": [
        "ohe[0].size"
      ]
    },
    {
      "cell_type": "code",
      "execution_count": 39,
      "metadata": {
        "colab": {
          "base_uri": "https://localhost:8080/"
        },
        "id": "PJYjHzegtptI",
        "outputId": "e5aca2cd-dd3d-4e95-d91f-535965de659a"
      },
      "outputs": [
        {
          "data": {
            "text/plain": [
              "1"
            ]
          },
          "execution_count": 39,
          "metadata": {},
          "output_type": "execute_result"
        }
      ],
      "source": [
        "ohe[0].ndim"
      ]
    },
    {
      "cell_type": "code",
      "execution_count": 38,
      "metadata": {
        "colab": {
          "base_uri": "https://localhost:8080/"
        },
        "id": "eUIqk9gctnsm",
        "outputId": "913e4651-2134-445e-d7a6-cbd4a0be5acb"
      },
      "outputs": [
        {
          "data": {
            "text/plain": [
              "2"
            ]
          },
          "execution_count": 38,
          "metadata": {},
          "output_type": "execute_result"
        }
      ],
      "source": [
        "ohe.ndim"
      ]
    },
    {
      "cell_type": "code",
      "execution_count": 37,
      "metadata": {
        "colab": {
          "base_uri": "https://localhost:8080/"
        },
        "id": "OSwQr0O8tiYH",
        "outputId": "21ec2aac-4128-4fb1-bf7c-ab55c0a57f0c"
      },
      "outputs": [
        {
          "data": {
            "text/plain": [
              "(50000, 50)"
            ]
          },
          "execution_count": 37,
          "metadata": {},
          "output_type": "execute_result"
        }
      ],
      "source": [
        "ohe.shape"
      ]
    },
    {
      "cell_type": "markdown",
      "metadata": {
        "id": "NVsBmBf_reI_"
      },
      "source": [
        "#### By default, the `max_categories` parameter in OneHotEncoder is set to None, meaning there is no limit on the number of categories. This will one-hot encode all unique categories found in the data."
      ]
    },
    {
      "cell_type": "code",
      "execution_count": 26,
      "metadata": {
        "colab": {
          "base_uri": "https://localhost:8080/"
        },
        "id": "LpgDVYH_q4Hn",
        "outputId": "18b52460-2b75-457b-d9cb-be64247a1c24"
      },
      "outputs": [
        {
          "data": {
            "text/plain": [
              "array([[0., 0., 0., ..., 0., 0., 0.],\n",
              "       [0., 0., 0., ..., 0., 0., 0.],\n",
              "       [0., 0., 0., ..., 0., 0., 0.],\n",
              "       ...,\n",
              "       [0., 0., 0., ..., 0., 0., 0.],\n",
              "       [0., 0., 0., ..., 0., 0., 0.],\n",
              "       [0., 0., 0., ..., 0., 0., 0.]])"
            ]
          },
          "execution_count": 26,
          "metadata": {},
          "output_type": "execute_result"
        }
      ],
      "source": [
        "ohe"
      ]
    },
    {
      "cell_type": "code",
      "execution_count": 30,
      "metadata": {
        "colab": {
          "base_uri": "https://localhost:8080/"
        },
        "id": "UflDvY0erGdK",
        "outputId": "5feeb642-6cac-4ecd-b4ad-1a04fb6f1115"
      },
      "outputs": [
        {
          "data": {
            "text/plain": [
              "49582"
            ]
          },
          "execution_count": 30,
          "metadata": {},
          "output_type": "execute_result"
        }
      ],
      "source": [
        "ohe[0].size"
      ]
    },
    {
      "cell_type": "code",
      "execution_count": 32,
      "metadata": {
        "colab": {
          "base_uri": "https://localhost:8080/"
        },
        "id": "lrSt4TUXrTtG",
        "outputId": "7c287cfc-6ae7-4282-dbe7-b0f3a33e0f85"
      },
      "outputs": [
        {
          "data": {
            "text/plain": [
              "(49582,)"
            ]
          },
          "execution_count": 32,
          "metadata": {},
          "output_type": "execute_result"
        }
      ],
      "source": [
        "ohe[0].shape"
      ]
    },
    {
      "cell_type": "code",
      "execution_count": 25,
      "metadata": {
        "colab": {
          "base_uri": "https://localhost:8080/"
        },
        "id": "HpyupYy1qZrV",
        "outputId": "f9e0d353-47be-4afe-af90-65e2722e02d8"
      },
      "outputs": [
        {
          "data": {
            "text/plain": [
              "(50000, 49582)"
            ]
          },
          "execution_count": 25,
          "metadata": {},
          "output_type": "execute_result"
        }
      ],
      "source": [
        "ohe.shape"
      ]
    },
    {
      "cell_type": "code",
      "execution_count": 28,
      "metadata": {
        "colab": {
          "base_uri": "https://localhost:8080/"
        },
        "id": "7BKArm8Sq-Cu",
        "outputId": "d1376689-1be7-4e6d-fc6a-cebfcd02861c"
      },
      "outputs": [
        {
          "data": {
            "text/plain": [
              "2"
            ]
          },
          "execution_count": 28,
          "metadata": {},
          "output_type": "execute_result"
        }
      ],
      "source": [
        "ohe.ndim"
      ]
    },
    {
      "cell_type": "code",
      "execution_count": 27,
      "metadata": {
        "colab": {
          "base_uri": "https://localhost:8080/"
        },
        "id": "QhtPJ0a7q6gT",
        "outputId": "85880e7e-b038-4406-b4f8-a2f317c51051"
      },
      "outputs": [
        {
          "data": {
            "text/plain": [
              "2479100000"
            ]
          },
          "execution_count": 27,
          "metadata": {},
          "output_type": "execute_result"
        }
      ],
      "source": [
        "ohe.size"
      ]
    },
    {
      "cell_type": "markdown",
      "metadata": {
        "id": "IVnm-kAIt06i"
      },
      "source": [
        "# Problem 4\n",
        "\n",
        "### Apply bag words and find the vocabulary also find the times each word has occured"
      ]
    },
    {
      "cell_type": "markdown",
      "metadata": {},
      "source": [
        "#### Not specify the max_features parameter"
      ]
    },
    {
      "cell_type": "markdown",
      "metadata": {},
      "source": [
        "```This error occurs because your system doesn’t have enough memory to convert a large sparse matrix to a dense NumPy array. The shape (50000, 101895) suggests that you have 50,000 samples and 101,895 unique features, which requires around 38 GB of memory when stored as a dense matrix. When you do not specify the max_features parameter, the vectorizer includes all unique features, which can lead to memory issues for large datasets.```"
      ]
    },
    {
      "cell_type": "code",
      "execution_count": 11,
      "metadata": {
        "id": "tSQ9sf6NFSTb"
      },
      "outputs": [],
      "source": [
        "from sklearn.feature_extraction.text import CountVectorizer\n",
        "\n",
        "cv = CountVectorizer()\n",
        "bow = cv.fit_transform(df['review'])"
      ]
    },
    {
      "cell_type": "code",
      "execution_count": 14,
      "metadata": {},
      "outputs": [
        {
          "data": {
            "text/plain": [
              "(50000, 101895)"
            ]
          },
          "execution_count": 14,
          "metadata": {},
          "output_type": "execute_result"
        }
      ],
      "source": [
        "bow.shape"
      ]
    },
    {
      "cell_type": "code",
      "execution_count": 16,
      "metadata": {},
      "outputs": [
        {
          "data": {
            "text/plain": [
              "6826529"
            ]
          },
          "execution_count": 16,
          "metadata": {},
          "output_type": "execute_result"
        }
      ],
      "source": [
        "bow.size"
      ]
    },
    {
      "cell_type": "code",
      "execution_count": 17,
      "metadata": {},
      "outputs": [
        {
          "data": {
            "text/plain": [
              "2"
            ]
          },
          "execution_count": 17,
          "metadata": {},
          "output_type": "execute_result"
        }
      ],
      "source": [
        "bow.ndim"
      ]
    },
    {
      "cell_type": "code",
      "execution_count": 22,
      "metadata": {},
      "outputs": [
        {
          "data": {
            "text/plain": [
              "(1, 101895)"
            ]
          },
          "execution_count": 22,
          "metadata": {},
          "output_type": "execute_result"
        }
      ],
      "source": [
        "bow[0].toarray().shape"
      ]
    },
    {
      "cell_type": "code",
      "execution_count": 23,
      "metadata": {},
      "outputs": [
        {
          "data": {
            "text/plain": [
              "2"
            ]
          },
          "execution_count": 23,
          "metadata": {},
          "output_type": "execute_result"
        }
      ],
      "source": [
        "bow[0].toarray().ndim"
      ]
    },
    {
      "cell_type": "code",
      "execution_count": 30,
      "metadata": {},
      "outputs": [
        {
          "data": {
            "text/plain": [
              "1000"
            ]
          },
          "execution_count": 30,
          "metadata": {},
          "output_type": "execute_result"
        }
      ],
      "source": [
        "len(cv.vocabulary_)"
      ]
    },
    {
      "cell_type": "code",
      "execution_count": 36,
      "metadata": {},
      "outputs": [
        {
          "data": {
            "text/plain": [
              "1000"
            ]
          },
          "execution_count": 36,
          "metadata": {},
          "output_type": "execute_result"
        }
      ],
      "source": [
        "cv.get_feature_names_out().size"
      ]
    },
    {
      "cell_type": "code",
      "execution_count": 33,
      "metadata": {},
      "outputs": [
        {
          "data": {
            "text/plain": [
              "array([208, 619,   2, ...,   1,   1,   1])"
            ]
          },
          "execution_count": 33,
          "metadata": {},
          "output_type": "execute_result"
        }
      ],
      "source": [
        "bow.sum(axis=0).A1"
      ]
    },
    {
      "cell_type": "code",
      "execution_count": 34,
      "metadata": {},
      "outputs": [
        {
          "data": {
            "text/plain": [
              "101895"
            ]
          },
          "execution_count": 34,
          "metadata": {},
          "output_type": "execute_result"
        }
      ],
      "source": [
        "bow.sum(axis=0).A1.size"
      ]
    },
    {
      "cell_type": "markdown",
      "metadata": {},
      "source": [
        "#### specify the max_features parameter"
      ]
    },
    {
      "cell_type": "code",
      "execution_count": 48,
      "metadata": {},
      "outputs": [],
      "source": [
        "from sklearn.feature_extraction.text import CountVectorizer\n",
        "\n",
        "cv = CountVectorizer(max_features=1200)\n",
        "bow = cv.fit_transform(df['review']).toarray()"
      ]
    },
    {
      "cell_type": "code",
      "execution_count": 49,
      "metadata": {},
      "outputs": [
        {
          "data": {
            "text/plain": [
              "array([[0, 0, 0, ..., 1, 0, 0],\n",
              "       [0, 0, 0, ..., 0, 0, 0],\n",
              "       [0, 0, 0, ..., 0, 0, 0],\n",
              "       ...,\n",
              "       [0, 0, 0, ..., 0, 0, 0],\n",
              "       [0, 0, 0, ..., 0, 0, 0],\n",
              "       [0, 0, 0, ..., 0, 0, 0]])"
            ]
          },
          "execution_count": 49,
          "metadata": {},
          "output_type": "execute_result"
        }
      ],
      "source": [
        "bow"
      ]
    },
    {
      "cell_type": "code",
      "execution_count": 50,
      "metadata": {},
      "outputs": [
        {
          "data": {
            "text/plain": [
              "array([0, 0, 0, ..., 1, 0, 0])"
            ]
          },
          "execution_count": 50,
          "metadata": {},
          "output_type": "execute_result"
        }
      ],
      "source": [
        "bow[0]"
      ]
    },
    {
      "cell_type": "code",
      "execution_count": 51,
      "metadata": {},
      "outputs": [
        {
          "data": {
            "text/plain": [
              "(1200,)"
            ]
          },
          "execution_count": 51,
          "metadata": {},
          "output_type": "execute_result"
        }
      ],
      "source": [
        "bow[0].shape"
      ]
    },
    {
      "cell_type": "code",
      "execution_count": 52,
      "metadata": {},
      "outputs": [
        {
          "data": {
            "text/plain": [
              "1"
            ]
          },
          "execution_count": 52,
          "metadata": {},
          "output_type": "execute_result"
        }
      ],
      "source": [
        "bow[0].ndim\n"
      ]
    },
    {
      "cell_type": "code",
      "execution_count": 53,
      "metadata": {},
      "outputs": [
        {
          "data": {
            "text/plain": [
              "1200"
            ]
          },
          "execution_count": 53,
          "metadata": {},
          "output_type": "execute_result"
        }
      ],
      "source": [
        "cv.get_feature_names_out().size"
      ]
    },
    {
      "cell_type": "code",
      "execution_count": 54,
      "metadata": {},
      "outputs": [
        {
          "data": {
            "text/plain": [
              "1200"
            ]
          },
          "execution_count": 54,
          "metadata": {},
          "output_type": "execute_result"
        }
      ],
      "source": [
        "len(cv.vocabulary_)"
      ]
    },
    {
      "cell_type": "code",
      "execution_count": 57,
      "metadata": {},
      "outputs": [
        {
          "data": {
            "text/plain": [
              "array([ 8614,   928,  1037, ..., 11497,  1930,  1176])"
            ]
          },
          "execution_count": 57,
          "metadata": {},
          "output_type": "execute_result"
        }
      ],
      "source": [
        "bow.sum(axis=0)"
      ]
    },
    {
      "cell_type": "markdown",
      "metadata": {},
      "source": [
        "# Problem 5\n",
        "\n",
        "### Apply bag of bi-gram and bag of tri-gram and write down your observation about the dimensionality of the vocabulary"
      ]
    },
    {
      "cell_type": "markdown",
      "metadata": {},
      "source": [
        "#### Bi-gram"
      ]
    },
    {
      "cell_type": "code",
      "execution_count": 58,
      "metadata": {
        "id": "vR8LnGwZFbhD"
      },
      "outputs": [],
      "source": [
        "from sklearn.feature_extraction.text import CountVectorizer\n",
        "\n",
        "cv = CountVectorizer(max_features=1000, ngram_range=(2,2))\n",
        "bow = cv.fit_transform(df['review']).toarray()"
      ]
    },
    {
      "cell_type": "code",
      "execution_count": 59,
      "metadata": {},
      "outputs": [
        {
          "data": {
            "text/plain": [
              "array([[0, 0, 0, ..., 0, 0, 0],\n",
              "       [0, 0, 0, ..., 0, 0, 0],\n",
              "       [0, 0, 0, ..., 0, 0, 0],\n",
              "       ...,\n",
              "       [0, 0, 0, ..., 0, 0, 0],\n",
              "       [0, 0, 1, ..., 0, 0, 0],\n",
              "       [0, 0, 1, ..., 0, 0, 0]])"
            ]
          },
          "execution_count": 59,
          "metadata": {},
          "output_type": "execute_result"
        }
      ],
      "source": [
        "bow"
      ]
    },
    {
      "cell_type": "code",
      "execution_count": 63,
      "metadata": {},
      "outputs": [
        {
          "data": {
            "text/plain": [
              "50000000"
            ]
          },
          "execution_count": 63,
          "metadata": {},
          "output_type": "execute_result"
        }
      ],
      "source": [
        "bow.size"
      ]
    },
    {
      "cell_type": "code",
      "execution_count": 62,
      "metadata": {},
      "outputs": [
        {
          "data": {
            "text/plain": [
              "2"
            ]
          },
          "execution_count": 62,
          "metadata": {},
          "output_type": "execute_result"
        }
      ],
      "source": [
        "bow.ndim"
      ]
    },
    {
      "cell_type": "code",
      "execution_count": 65,
      "metadata": {},
      "outputs": [
        {
          "data": {
            "text/plain": [
              "(50000, 1000)"
            ]
          },
          "execution_count": 65,
          "metadata": {},
          "output_type": "execute_result"
        }
      ],
      "source": [
        "bow.shape"
      ]
    },
    {
      "cell_type": "code",
      "execution_count": 64,
      "metadata": {},
      "outputs": [
        {
          "data": {
            "text/plain": [
              "(1000,)"
            ]
          },
          "execution_count": 64,
          "metadata": {},
          "output_type": "execute_result"
        }
      ],
      "source": [
        "bow[0].shape"
      ]
    },
    {
      "cell_type": "code",
      "execution_count": 66,
      "metadata": {},
      "outputs": [
        {
          "data": {
            "text/plain": [
              "1"
            ]
          },
          "execution_count": 66,
          "metadata": {},
          "output_type": "execute_result"
        }
      ],
      "source": [
        "bow[0].ndim"
      ]
    },
    {
      "cell_type": "code",
      "execution_count": 70,
      "metadata": {},
      "outputs": [
        {
          "data": {
            "text/plain": [
              "{'one of': np.int64(579),\n",
              " 'of the': np.int64(555),\n",
              " 'the other': np.int64(747),\n",
              " 'you ll': np.int64(989),\n",
              " 'they are': np.int64(795),\n",
              " 'as this': np.int64(98),\n",
              " 'this is': np.int64(812),\n",
              " 'br br': np.int64(133),\n",
              " 'br the': np.int64(141),\n",
              " 'the first': np.int64(719),\n",
              " 'thing that': np.int64(804),\n",
              " 'set in': np.int64(643),\n",
              " 'from the': np.int64(256),\n",
              " 'is not': np.int64(369),\n",
              " 'for the': np.int64(249),\n",
              " 'this show': np.int64(815),\n",
              " 'in the': np.int64(346),\n",
              " 'use of': np.int64(885),\n",
              " 'br it': np.int64(137),\n",
              " 'it is': np.int64(406),\n",
              " 'that is': np.int64(677),\n",
              " 'is the': np.int64(381),\n",
              " 'to the': np.int64(861),\n",
              " 'all the': np.int64(13),\n",
              " 'on the': np.int64(573),\n",
              " 'and more': np.int64(47),\n",
              " 'the main': np.int64(732),\n",
              " 'the show': np.int64(768),\n",
              " 'show is': np.int64(649),\n",
              " 'due to': np.int64(201),\n",
              " 'the fact': np.int64(715),\n",
              " 'fact that': np.int64(214),\n",
              " 'that it': np.int64(678),\n",
              " 'around the': np.int64(84),\n",
              " 'it was': np.int64(426),\n",
              " 'for it': np.int64(244),\n",
              " 'it but': np.int64(395),\n",
              " 'but as': np.int64(147),\n",
              " 'not just': np.int64(528),\n",
              " 'out for': np.int64(592),\n",
              " 'with it': np.int64(967),\n",
              " 'to their': np.int64(862),\n",
              " 'lack of': np.int64(438),\n",
              " 'what is': np.int64(935),\n",
              " 'if you': np.int64(330),\n",
              " 'you can': np.int64(982),\n",
              " 'can get': np.int64(170),\n",
              " 'is very': np.int64(385),\n",
              " 'sense of': np.int64(641),\n",
              " 'the entire': np.int64(714),\n",
              " 'the actors': np.int64(694),\n",
              " 'not only': np.int64(529),\n",
              " 'but he': np.int64(149),\n",
              " 'he has': np.int64(301),\n",
              " 'see the': np.int64(632),\n",
              " 'by the': np.int64(167),\n",
              " 'is it': np.int64(365),\n",
              " 'but it': np.int64(153),\n",
              " 'the great': np.int64(722),\n",
              " 'and his': np.int64(39),\n",
              " 'his life': np.int64(314),\n",
              " 'with the': np.int64(971),\n",
              " 'rather than': np.int64(615),\n",
              " 'the scenes': np.int64(763),\n",
              " 'and the': np.int64(59),\n",
              " 'of their': np.int64(556),\n",
              " 'well done': np.int64(932),\n",
              " 'this was': np.int64(818),\n",
              " 'way to': np.int64(924),\n",
              " 'the plot': np.int64(752),\n",
              " 'plot is': np.int64(610),\n",
              " 'but the': np.int64(158),\n",
              " 'the dialogue': np.int64(708),\n",
              " 'the characters': np.int64(705),\n",
              " 'characters are': np.int64(177),\n",
              " 'even the': np.int64(208),\n",
              " 'may be': np.int64(474),\n",
              " 'when they': np.int64(945),\n",
              " 'thought it': np.int64(822),\n",
              " 'is still': np.int64(379),\n",
              " 'many of': np.int64(472),\n",
              " 'of us': np.int64(562),\n",
              " 'br this': np.int64(143),\n",
              " 'was the': np.int64(911),\n",
              " 'the most': np.int64(736),\n",
              " 'in this': np.int64(348),\n",
              " 'may not': np.int64(476),\n",
              " 'not be': np.int64(524),\n",
              " 'be the': np.int64(117),\n",
              " 'of his': np.int64(544),\n",
              " 'to go': np.int64(837),\n",
              " 'in his': np.int64(337),\n",
              " 'the time': np.int64(773),\n",
              " 'this movie': np.int64(813),\n",
              " 'movie is': np.int64(497),\n",
              " 'decides to': np.int64(188),\n",
              " 'first of': np.int64(236),\n",
              " 'of all': np.int64(537),\n",
              " 'when you': np.int64(947),\n",
              " 'you re': np.int64(991),\n",
              " 'going to': np.int64(269),\n",
              " 'to make': np.int64(849),\n",
              " 'the movie': np.int64(737),\n",
              " 'real life': np.int64(617),\n",
              " 'life and': np.int64(440),\n",
              " 'and then': np.int64(61),\n",
              " 'we have': np.int64(928),\n",
              " 'with his': np.int64(966),\n",
              " 'the film': np.int64(717),\n",
              " 'to see': np.int64(857),\n",
              " 'movie and': np.int64(490),\n",
              " 'with some': np.int64(969),\n",
              " 'out of': np.int64(594),\n",
              " 'of 10': np.int64(536),\n",
              " 'as for': np.int64(87),\n",
              " 'film to': np.int64(230),\n",
              " 'to watch': np.int64(866),\n",
              " 'movie that': np.int64(499),\n",
              " 'seems to': np.int64(636),\n",
              " 'to be': np.int64(830),\n",
              " 'people in': np.int64(602),\n",
              " 'about the': np.int64(2),\n",
              " 'the same': np.int64(761),\n",
              " 'the director': np.int64(709),\n",
              " 'the action': np.int64(693),\n",
              " 'new york': np.int64(520),\n",
              " 'one is': np.int64(578),\n",
              " 'in one': np.int64(342),\n",
              " 'the next': np.int64(741),\n",
              " 'no one': np.int64(521),\n",
              " 'to know': np.int64(846),\n",
              " 'know the': np.int64(436),\n",
              " 'point of': np.int64(611),\n",
              " 'film has': np.int64(223),\n",
              " 'we are': np.int64(925),\n",
              " 'see how': np.int64(630),\n",
              " 'the world': np.int64(782),\n",
              " 'in their': np.int64(347),\n",
              " 'their own': np.int64(785),\n",
              " 'the only': np.int64(744),\n",
              " 'only thing': np.int64(583),\n",
              " 'the picture': np.int64(751),\n",
              " 'the best': np.int64(698),\n",
              " 'place in': np.int64(605),\n",
              " 'in which': np.int64(349),\n",
              " 'as one': np.int64(94),\n",
              " 'the case': np.int64(702),\n",
              " 'most of': np.int64(488),\n",
              " 'the people': np.int64(750),\n",
              " 'the acting': np.int64(692),\n",
              " 'acting is': np.int64(5),\n",
              " 'is good': np.int64(362),\n",
              " 'the rest': np.int64(758),\n",
              " 'rest of': np.int64(619),\n",
              " 'for his': np.int64(243),\n",
              " 'all time': np.int64(15),\n",
              " 'story of': np.int64(664),\n",
              " 'it not': np.int64(413),\n",
              " 'it just': np.int64(409),\n",
              " 'seen it': np.int64(638),\n",
              " 'the last': np.int64(729),\n",
              " 'to my': np.int64(852),\n",
              " 'of her': np.int64(543),\n",
              " 'more like': np.int64(485),\n",
              " 'but that': np.int64(157),\n",
              " 'up for': np.int64(879),\n",
              " 'for this': np.int64(251),\n",
              " 'like to': np.int64(445),\n",
              " 'they have': np.int64(801),\n",
              " 'it would': np.int64(430),\n",
              " 'up on': np.int64(881),\n",
              " 'you have': np.int64(986),\n",
              " 'and this': np.int64(64),\n",
              " 'the way': np.int64(780),\n",
              " 'for an': np.int64(239),\n",
              " 'like this': np.int64(444),\n",
              " 'would be': np.int64(975),\n",
              " 'let me': np.int64(439),\n",
              " 'out to': np.int64(598),\n",
              " 'be in': np.int64(116),\n",
              " 'and have': np.int64(36),\n",
              " 'me to': np.int64(480),\n",
              " 'if this': np.int64(329),\n",
              " 'is so': np.int64(378),\n",
              " 'do it': np.int64(192),\n",
              " 'was an': np.int64(898),\n",
              " 'when it': np.int64(942),\n",
              " 'was not': np.int64(905),\n",
              " 'and it': np.int64(44),\n",
              " 'waste of': np.int64(913),\n",
              " 'of time': np.int64(561),\n",
              " 'time it': np.int64(826),\n",
              " 'if not': np.int64(326),\n",
              " 'find it': np.int64(234),\n",
              " 'it so': np.int64(419),\n",
              " 'hard to': np.int64(283),\n",
              " 'to believe': np.int64(831),\n",
              " 'believe that': np.int64(125),\n",
              " 'that the': np.int64(683),\n",
              " 'the original': np.int64(746),\n",
              " 'it with': np.int64(429),\n",
              " 'as it': np.int64(92),\n",
              " 'is just': np.int64(366),\n",
              " 'it still': np.int64(420),\n",
              " 'about this': np.int64(3),\n",
              " 'this film': np.int64(811),\n",
              " 'watching this': np.int64(921),\n",
              " 've seen': np.int64(889),\n",
              " 'the worst': np.int64(783),\n",
              " 'of them': np.int64(557),\n",
              " 'and is': np.int64(43),\n",
              " 'have been': np.int64(289),\n",
              " 'the end': np.int64(712),\n",
              " 'of film': np.int64(542),\n",
              " 'film br': np.int64(220),\n",
              " 'from his': np.int64(255),\n",
              " 'his best': np.int64(312),\n",
              " 'at least': np.int64(104),\n",
              " 'bit of': np.int64(128),\n",
              " 'of an': np.int64(538),\n",
              " 'you like': np.int64(988),\n",
              " 'you will': np.int64(997),\n",
              " 'you are': np.int64(981),\n",
              " 'then you': np.int64(789),\n",
              " 'it br': np.int64(394),\n",
              " 'is one': np.int64(372),\n",
              " 'of those': np.int64(560),\n",
              " 'where the': np.int64(949),\n",
              " 'at first': np.int64(103),\n",
              " 'was very': np.int64(912),\n",
              " 'as the': np.int64(96),\n",
              " 'low budget': np.int64(455),\n",
              " 'there were': np.int64(794),\n",
              " 'who is': np.int64(958),\n",
              " 'saw this': np.int64(624),\n",
              " 'when was': np.int64(946),\n",
              " 'came out': np.int64(168),\n",
              " 'the big': np.int64(699),\n",
              " 'br as': np.int64(132),\n",
              " 'movies that': np.int64(507),\n",
              " 'might be': np.int64(482),\n",
              " 'when the': np.int64(944),\n",
              " 'year old': np.int64(978),\n",
              " 'br but': np.int64(134),\n",
              " 'out and': np.int64(591),\n",
              " 'up and': np.int64(878),\n",
              " 'up the': np.int64(882),\n",
              " 'the story': np.int64(771),\n",
              " 'make it': np.int64(463),\n",
              " 'it up': np.int64(424),\n",
              " 'up to': np.int64(883),\n",
              " 'and not': np.int64(50),\n",
              " 'there are': np.int64(790),\n",
              " 'fan of': np.int64(215),\n",
              " 'but then': np.int64(159),\n",
              " 'only one': np.int64(582),\n",
              " 'before the': np.int64(123),\n",
              " 'people who': np.int64(603),\n",
              " 'who have': np.int64(957),\n",
              " 'should be': np.int64(647),\n",
              " 'that this': np.int64(686),\n",
              " 'along with': np.int64(17),\n",
              " 'to play': np.int64(853),\n",
              " 'so the': np.int64(657),\n",
              " 'played by': np.int64(606),\n",
              " 'is pretty': np.int64(374),\n",
              " 'the whole': np.int64(781),\n",
              " 'know what': np.int64(437),\n",
              " 'what he': np.int64(934),\n",
              " 'when he': np.int64(941),\n",
              " 'he was': np.int64(303),\n",
              " 'however the': np.int64(322),\n",
              " 'film is': np.int64(225),\n",
              " 'we see': np.int64(930),\n",
              " 'as they': np.int64(97),\n",
              " 'me of': np.int64(478),\n",
              " 'for some': np.int64(247),\n",
              " 'go on': np.int64(265),\n",
              " 'see this': np.int64(633),\n",
              " 'movie you': np.int64(504),\n",
              " 'will not': np.int64(961),\n",
              " 'of it': np.int64(546),\n",
              " 'it will': np.int64(428),\n",
              " 'br there': np.int64(142),\n",
              " 'are some': np.int64(81),\n",
              " 'that would': np.int64(690),\n",
              " 'such as': np.int64(665),\n",
              " 'until the': np.int64(877),\n",
              " 'the scene': np.int64(762),\n",
              " 'for you': np.int64(253),\n",
              " 'on screen': np.int64(572),\n",
              " 'the cast': np.int64(703),\n",
              " 'trying to': np.int64(874),\n",
              " 'because the': np.int64(121),\n",
              " 'my favorite': np.int64(516),\n",
              " 'do not': np.int64(193),\n",
              " 'is that': np.int64(380),\n",
              " 'tried to': np.int64(871),\n",
              " 'to do': np.int64(833),\n",
              " 'br in': np.int64(136),\n",
              " 'have no': np.int64(292),\n",
              " 'have to': np.int64(295),\n",
              " 'to keep': np.int64(844),\n",
              " 'say that': np.int64(625),\n",
              " 'movie as': np.int64(491),\n",
              " 'does not': np.int64(195),\n",
              " 'but this': np.int64(162),\n",
              " 'the soundtrack': np.int64(769),\n",
              " 'the man': np.int64(733),\n",
              " 'movie to': np.int64(501),\n",
              " 'kind of': np.int64(434),\n",
              " 'only to': np.int64(584),\n",
              " 'was one': np.int64(906),\n",
              " 've ever': np.int64(888),\n",
              " 'ever seen': np.int64(211),\n",
              " 'sort of': np.int64(660),\n",
              " 'high school': np.int64(308),\n",
              " 'what was': np.int64(939),\n",
              " 'and what': np.int64(69),\n",
              " 'with all': np.int64(962),\n",
              " 'characters in': np.int64(178),\n",
              " 'in that': np.int64(345),\n",
              " 'to get': np.int64(835),\n",
              " 'with this': np.int64(973),\n",
              " 'this one': np.int64(814),\n",
              " 'lots of': np.int64(452),\n",
              " 'after all': np.int64(7),\n",
              " 'with that': np.int64(970),\n",
              " 'give this': np.int64(264),\n",
              " 'it like': np.int64(410),\n",
              " 'that could': np.int64(672),\n",
              " 'could have': np.int64(184),\n",
              " 'in and': np.int64(333),\n",
              " 'and of': np.int64(51),\n",
              " 'film but': np.int64(221),\n",
              " 'as he': np.int64(89),\n",
              " 'and most': np.int64(48),\n",
              " 'up with': np.int64(884),\n",
              " 'did not': np.int64(190),\n",
              " 'the right': np.int64(759),\n",
              " 'the character': np.int64(704),\n",
              " 'in it': np.int64(338),\n",
              " 'some of': np.int64(658),\n",
              " 'film in': np.int64(224),\n",
              " 'special effects': np.int64(661),\n",
              " 'that in': np.int64(676),\n",
              " 'but you': np.int64(165),\n",
              " 'much more': np.int64(510),\n",
              " 'made it': np.int64(458),\n",
              " 'of my': np.int64(550),\n",
              " 'there was': np.int64(793),\n",
              " 'they were': np.int64(803),\n",
              " 'had no': np.int64(279),\n",
              " 'wanted to': np.int64(895),\n",
              " 'at the': np.int64(105),\n",
              " 'the final': np.int64(718),\n",
              " 'the old': np.int64(742),\n",
              " 'the beginning': np.int64(697),\n",
              " 'br and': np.int64(131),\n",
              " 'time and': np.int64(825),\n",
              " 'could not': np.int64(185),\n",
              " 'if it': np.int64(325),\n",
              " 'much of': np.int64(511),\n",
              " 'to say': np.int64(856),\n",
              " 'film it': np.int64(226),\n",
              " 'back in': np.int64(110),\n",
              " 'also the': np.int64(18),\n",
              " 'to find': np.int64(834),\n",
              " 'on dvd': np.int64(568),\n",
              " 'has been': np.int64(284),\n",
              " 'which is': np.int64(950),\n",
              " 'have seen': np.int64(293),\n",
              " 'seen this': np.int64(640),\n",
              " 'any other': np.int64(74),\n",
              " 'like it': np.int64(441),\n",
              " 'must have': np.int64(514),\n",
              " 'not that': np.int64(531),\n",
              " 'that they': np.int64(685),\n",
              " 'if the': np.int64(327),\n",
              " 'of this': np.int64(559),\n",
              " 'would have': np.int64(976),\n",
              " 'made for': np.int64(456),\n",
              " 'couple of': np.int64(186),\n",
              " 'if they': np.int64(328),\n",
              " 'film with': np.int64(232),\n",
              " 'after the': np.int64(8),\n",
              " 'is what': np.int64(387),\n",
              " 'what they': np.int64(938),\n",
              " 'time to': np.int64(828),\n",
              " 'those who': np.int64(819),\n",
              " 'who are': np.int64(954),\n",
              " 'all in': np.int64(9),\n",
              " 'in all': np.int64(331),\n",
              " 'full of': np.int64(258),\n",
              " 'film as': np.int64(219),\n",
              " 'plenty of': np.int64(608),\n",
              " 'you ve': np.int64(995),\n",
              " 'got to': np.int64(274),\n",
              " 'can be': np.int64(169),\n",
              " 'it really': np.int64(416),\n",
              " 'look like': np.int64(448),\n",
              " 'character is': np.int64(175),\n",
              " 'the girl': np.int64(720),\n",
              " 'to her': np.int64(840),\n",
              " 'go to': np.int64(266),\n",
              " 'guy who': np.int64(277),\n",
              " 'br so': np.int64(140),\n",
              " 'and if': np.int64(41),\n",
              " 'looking for': np.int64(449),\n",
              " 'the one': np.int64(743),\n",
              " 'had the': np.int64(280),\n",
              " 'movie in': np.int64(496),\n",
              " 'br all': np.int64(130),\n",
              " 'your time': np.int64(999),\n",
              " 'because it': np.int64(119),\n",
              " 'good movie': np.int64(273),\n",
              " 'movie the': np.int64(500),\n",
              " 'story is': np.int64(663),\n",
              " 'at all': np.int64(102),\n",
              " 'all of': np.int64(10),\n",
              " 'it has': np.int64(404),\n",
              " 'are so': np.int64(80),\n",
              " 'supposed to': np.int64(666),\n",
              " 'try to': np.int64(873),\n",
              " 'and they': np.int64(63),\n",
              " 'to kill': np.int64(845),\n",
              " 'watch it': np.int64(914),\n",
              " 'it it': np.int64(408),\n",
              " 'too much': np.int64(870),\n",
              " 'on his': np.int64(570),\n",
              " 'other than': np.int64(590),\n",
              " 'it the': np.int64(422),\n",
              " 'the music': np.int64(739),\n",
              " 'used to': np.int64(886),\n",
              " 'because they': np.int64(122),\n",
              " 'they re': np.int64(802),\n",
              " 'like the': np.int64(443),\n",
              " 'on it': np.int64(571),\n",
              " 'it seems': np.int64(417),\n",
              " 'down to': np.int64(200),\n",
              " 'on this': np.int64(575),\n",
              " 'in fact': np.int64(335),\n",
              " 'bunch of': np.int64(145),\n",
              " 'to live': np.int64(847),\n",
              " 'to take': np.int64(859),\n",
              " 'the dvd': np.int64(710),\n",
              " 'it at': np.int64(393),\n",
              " 'same time': np.int64(621),\n",
              " 'to show': np.int64(858),\n",
              " 'to give': np.int64(836),\n",
              " 'give it': np.int64(263),\n",
              " 'pretty much': np.int64(613),\n",
              " 'it also': np.int64(390),\n",
              " 'amount of': np.int64(19),\n",
              " 'can only': np.int64(171),\n",
              " 'think it': np.int64(805),\n",
              " 'based on': np.int64(114),\n",
              " 'but she': np.int64(155),\n",
              " 'movie for': np.int64(494),\n",
              " 'much better': np.int64(509),\n",
              " 'than the': np.int64(667),\n",
              " 'the part': np.int64(748),\n",
              " 'main character': np.int64(461),\n",
              " 'there is': np.int64(791),\n",
              " 'is no': np.int64(368),\n",
              " 'who can': np.int64(955),\n",
              " 'to me': np.int64(850),\n",
              " 'not even': np.int64(525),\n",
              " 'though it': np.int64(820),\n",
              " 'she is': np.int64(645),\n",
              " 'think that': np.int64(807),\n",
              " 'the role': np.int64(760),\n",
              " 'movie was': np.int64(502),\n",
              " 'the top': np.int64(775),\n",
              " 'is an': np.int64(358),\n",
              " 'but also': np.int64(146),\n",
              " 'of what': np.int64(563),\n",
              " 'and no': np.int64(49),\n",
              " 'characters and': np.int64(176),\n",
              " 'is to': np.int64(383),\n",
              " 'the point': np.int64(753),\n",
              " 'in its': np.int64(339),\n",
              " 'it and': np.int64(391),\n",
              " 'and its': np.int64(45),\n",
              " 'that we': np.int64(688),\n",
              " 'more than': np.int64(487),\n",
              " 'down the': np.int64(199),\n",
              " 'into the': np.int64(353),\n",
              " 'how the': np.int64(320),\n",
              " 'looks like': np.int64(450),\n",
              " 'wants to': np.int64(896),\n",
              " 'you see': np.int64(992),\n",
              " 'what it': np.int64(936),\n",
              " 'it all': np.int64(389),\n",
              " 'but when': np.int64(164),\n",
              " 'it in': np.int64(405),\n",
              " 'film was': np.int64(231),\n",
              " 'movie with': np.int64(503),\n",
              " 'and to': np.int64(65),\n",
              " 'to have': np.int64(838),\n",
              " 'and an': np.int64(26),\n",
              " 'was just': np.int64(903),\n",
              " 'very much': np.int64(892),\n",
              " 'so it': np.int64(653),\n",
              " 'lot of': np.int64(451),\n",
              " 'too many': np.int64(869),\n",
              " 'on and': np.int64(567),\n",
              " 'and on': np.int64(52),\n",
              " 'but there': np.int64(160),\n",
              " 'will be': np.int64(960),\n",
              " 'was so': np.int64(909),\n",
              " 'and was': np.int64(67),\n",
              " 'be able': np.int64(115),\n",
              " 'able to': np.int64(0),\n",
              " 'so much': np.int64(655),\n",
              " 'need to': np.int64(519),\n",
              " 'who was': np.int64(959),\n",
              " 'her and': np.int64(304),\n",
              " 'and had': np.int64(34),\n",
              " 'had to': np.int64(281),\n",
              " 'to mention': np.int64(851),\n",
              " 'of its': np.int64(547),\n",
              " 'that has': np.int64(673),\n",
              " 'so many': np.int64(654),\n",
              " 'plot and': np.int64(609),\n",
              " 'and over': np.int64(54),\n",
              " 'over the': np.int64(600),\n",
              " 'not so': np.int64(530),\n",
              " 'is about': np.int64(354),\n",
              " 'the audience': np.int64(695),\n",
              " 'and even': np.int64(32),\n",
              " 'the war': np.int64(779),\n",
              " 'and at': np.int64(29),\n",
              " 'at times': np.int64(107),\n",
              " 'as an': np.int64(85),\n",
              " 'which the': np.int64(951),\n",
              " 'though the': np.int64(821),\n",
              " 'the past': np.int64(749),\n",
              " 'manages to': np.int64(471),\n",
              " 'end of': np.int64(204),\n",
              " 'of people': np.int64(552),\n",
              " 'with their': np.int64(972),\n",
              " 'out in': np.int64(593),\n",
              " 'because he': np.int64(118),\n",
              " 'the second': np.int64(766),\n",
              " 'the three': np.int64(772),\n",
              " 'who has': np.int64(956),\n",
              " 'and as': np.int64(28),\n",
              " 'that he': np.int64(675),\n",
              " 'of how': np.int64(545),\n",
              " 'there no': np.int64(792),\n",
              " 'attempt to': np.int64(108),\n",
              " 'while the': np.int64(953),\n",
              " 'even though': np.int64(209),\n",
              " 'ever made': np.int64(210),\n",
              " 'made in': np.int64(457),\n",
              " 'directed by': np.int64(191),\n",
              " 'for all': np.int64(238),\n",
              " 'the real': np.int64(757),\n",
              " 'his own': np.int64(315),\n",
              " 'by his': np.int64(166),\n",
              " 'him to': np.int64(311),\n",
              " 'to an': np.int64(829),\n",
              " 'he is': np.int64(302),\n",
              " 'the police': np.int64(754),\n",
              " 'part of': np.int64(601),\n",
              " 'we re': np.int64(929),\n",
              " 'to him': np.int64(841),\n",
              " 'in an': np.int64(332),\n",
              " 'of being': np.int64(540),\n",
              " 'of life': np.int64(548),\n",
              " 'behind the': np.int64(124),\n",
              " 'man who': np.int64(470),\n",
              " 'half of': np.int64(282),\n",
              " 'it does': np.int64(400),\n",
              " 'may have': np.int64(475),\n",
              " 'with no': np.int64(968),\n",
              " 'you would': np.int64(998),\n",
              " 'is also': np.int64(357),\n",
              " 'and very': np.int64(66),\n",
              " 'between the': np.int64(127),\n",
              " 'since the': np.int64(651),\n",
              " 'and in': np.int64(42),\n",
              " 'way the': np.int64(923),\n",
              " 'the young': np.int64(784),\n",
              " 'seen in': np.int64(637),\n",
              " 'to look': np.int64(848),\n",
              " 'out the': np.int64(596),\n",
              " 'film that': np.int64(228),\n",
              " 'nothing to': np.int64(534),\n",
              " 'of that': np.int64(554),\n",
              " 'during the': np.int64(202),\n",
              " 'watched this': np.int64(918),\n",
              " 'of which': np.int64(564),\n",
              " 'and you': np.int64(72),\n",
              " 'you know': np.int64(987),\n",
              " 'movie has': np.int64(495),\n",
              " 'about it': np.int64(1),\n",
              " 'the problem': np.int64(755),\n",
              " 'and when': np.int64(70),\n",
              " 'movie but': np.int64(493),\n",
              " 'the lead': np.int64(731),\n",
              " 'they don': np.int64(799),\n",
              " 'all this': np.int64(14),\n",
              " 'this and': np.int64(810),\n",
              " 'the killer': np.int64(727),\n",
              " 'as far': np.int64(86),\n",
              " 'far as': np.int64(217),\n",
              " 'are just': np.int64(78),\n",
              " 'watch this': np.int64(916),\n",
              " 'and with': np.int64(71),\n",
              " 'it wasn': np.int64(427),\n",
              " 'because of': np.int64(120),\n",
              " 'the idea': np.int64(726),\n",
              " 'idea of': np.int64(323),\n",
              " 'was going': np.int64(899),\n",
              " 'watched it': np.int64(917),\n",
              " 'is in': np.int64(364),\n",
              " 'in her': np.int64(336),\n",
              " 'of some': np.int64(553),\n",
              " 'just to': np.int64(433),\n",
              " 'under the': np.int64(876),\n",
              " 'as if': np.int64(91),\n",
              " 'version of': np.int64(890),\n",
              " 'but they': np.int64(161),\n",
              " 'but not': np.int64(154),\n",
              " 'not in': np.int64(527),\n",
              " 'me the': np.int64(479),\n",
              " 've been': np.int64(887),\n",
              " 'main characters': np.int64(462),\n",
              " 'to this': np.int64(864),\n",
              " 'has to': np.int64(288),\n",
              " 'movie it': np.int64(498),\n",
              " 'has some': np.int64(286),\n",
              " 'find out': np.int64(235),\n",
              " 'watch the': np.int64(915),\n",
              " 'the house': np.int64(725),\n",
              " 'or even': np.int64(585),\n",
              " 'that are': np.int64(670),\n",
              " 'or the': np.int64(588),\n",
              " 'just as': np.int64(431),\n",
              " 'throughout the': np.int64(824),\n",
              " 'and one': np.int64(53),\n",
              " 'comes to': np.int64(181),\n",
              " 'they do': np.int64(798),\n",
              " 'of course': np.int64(541),\n",
              " 'is only': np.int64(373),\n",
              " 'but what': np.int64(163),\n",
              " 'the greatest': np.int64(723),\n",
              " 'out there': np.int64(597),\n",
              " 'him in': np.int64(310),\n",
              " 'can see': np.int64(173),\n",
              " 'see it': np.int64(631),\n",
              " 'was that': np.int64(910),\n",
              " 'in your': np.int64(350),\n",
              " 'made me': np.int64(459),\n",
              " 'me and': np.int64(477),\n",
              " 'and there': np.int64(62),\n",
              " 'on her': np.int64(569),\n",
              " 'the camera': np.int64(701),\n",
              " 'watching the': np.int64(920),\n",
              " 'seemed to': np.int64(635),\n",
              " 'it had': np.int64(403),\n",
              " 'watching it': np.int64(919),\n",
              " 'the production': np.int64(756),\n",
              " 'was good': np.int64(900),\n",
              " 'the script': np.int64(765),\n",
              " 'the good': np.int64(721),\n",
              " 'br if': np.int64(135),\n",
              " 'recommend this': np.int64(618),\n",
              " 'the book': np.int64(700),\n",
              " 'up in': np.int64(880),\n",
              " 'the two': np.int64(776),\n",
              " 'the ending': np.int64(713),\n",
              " 'but for': np.int64(148),\n",
              " 'for those': np.int64(252),\n",
              " 'for example': np.int64(240),\n",
              " 'as to': np.int64(99),\n",
              " 'off the': np.int64(566),\n",
              " 'and are': np.int64(27),\n",
              " 'are not': np.int64(79),\n",
              " 'not to': np.int64(533),\n",
              " 'with an': np.int64(963),\n",
              " 'acting and': np.int64(4),\n",
              " 'get to': np.int64(262),\n",
              " 'them and': np.int64(786),\n",
              " 'series of': np.int64(642),\n",
              " 'something that': np.int64(659),\n",
              " 'them to': np.int64(787),\n",
              " 'each other': np.int64(203),\n",
              " 'for me': np.int64(245),\n",
              " 'have the': np.int64(294),\n",
              " 'and just': np.int64(46),\n",
              " 'saw it': np.int64(622),\n",
              " 'an hour': np.int64(21),\n",
              " 'and that': np.int64(58),\n",
              " 'think the': np.int64(808),\n",
              " 'but in': np.int64(151),\n",
              " 'seen the': np.int64(639),\n",
              " 'saw the': np.int64(623),\n",
              " 'compared to': np.int64(182),\n",
              " 'as well': np.int64(100),\n",
              " 'well as': np.int64(931),\n",
              " 'the new': np.int64(740),\n",
              " 'in my': np.int64(341),\n",
              " 'my opinion': np.int64(518),\n",
              " 'through the': np.int64(823),\n",
              " 'of your': np.int64(565),\n",
              " 'could be': np.int64(183),\n",
              " 'were the': np.int64(933),\n",
              " 'and all': np.int64(24),\n",
              " 'all that': np.int64(12),\n",
              " 'number of': np.int64(535),\n",
              " 'anyone who': np.int64(75),\n",
              " 'at this': np.int64(106),\n",
              " 'the late': np.int64(730),\n",
              " 'not the': np.int64(532),\n",
              " 'his wife': np.int64(316),\n",
              " 'we get': np.int64(927),\n",
              " 'and he': np.int64(37),\n",
              " 'he does': np.int64(298),\n",
              " 'and how': np.int64(40),\n",
              " 'many people': np.int64(473),\n",
              " 'enough to': np.int64(205),\n",
              " 'as his': np.int64(90),\n",
              " 'and their': np.int64(60),\n",
              " 'away from': np.int64(109),\n",
              " 'make the': np.int64(464),\n",
              " 'type of': np.int64(875),\n",
              " 'and some': np.int64(57),\n",
              " 'are in': np.int64(77),\n",
              " 'they can': np.int64(796),\n",
              " 'none of': np.int64(522),\n",
              " 'they had': np.int64(800),\n",
              " 'but is': np.int64(152),\n",
              " 'instead of': np.int64(351),\n",
              " 'the movies': np.int64(738),\n",
              " 'for their': np.int64(250),\n",
              " 'it out': np.int64(415),\n",
              " 'in love': np.int64(340),\n",
              " 'love with': np.int64(454),\n",
              " 'was really': np.int64(908),\n",
              " 'him and': np.int64(309),\n",
              " 'over and': np.int64(599),\n",
              " 'with her': np.int64(964),\n",
              " 'to his': np.int64(842),\n",
              " 'where he': np.int64(948),\n",
              " 'back to': np.int64(111),\n",
              " 'on to': np.int64(576),\n",
              " 'decided to': np.int64(187),\n",
              " 'for him': np.int64(242),\n",
              " 'of these': np.int64(558),\n",
              " 'he can': np.int64(296),\n",
              " 'an old': np.int64(23),\n",
              " 'movie br': np.int64(492),\n",
              " 'as much': np.int64(93),\n",
              " 'much as': np.int64(508),\n",
              " 'better than': np.int64(126),\n",
              " 'story and': np.int64(662),\n",
              " 'they could': np.int64(797),\n",
              " 'br what': np.int64(144),\n",
              " 'the screen': np.int64(764),\n",
              " 'know that': np.int64(435),\n",
              " 'it very': np.int64(425),\n",
              " 'the viewer': np.int64(778),\n",
              " 'way of': np.int64(922),\n",
              " 'was made': np.int64(904),\n",
              " 'what you': np.int64(940),\n",
              " 'it to': np.int64(423),\n",
              " 'more of': np.int64(486),\n",
              " 'group of': np.int64(276),\n",
              " 'on their': np.int64(574),\n",
              " 'and also': np.int64(25),\n",
              " 'br 10': np.int64(129),\n",
              " 'want to': np.int64(894),\n",
              " 'my life': np.int64(517),\n",
              " 'chance to': np.int64(174),\n",
              " 'it doesn': np.int64(401),\n",
              " 'must be': np.int64(513),\n",
              " 'the more': np.int64(735),\n",
              " 'for her': np.int64(241),\n",
              " 'that was': np.int64(687),\n",
              " 'years ago': np.int64(979),\n",
              " 'is nothing': np.int64(370),\n",
              " 'film the': np.int64(229),\n",
              " 'is really': np.int64(377),\n",
              " 'that there': np.int64(684),\n",
              " 'scene where': np.int64(627),\n",
              " 'might have': np.int64(483),\n",
              " 'you want': np.int64(996),\n",
              " 'example of': np.int64(213),\n",
              " 'is all': np.int64(356),\n",
              " 'you to': np.int64(994),\n",
              " 'here is': np.int64(307),\n",
              " 'out that': np.int64(595),\n",
              " 'that she': np.int64(682),\n",
              " 'close to': np.int64(179),\n",
              " 'it could': np.int64(398),\n",
              " 'think of': np.int64(806),\n",
              " 'which was': np.int64(952),\n",
              " 'is as': np.int64(359),\n",
              " 'br my': np.int64(138),\n",
              " 'would not': np.int64(977),\n",
              " 'don think': np.int64(198),\n",
              " 'in some': np.int64(344),\n",
              " 'is more': np.int64(367),\n",
              " 'is well': np.int64(386),\n",
              " 'but if': np.int64(150),\n",
              " 'she has': np.int64(644),\n",
              " 'that will': np.int64(689),\n",
              " 'that makes': np.int64(679),\n",
              " 'piece of': np.int64(604),\n",
              " 'makes the': np.int64(469),\n",
              " 'the special': np.int64(770),\n",
              " 'it didn': np.int64(399),\n",
              " 'bad it': np.int64(112),\n",
              " 'the title': np.int64(774),\n",
              " 'funny and': np.int64(259),\n",
              " 'good and': np.int64(270),\n",
              " 'how to': np.int64(321),\n",
              " 'is this': np.int64(382),\n",
              " 'come to': np.int64(180),\n",
              " 'but still': np.int64(156),\n",
              " 'going on': np.int64(268),\n",
              " 'it for': np.int64(402),\n",
              " 'that not': np.int64(680),\n",
              " 'love the': np.int64(453),\n",
              " 'can say': np.int64(172),\n",
              " 'scene in': np.int64(626),\n",
              " 'movies like': np.int64(506),\n",
              " 'tries to': np.int64(872),\n",
              " 'even if': np.int64(206),\n",
              " 'has the': np.int64(287),\n",
              " 'she was': np.int64(646),\n",
              " 'her to': np.int64(305),\n",
              " 'it may': np.int64(412),\n",
              " 'movies and': np.int64(505),\n",
              " 'the very': np.int64(777),\n",
              " 'to put': np.int64(854),\n",
              " 'of one': np.int64(551),\n",
              " 'then the': np.int64(788),\n",
              " 'are the': np.int64(82),\n",
              " 'you think': np.int64(993),\n",
              " 'seem to': np.int64(634),\n",
              " 'as she': np.int64(95),\n",
              " 'this story': np.int64(816),\n",
              " 'must see': np.int64(515),\n",
              " 'make you': np.int64(467),\n",
              " 'that you': np.int64(691),\n",
              " 'great movie': np.int64(275),\n",
              " 'time the': np.int64(827),\n",
              " 'just the': np.int64(432),\n",
              " 'so bad': np.int64(652),\n",
              " 'think this': np.int64(809),\n",
              " 'worth watching': np.int64(974),\n",
              " 'bad movie': np.int64(113),\n",
              " 'get the': np.int64(261),\n",
              " 'to come': np.int64(832),\n",
              " 'probably the': np.int64(614),\n",
              " 'was pretty': np.int64(907),\n",
              " 'for one': np.int64(246),\n",
              " 'he did': np.int64(297),\n",
              " 'acting was': np.int64(6),\n",
              " 'his character': np.int64(313),\n",
              " 'what the': np.int64(937),\n",
              " 'have ever': np.int64(290),\n",
              " 'have never': np.int64(291),\n",
              " 'don know': np.int64(197),\n",
              " 'you get': np.int64(985),\n",
              " 'are all': np.int64(76),\n",
              " 'interested in': np.int64(352),\n",
              " 'despite the': np.int64(189),\n",
              " 'you don': np.int64(984),\n",
              " 'an excellent': np.int64(20),\n",
              " 'to it': np.int64(843),\n",
              " 'the guy': np.int64(724),\n",
              " 'pretty good': np.int64(612),\n",
              " 'any of': np.int64(73),\n",
              " 'all over': np.int64(11),\n",
              " 'it that': np.int64(421),\n",
              " 'even more': np.int64(207),\n",
              " 'film and': np.int64(218),\n",
              " 'and for': np.int64(33),\n",
              " 'is on': np.int64(371),\n",
              " 'has no': np.int64(285),\n",
              " 'the middle': np.int64(734),\n",
              " 'br one': np.int64(139),\n",
              " 'and her': np.int64(38),\n",
              " 'it again': np.int64(388),\n",
              " 'horror movie': np.int64(318),\n",
              " 'to help': np.int64(839),\n",
              " 'you could': np.int64(983),\n",
              " 'as good': np.int64(88),\n",
              " 'good as': np.int64(271),\n",
              " 'and don': np.int64(31),\n",
              " 'do with': np.int64(194),\n",
              " 'on tv': np.int64(577),\n",
              " 'if he': np.int64(324),\n",
              " 'read the': np.int64(616),\n",
              " 'side of': np.int64(650),\n",
              " 'the family': np.int64(716),\n",
              " 'he doesn': np.int64(299),\n",
              " 'look at': np.int64(447),\n",
              " 'for that': np.int64(248),\n",
              " 'of any': np.int64(539),\n",
              " 'very good': np.int64(891),\n",
              " 'and has': np.int64(35),\n",
              " 'to tell': np.int64(860),\n",
              " 'so that': np.int64(656),\n",
              " 'much to': np.int64(512),\n",
              " 'meant to': np.int64(481),\n",
              " 'the day': np.int64(706),\n",
              " 'film for': np.int64(222),\n",
              " 'in any': np.int64(334),\n",
              " 'should have': np.int64(648),\n",
              " 'and so': np.int64(56),\n",
              " 'here and': np.int64(306),\n",
              " 'is probably': np.int64(375),\n",
              " 'is great': np.int64(363),\n",
              " 'or not': np.int64(586),\n",
              " 'to understand': np.int64(865),\n",
              " 'he had': np.int64(300),\n",
              " 'the bad': np.int64(696),\n",
              " 'the dead': np.int64(707),\n",
              " 'is actually': np.int64(355),\n",
              " 'is definitely': np.int64(360),\n",
              " 'fans of': np.int64(216),\n",
              " 'years later': np.int64(980),\n",
              " 'horror film': np.int64(317),\n",
              " 'it makes': np.int64(411),\n",
              " 'sci fi': np.int64(629),\n",
              " 'is too': np.int64(384),\n",
              " 'or something': np.int64(587),\n",
              " 'that have': np.int64(674),\n",
              " 'is quite': np.int64(376),\n",
              " 'an interesting': np.int64(22),\n",
              " 'was also': np.int64(897),\n",
              " 'along the': np.int64(16),\n",
              " 'this time': np.int64(817),\n",
              " 'and can': np.int64(30),\n",
              " 'had been': np.int64(278),\n",
              " 'good but': np.int64(272),\n",
              " 'not have': np.int64(526),\n",
              " 'to think': np.int64(863),\n",
              " 'than this': np.int64(668),\n",
              " 'plays the': np.int64(607),\n",
              " 'film making': np.int64(227),\n",
              " 'make this': np.int64(465),\n",
              " 'it as': np.int64(392),\n",
              " 'it comes': np.int64(397),\n",
              " 'to work': np.int64(867),\n",
              " 'make up': np.int64(466),\n",
              " 'from this': np.int64(257),\n",
              " 'was great': np.int64(901),\n",
              " 'in order': np.int64(343),\n",
              " 'order to': np.int64(589),\n",
              " 'very well': np.int64(893),\n",
              " 'not as': np.int64(523),\n",
              " 'was in': np.int64(902),\n",
              " 'to save': np.int64(855),\n",
              " 'role of': np.int64(620),\n",
              " 'every time': np.int64(212),\n",
              " 'as you': np.int64(101),\n",
              " 'films that': np.int64(233),\n",
              " 'first time': np.int64(237),\n",
              " 'and we': np.int64(68),\n",
              " 'how much': np.int64(319),\n",
              " 'that all': np.int64(669),\n",
              " 'you might': np.int64(990),\n",
              " 'and she': np.int64(55),\n",
              " 'the opening': np.int64(745),\n",
              " 'get it': np.int64(260),\n",
              " 'minutes of': np.int64(484),\n",
              " 'it isn': np.int64(407),\n",
              " 'like that': np.int64(442),\n",
              " 'the series': np.int64(767),\n",
              " 'too bad': np.int64(868),\n",
              " 'that one': np.int64(681),\n",
              " 'with him': np.int64(965),\n",
              " 'it on': np.int64(414),\n",
              " 'found it': np.int64(254),\n",
              " 'makes it': np.int64(468),\n",
              " 'movie about': np.int64(489),\n",
              " 'the kind': np.int64(728),\n",
              " 'that can': np.int64(671),\n",
              " 'long time': np.int64(446),\n",
              " 'are very': np.int64(83),\n",
              " 'when she': np.int64(943),\n",
              " 'of movie': np.int64(549),\n",
              " 'we can': np.int64(926),\n",
              " 'it can': np.int64(396),\n",
              " 'don get': np.int64(196),\n",
              " 'goes to': np.int64(267),\n",
              " 'made the': np.int64(460),\n",
              " 'scenes are': np.int64(628),\n",
              " 'the early': np.int64(711),\n",
              " 'is going': np.int64(361),\n",
              " 'one thing': np.int64(581),\n",
              " 'one that': np.int64(580),\n",
              " 'it should': np.int64(418)}"
            ]
          },
          "execution_count": 70,
          "metadata": {},
          "output_type": "execute_result"
        }
      ],
      "source": [
        "cv.vocabulary_"
      ]
    },
    {
      "cell_type": "code",
      "execution_count": 69,
      "metadata": {},
      "outputs": [
        {
          "data": {
            "text/plain": [
              "array(['able to', 'about it', 'about the', 'about this', 'acting and',\n",
              "       'acting is', 'acting was', 'after all', 'after the', 'all in',\n",
              "       'all of', 'all over', 'all that', 'all the', 'all this',\n",
              "       'all time', 'along the', 'along with', 'also the', 'amount of',\n",
              "       'an excellent', 'an hour', 'an interesting', 'an old', 'and all',\n",
              "       'and also', 'and an', 'and are', 'and as', 'and at', 'and can',\n",
              "       'and don', 'and even', 'and for', 'and had', 'and has', 'and have',\n",
              "       'and he', 'and her', 'and his', 'and how', 'and if', 'and in',\n",
              "       'and is', 'and it', 'and its', 'and just', 'and more', 'and most',\n",
              "       'and no', 'and not', 'and of', 'and on', 'and one', 'and over',\n",
              "       'and she', 'and so', 'and some', 'and that', 'and the',\n",
              "       'and their', 'and then', 'and there', 'and they', 'and this',\n",
              "       'and to', 'and very', 'and was', 'and we', 'and what', 'and when',\n",
              "       'and with', 'and you', 'any of', 'any other', 'anyone who',\n",
              "       'are all', 'are in', 'are just', 'are not', 'are so', 'are some',\n",
              "       'are the', 'are very', 'around the', 'as an', 'as far', 'as for',\n",
              "       'as good', 'as he', 'as his', 'as if', 'as it', 'as much',\n",
              "       'as one', 'as she', 'as the', 'as they', 'as this', 'as to',\n",
              "       'as well', 'as you', 'at all', 'at first', 'at least', 'at the',\n",
              "       'at this', 'at times', 'attempt to', 'away from', 'back in',\n",
              "       'back to', 'bad it', 'bad movie', 'based on', 'be able', 'be in',\n",
              "       'be the', 'because he', 'because it', 'because of', 'because the',\n",
              "       'because they', 'before the', 'behind the', 'believe that',\n",
              "       'better than', 'between the', 'bit of', 'br 10', 'br all',\n",
              "       'br and', 'br as', 'br br', 'br but', 'br if', 'br in', 'br it',\n",
              "       'br my', 'br one', 'br so', 'br the', 'br there', 'br this',\n",
              "       'br what', 'bunch of', 'but also', 'but as', 'but for', 'but he',\n",
              "       'but if', 'but in', 'but is', 'but it', 'but not', 'but she',\n",
              "       'but still', 'but that', 'but the', 'but then', 'but there',\n",
              "       'but they', 'but this', 'but what', 'but when', 'but you',\n",
              "       'by his', 'by the', 'came out', 'can be', 'can get', 'can only',\n",
              "       'can say', 'can see', 'chance to', 'character is',\n",
              "       'characters and', 'characters are', 'characters in', 'close to',\n",
              "       'come to', 'comes to', 'compared to', 'could be', 'could have',\n",
              "       'could not', 'couple of', 'decided to', 'decides to',\n",
              "       'despite the', 'did not', 'directed by', 'do it', 'do not',\n",
              "       'do with', 'does not', 'don get', 'don know', 'don think',\n",
              "       'down the', 'down to', 'due to', 'during the', 'each other',\n",
              "       'end of', 'enough to', 'even if', 'even more', 'even the',\n",
              "       'even though', 'ever made', 'ever seen', 'every time',\n",
              "       'example of', 'fact that', 'fan of', 'fans of', 'far as',\n",
              "       'film and', 'film as', 'film br', 'film but', 'film for',\n",
              "       'film has', 'film in', 'film is', 'film it', 'film making',\n",
              "       'film that', 'film the', 'film to', 'film was', 'film with',\n",
              "       'films that', 'find it', 'find out', 'first of', 'first time',\n",
              "       'for all', 'for an', 'for example', 'for her', 'for him',\n",
              "       'for his', 'for it', 'for me', 'for one', 'for some', 'for that',\n",
              "       'for the', 'for their', 'for this', 'for those', 'for you',\n",
              "       'found it', 'from his', 'from the', 'from this', 'full of',\n",
              "       'funny and', 'get it', 'get the', 'get to', 'give it', 'give this',\n",
              "       'go on', 'go to', 'goes to', 'going on', 'going to', 'good and',\n",
              "       'good as', 'good but', 'good movie', 'got to', 'great movie',\n",
              "       'group of', 'guy who', 'had been', 'had no', 'had the', 'had to',\n",
              "       'half of', 'hard to', 'has been', 'has no', 'has some', 'has the',\n",
              "       'has to', 'have been', 'have ever', 'have never', 'have no',\n",
              "       'have seen', 'have the', 'have to', 'he can', 'he did', 'he does',\n",
              "       'he doesn', 'he had', 'he has', 'he is', 'he was', 'her and',\n",
              "       'her to', 'here and', 'here is', 'high school', 'him and',\n",
              "       'him in', 'him to', 'his best', 'his character', 'his life',\n",
              "       'his own', 'his wife', 'horror film', 'horror movie', 'how much',\n",
              "       'how the', 'how to', 'however the', 'idea of', 'if he', 'if it',\n",
              "       'if not', 'if the', 'if they', 'if this', 'if you', 'in all',\n",
              "       'in an', 'in and', 'in any', 'in fact', 'in her', 'in his',\n",
              "       'in it', 'in its', 'in love', 'in my', 'in one', 'in order',\n",
              "       'in some', 'in that', 'in the', 'in their', 'in this', 'in which',\n",
              "       'in your', 'instead of', 'interested in', 'into the', 'is about',\n",
              "       'is actually', 'is all', 'is also', 'is an', 'is as',\n",
              "       'is definitely', 'is going', 'is good', 'is great', 'is in',\n",
              "       'is it', 'is just', 'is more', 'is no', 'is not', 'is nothing',\n",
              "       'is on', 'is one', 'is only', 'is pretty', 'is probably',\n",
              "       'is quite', 'is really', 'is so', 'is still', 'is that', 'is the',\n",
              "       'is this', 'is to', 'is too', 'is very', 'is well', 'is what',\n",
              "       'it again', 'it all', 'it also', 'it and', 'it as', 'it at',\n",
              "       'it br', 'it but', 'it can', 'it comes', 'it could', 'it didn',\n",
              "       'it does', 'it doesn', 'it for', 'it had', 'it has', 'it in',\n",
              "       'it is', 'it isn', 'it it', 'it just', 'it like', 'it makes',\n",
              "       'it may', 'it not', 'it on', 'it out', 'it really', 'it seems',\n",
              "       'it should', 'it so', 'it still', 'it that', 'it the', 'it to',\n",
              "       'it up', 'it very', 'it was', 'it wasn', 'it will', 'it with',\n",
              "       'it would', 'just as', 'just the', 'just to', 'kind of',\n",
              "       'know that', 'know the', 'know what', 'lack of', 'let me',\n",
              "       'life and', 'like it', 'like that', 'like the', 'like this',\n",
              "       'like to', 'long time', 'look at', 'look like', 'looking for',\n",
              "       'looks like', 'lot of', 'lots of', 'love the', 'love with',\n",
              "       'low budget', 'made for', 'made in', 'made it', 'made me',\n",
              "       'made the', 'main character', 'main characters', 'make it',\n",
              "       'make the', 'make this', 'make up', 'make you', 'makes it',\n",
              "       'makes the', 'man who', 'manages to', 'many of', 'many people',\n",
              "       'may be', 'may have', 'may not', 'me and', 'me of', 'me the',\n",
              "       'me to', 'meant to', 'might be', 'might have', 'minutes of',\n",
              "       'more like', 'more of', 'more than', 'most of', 'movie about',\n",
              "       'movie and', 'movie as', 'movie br', 'movie but', 'movie for',\n",
              "       'movie has', 'movie in', 'movie is', 'movie it', 'movie that',\n",
              "       'movie the', 'movie to', 'movie was', 'movie with', 'movie you',\n",
              "       'movies and', 'movies like', 'movies that', 'much as',\n",
              "       'much better', 'much more', 'much of', 'much to', 'must be',\n",
              "       'must have', 'must see', 'my favorite', 'my life', 'my opinion',\n",
              "       'need to', 'new york', 'no one', 'none of', 'not as', 'not be',\n",
              "       'not even', 'not have', 'not in', 'not just', 'not only', 'not so',\n",
              "       'not that', 'not the', 'not to', 'nothing to', 'number of',\n",
              "       'of 10', 'of all', 'of an', 'of any', 'of being', 'of course',\n",
              "       'of film', 'of her', 'of his', 'of how', 'of it', 'of its',\n",
              "       'of life', 'of movie', 'of my', 'of one', 'of people', 'of some',\n",
              "       'of that', 'of the', 'of their', 'of them', 'of these', 'of this',\n",
              "       'of those', 'of time', 'of us', 'of what', 'of which', 'of your',\n",
              "       'off the', 'on and', 'on dvd', 'on her', 'on his', 'on it',\n",
              "       'on screen', 'on the', 'on their', 'on this', 'on to', 'on tv',\n",
              "       'one is', 'one of', 'one that', 'one thing', 'only one',\n",
              "       'only thing', 'only to', 'or even', 'or not', 'or something',\n",
              "       'or the', 'order to', 'other than', 'out and', 'out for', 'out in',\n",
              "       'out of', 'out that', 'out the', 'out there', 'out to', 'over and',\n",
              "       'over the', 'part of', 'people in', 'people who', 'piece of',\n",
              "       'place in', 'played by', 'plays the', 'plenty of', 'plot and',\n",
              "       'plot is', 'point of', 'pretty good', 'pretty much',\n",
              "       'probably the', 'rather than', 'read the', 'real life',\n",
              "       'recommend this', 'rest of', 'role of', 'same time', 'saw it',\n",
              "       'saw the', 'saw this', 'say that', 'scene in', 'scene where',\n",
              "       'scenes are', 'sci fi', 'see how', 'see it', 'see the', 'see this',\n",
              "       'seem to', 'seemed to', 'seems to', 'seen in', 'seen it',\n",
              "       'seen the', 'seen this', 'sense of', 'series of', 'set in',\n",
              "       'she has', 'she is', 'she was', 'should be', 'should have',\n",
              "       'show is', 'side of', 'since the', 'so bad', 'so it', 'so many',\n",
              "       'so much', 'so that', 'so the', 'some of', 'something that',\n",
              "       'sort of', 'special effects', 'story and', 'story is', 'story of',\n",
              "       'such as', 'supposed to', 'than the', 'than this', 'that all',\n",
              "       'that are', 'that can', 'that could', 'that has', 'that have',\n",
              "       'that he', 'that in', 'that is', 'that it', 'that makes',\n",
              "       'that not', 'that one', 'that she', 'that the', 'that there',\n",
              "       'that they', 'that this', 'that was', 'that we', 'that will',\n",
              "       'that would', 'that you', 'the acting', 'the action', 'the actors',\n",
              "       'the audience', 'the bad', 'the beginning', 'the best', 'the big',\n",
              "       'the book', 'the camera', 'the case', 'the cast', 'the character',\n",
              "       'the characters', 'the day', 'the dead', 'the dialogue',\n",
              "       'the director', 'the dvd', 'the early', 'the end', 'the ending',\n",
              "       'the entire', 'the fact', 'the family', 'the film', 'the final',\n",
              "       'the first', 'the girl', 'the good', 'the great', 'the greatest',\n",
              "       'the guy', 'the house', 'the idea', 'the killer', 'the kind',\n",
              "       'the last', 'the late', 'the lead', 'the main', 'the man',\n",
              "       'the middle', 'the more', 'the most', 'the movie', 'the movies',\n",
              "       'the music', 'the new', 'the next', 'the old', 'the one',\n",
              "       'the only', 'the opening', 'the original', 'the other', 'the part',\n",
              "       'the past', 'the people', 'the picture', 'the plot', 'the point',\n",
              "       'the police', 'the problem', 'the production', 'the real',\n",
              "       'the rest', 'the right', 'the role', 'the same', 'the scene',\n",
              "       'the scenes', 'the screen', 'the script', 'the second',\n",
              "       'the series', 'the show', 'the soundtrack', 'the special',\n",
              "       'the story', 'the three', 'the time', 'the title', 'the top',\n",
              "       'the two', 'the very', 'the viewer', 'the war', 'the way',\n",
              "       'the whole', 'the world', 'the worst', 'the young', 'their own',\n",
              "       'them and', 'them to', 'then the', 'then you', 'there are',\n",
              "       'there is', 'there no', 'there was', 'there were', 'they are',\n",
              "       'they can', 'they could', 'they do', 'they don', 'they had',\n",
              "       'they have', 'they re', 'they were', 'thing that', 'think it',\n",
              "       'think of', 'think that', 'think the', 'think this', 'this and',\n",
              "       'this film', 'this is', 'this movie', 'this one', 'this show',\n",
              "       'this story', 'this time', 'this was', 'those who', 'though it',\n",
              "       'though the', 'thought it', 'through the', 'throughout the',\n",
              "       'time and', 'time it', 'time the', 'time to', 'to an', 'to be',\n",
              "       'to believe', 'to come', 'to do', 'to find', 'to get', 'to give',\n",
              "       'to go', 'to have', 'to help', 'to her', 'to him', 'to his',\n",
              "       'to it', 'to keep', 'to kill', 'to know', 'to live', 'to look',\n",
              "       'to make', 'to me', 'to mention', 'to my', 'to play', 'to put',\n",
              "       'to save', 'to say', 'to see', 'to show', 'to take', 'to tell',\n",
              "       'to the', 'to their', 'to think', 'to this', 'to understand',\n",
              "       'to watch', 'to work', 'too bad', 'too many', 'too much',\n",
              "       'tried to', 'tries to', 'try to', 'trying to', 'type of',\n",
              "       'under the', 'until the', 'up and', 'up for', 'up in', 'up on',\n",
              "       'up the', 'up to', 'up with', 'use of', 'used to', 've been',\n",
              "       've ever', 've seen', 'version of', 'very good', 'very much',\n",
              "       'very well', 'want to', 'wanted to', 'wants to', 'was also',\n",
              "       'was an', 'was going', 'was good', 'was great', 'was in',\n",
              "       'was just', 'was made', 'was not', 'was one', 'was pretty',\n",
              "       'was really', 'was so', 'was that', 'was the', 'was very',\n",
              "       'waste of', 'watch it', 'watch the', 'watch this', 'watched it',\n",
              "       'watched this', 'watching it', 'watching the', 'watching this',\n",
              "       'way of', 'way the', 'way to', 'we are', 'we can', 'we get',\n",
              "       'we have', 'we re', 'we see', 'well as', 'well done', 'were the',\n",
              "       'what he', 'what is', 'what it', 'what the', 'what they',\n",
              "       'what was', 'what you', 'when he', 'when it', 'when she',\n",
              "       'when the', 'when they', 'when was', 'when you', 'where he',\n",
              "       'where the', 'which is', 'which the', 'which was', 'while the',\n",
              "       'who are', 'who can', 'who has', 'who have', 'who is', 'who was',\n",
              "       'will be', 'will not', 'with all', 'with an', 'with her',\n",
              "       'with him', 'with his', 'with it', 'with no', 'with some',\n",
              "       'with that', 'with the', 'with their', 'with this',\n",
              "       'worth watching', 'would be', 'would have', 'would not',\n",
              "       'year old', 'years ago', 'years later', 'you are', 'you can',\n",
              "       'you could', 'you don', 'you get', 'you have', 'you know',\n",
              "       'you like', 'you ll', 'you might', 'you re', 'you see',\n",
              "       'you think', 'you to', 'you ve', 'you want', 'you will',\n",
              "       'you would', 'your time'], dtype=object)"
            ]
          },
          "execution_count": 69,
          "metadata": {},
          "output_type": "execute_result"
        }
      ],
      "source": [
        "cv.get_feature_names_out()"
      ]
    },
    {
      "cell_type": "markdown",
      "metadata": {},
      "source": [
        "#### Tri_gram"
      ]
    },
    {
      "cell_type": "code",
      "execution_count": 83,
      "metadata": {},
      "outputs": [],
      "source": [
        "from sklearn.feature_extraction.text import CountVectorizer\n",
        "\n",
        "cv = CountVectorizer(max_features=1200, ngram_range=(3,3))\n",
        "\n",
        "bow = cv.fit_transform(df['review']).toarray()"
      ]
    },
    {
      "cell_type": "code",
      "execution_count": 84,
      "metadata": {},
      "outputs": [
        {
          "data": {
            "text/plain": [
              "array([[0, 0, 0, ..., 0, 0, 0],\n",
              "       [0, 0, 0, ..., 0, 0, 0],\n",
              "       [0, 0, 0, ..., 0, 0, 0],\n",
              "       ...,\n",
              "       [0, 0, 0, ..., 0, 0, 0],\n",
              "       [0, 0, 0, ..., 0, 0, 0],\n",
              "       [0, 0, 0, ..., 0, 0, 0]])"
            ]
          },
          "execution_count": 84,
          "metadata": {},
          "output_type": "execute_result"
        }
      ],
      "source": [
        "bow"
      ]
    },
    {
      "cell_type": "code",
      "execution_count": 85,
      "metadata": {},
      "outputs": [
        {
          "data": {
            "text/plain": [
              "(50000, 1200)"
            ]
          },
          "execution_count": 85,
          "metadata": {},
          "output_type": "execute_result"
        }
      ],
      "source": [
        "bow.shape"
      ]
    },
    {
      "cell_type": "code",
      "execution_count": 86,
      "metadata": {},
      "outputs": [
        {
          "data": {
            "text/plain": [
              "2"
            ]
          },
          "execution_count": 86,
          "metadata": {},
          "output_type": "execute_result"
        }
      ],
      "source": [
        "bow.ndim"
      ]
    },
    {
      "cell_type": "code",
      "execution_count": 87,
      "metadata": {},
      "outputs": [
        {
          "data": {
            "text/plain": [
              "(1200,)"
            ]
          },
          "execution_count": 87,
          "metadata": {},
          "output_type": "execute_result"
        }
      ],
      "source": [
        "bow[0].shape"
      ]
    },
    {
      "cell_type": "code",
      "execution_count": 88,
      "metadata": {},
      "outputs": [
        {
          "data": {
            "text/plain": [
              "60000000"
            ]
          },
          "execution_count": 88,
          "metadata": {},
          "output_type": "execute_result"
        }
      ],
      "source": [
        "bow.size"
      ]
    },
    {
      "cell_type": "code",
      "execution_count": 89,
      "metadata": {},
      "outputs": [
        {
          "data": {
            "text/plain": [
              "{'one of the': np.int64(666),\n",
              " 'of the other': np.int64(631),\n",
              " 'you ll be': np.int64(1190),\n",
              " 'me br br': np.int64(542),\n",
              " 'br br the': np.int64(172),\n",
              " 'br the first': np.int64(203),\n",
              " 'this is not': np.int64(985),\n",
              " 'br br it': np.int64(155),\n",
              " 'br it is': np.int64(195),\n",
              " 'that is the': np.int64(758),\n",
              " 'br br would': np.int64(189),\n",
              " 'of the show': np.int64(637),\n",
              " 'the show is': np.int64(904),\n",
              " 'due to the': np.int64(259),\n",
              " 'the fact that': np.int64(818),\n",
              " 'fact that it': np.int64(272),\n",
              " 'if you can': np.int64(366),\n",
              " 'you can get': np.int64(1182),\n",
              " 'the actors are': np.int64(781),\n",
              " 'but it is': np.int64(219),\n",
              " 'of the great': np.int64(623),\n",
              " 'life br br': np.int64(526),\n",
              " 'the plot is': np.int64(888),\n",
              " 'the dialogue is': np.int64(804),\n",
              " 'and the characters': np.int64(45),\n",
              " 'the characters are': np.int64(798),\n",
              " 'thought it was': np.int64(1024),\n",
              " 'br br this': np.int64(177),\n",
              " 'this was the': np.int64(1022),\n",
              " 'may not be': np.int64(541),\n",
              " 'but it was': np.int64(222),\n",
              " 'all the time': np.int64(19),\n",
              " 'time br br': np.int64(1027),\n",
              " 'br this movie': np.int64(212),\n",
              " 'this movie is': np.int64(1004),\n",
              " 'first of all': np.int64(291),\n",
              " 're going to': np.int64(695),\n",
              " 'the movie is': np.int64(868),\n",
              " 'in real life': np.int64(392),\n",
              " 'br br out': np.int64(166),\n",
              " 'br out of': np.int64(200),\n",
              " 'out of 10': np.int64(675),\n",
              " 'as for the': np.int64(76),\n",
              " 'the time of': np.int64(916),\n",
              " 'this is movie': np.int64(984),\n",
              " 'is movie that': np.int64(445),\n",
              " 'seems to be': np.int64(721),\n",
              " 'people in the': np.int64(688),\n",
              " 'the film has': np.int64(826),\n",
              " 'to see how': np.int64(1069),\n",
              " 'br the only': np.int64(205),\n",
              " 'the only thing': np.int64(880),\n",
              " 'most of the': np.int64(551),\n",
              " 'of the people': np.int64(632),\n",
              " 'br the acting': np.int64(201),\n",
              " 'the acting is': np.int64(779),\n",
              " 'and the rest': np.int64(52),\n",
              " 'the rest of': np.int64(895),\n",
              " 'rest of the': np.int64(703),\n",
              " 'br br we': np.int64(182),\n",
              " 'but it not': np.int64(221),\n",
              " 'in the last': np.int64(406),\n",
              " 'in one of': np.int64(389),\n",
              " 'fun to watch': np.int64(313),\n",
              " 'to watch and': np.int64(1089),\n",
              " 'in the world': np.int64(421),\n",
              " 'for this movie': np.int64(303),\n",
              " 'would like to': np.int64(1177),\n",
              " 'like to see': np.int64(530),\n",
              " 'black and white': np.int64(125),\n",
              " 'by the way': np.int64(239),\n",
              " 'out to be': np.int64(681),\n",
              " 'to be in': np.int64(1032),\n",
              " 'waste of time': np.int64(1131),\n",
              " 'the performances are': np.int64(886),\n",
              " 'hard to believe': np.int64(329),\n",
              " 'to believe that': np.int64(1039),\n",
              " 'as it is': np.int64(81),\n",
              " 'about this film': np.int64(4),\n",
              " 'looking forward to': np.int64(532),\n",
              " 'watching this film': np.int64(1140),\n",
              " 'and this is': np.int64(59),\n",
              " 'of the worst': np.int64(645),\n",
              " 'the worst of': np.int64(937),\n",
              " 'to see the': np.int64(1073),\n",
              " 'film br br': np.int64(279),\n",
              " 'only thing that': np.int64(670),\n",
              " 'if you like': np.int64(371),\n",
              " 'like this movie': np.int64(528),\n",
              " 'this movie if': np.int64(1002),\n",
              " 'movie if you': np.int64(558),\n",
              " 'if you are': np.int64(365),\n",
              " 'love this movie': np.int64(536),\n",
              " 'it br br': np.int64(470),\n",
              " 'is one of': np.int64(451),\n",
              " 'one of those': np.int64(668),\n",
              " 'br br at': np.int64(138),\n",
              " 'it was very': np.int64(518),\n",
              " 'as the movie': np.int64(89),\n",
              " 'there were some': np.int64(954),\n",
              " 'br br for': np.int64(148),\n",
              " 'saw this movie': np.int64(705),\n",
              " 'when it came': np.int64(1154),\n",
              " 'it came out': np.int64(471),\n",
              " 'out of the': np.int64(679),\n",
              " 'br br as': np.int64(137),\n",
              " 'in the end': np.int64(401),\n",
              " 'br br but': np.int64(140),\n",
              " 'in the film': np.int64(403),\n",
              " 'there are no': np.int64(941),\n",
              " 'big fan of': np.int64(124),\n",
              " 'but then again': np.int64(227),\n",
              " 'the only one': np.int64(878),\n",
              " 'that this is': np.int64(772),\n",
              " 'in the movie': np.int64(409),\n",
              " 'in this movie': np.int64(424),\n",
              " 'when he was': np.int64(1153),\n",
              " 'br br however': np.int64(152),\n",
              " 'in this film': np.int64(423),\n",
              " 'this film is': np.int64(973),\n",
              " 'we see the': np.int64(1145),\n",
              " 'reminds me of': np.int64(702),\n",
              " 'for some reason': np.int64(295),\n",
              " 'see this movie': np.int64(717),\n",
              " 'this movie you': np.int64(1015),\n",
              " 'will not be': np.int64(1159),\n",
              " 'br br there': np.int64(174),\n",
              " 'br there are': np.int64(208),\n",
              " 'there are some': np.int64(943),\n",
              " 'of the film': np.int64(619),\n",
              " 'is trying to': np.int64(467),\n",
              " 'good br br': np.int64(324),\n",
              " 'br br in': np.int64(154),\n",
              " 'in other words': np.int64(391),\n",
              " 'br br have': np.int64(150),\n",
              " 'say that this': np.int64(708),\n",
              " 'that this movie': np.int64(773),\n",
              " 'this movie as': np.int64(994),\n",
              " 'of the actors': np.int64(610),\n",
              " 'about the movie': np.int64(3),\n",
              " 'movie is the': np.int64(565),\n",
              " 'this movie to': np.int64(1010),\n",
              " 'this was one': np.int64(1021),\n",
              " 'was one of': np.int64(1123),\n",
              " 'of the most': np.int64(627),\n",
              " 've ever seen': np.int64(1109),\n",
              " 'with this one': np.int64(1170),\n",
              " 'that could have': np.int64(750),\n",
              " 'could have been': np.int64(248),\n",
              " 'this is one': np.int64(986),\n",
              " 'one of them': np.int64(667),\n",
              " 'it is not': np.int64(488),\n",
              " 'film but it': np.int64(280),\n",
              " 'of the same': np.int64(634),\n",
              " 'and most of': np.int64(35),\n",
              " 'of the cast': np.int64(614),\n",
              " 'up with the': np.int64(1108),\n",
              " 'with the exception': np.int64(1164),\n",
              " 'the exception of': np.int64(816),\n",
              " 'the character of': np.int64(796),\n",
              " 'is that it': np.int64(456),\n",
              " 'some of the': np.int64(736),\n",
              " 'one of my': np.int64(665),\n",
              " 'there was no': np.int64(953),\n",
              " 'them br br': np.int64(938),\n",
              " 'at the end': np.int64(100),\n",
              " 'of the old': np.int64(629),\n",
              " 'in the beginning': np.int64(396),\n",
              " 'br br and': np.int64(134),\n",
              " 'and the whole': np.int64(54),\n",
              " 'the time and': np.int64(914),\n",
              " 'if it was': np.int64(361),\n",
              " 'br br just': np.int64(156),\n",
              " 'to say the': np.int64(1067),\n",
              " 'say the least': np.int64(709),\n",
              " 'this film it': np.int64(974),\n",
              " 'it was the': np.int64(517),\n",
              " 'was the first': np.int64(1127),\n",
              " 'the first film': np.int64(836),\n",
              " 'would love to': np.int64(1178),\n",
              " 'have seen this': np.int64(340),\n",
              " 'must have been': np.int64(577),\n",
              " 'the story of': np.int64(910),\n",
              " 'story of the': np.int64(744),\n",
              " 'of the first': np.int64(620),\n",
              " 'come up with': np.int64(246),\n",
              " 'that in the': np.int64(756),\n",
              " 'all in all': np.int64(11),\n",
              " 'the film as': np.int64(821),\n",
              " 'br br you': np.int64(191),\n",
              " 'you ve got': np.int64(1196),\n",
              " 'of all the': np.int64(600),\n",
              " 'br br he': np.int64(151),\n",
              " 'br br so': np.int64(169),\n",
              " 'and if you': np.int64(31),\n",
              " 'if you re': np.int64(372),\n",
              " 'you re looking': np.int64(1193),\n",
              " 're looking for': np.int64(696),\n",
              " 'this movie in': np.int64(1003),\n",
              " 'br br all': np.int64(130),\n",
              " 'have to say': np.int64(343),\n",
              " 'got to be': np.int64(325),\n",
              " 'to be the': np.int64(1036),\n",
              " 'the worst movie': np.int64(935),\n",
              " 'of all time': np.int64(601),\n",
              " 'the story is': np.int64(908),\n",
              " 'all of the': np.int64(12),\n",
              " 'not at all': np.int64(590),\n",
              " 'br the movie': np.int64(204),\n",
              " 'movie is just': np.int64(561),\n",
              " 'is supposed to': np.int64(455),\n",
              " 'supposed to be': np.int64(746),\n",
              " 'towards the end': np.int64(1095),\n",
              " 'br br even': np.int64(145),\n",
              " 'but this is': np.int64(232),\n",
              " 'this is just': np.int64(983),\n",
              " 'if you have': np.int64(369),\n",
              " 'it seems like': np.int64(502),\n",
              " 'going to be': np.int64(322),\n",
              " 'down to the': np.int64(258),\n",
              " 'in fact it': np.int64(379),\n",
              " 'of the few': np.int64(618),\n",
              " 'this is the': np.int64(988),\n",
              " 'is the only': np.int64(463),\n",
              " 'the only way': np.int64(881),\n",
              " 'at the same': np.int64(101),\n",
              " 'the same time': np.int64(898),\n",
              " 'to give it': np.int64(1051),\n",
              " 'think it is': np.int64(960),\n",
              " 'based on the': np.int64(110),\n",
              " 'the film it': np.int64(829),\n",
              " 'the movie for': np.int64(864),\n",
              " 'for the rest': np.int64(301),\n",
              " 'is hard to': np.int64(443),\n",
              " 'movie is so': np.int64(563),\n",
              " 'the main character': np.int64(854),\n",
              " 'there is no': np.int64(947),\n",
              " 'to the story': np.int64(1083),\n",
              " 'back in the': np.int64(107),\n",
              " 'think that the': np.int64(962),\n",
              " 'this movie was': np.int64(1011),\n",
              " 'the top of': np.int64(918),\n",
              " 'is the best': np.int64(459),\n",
              " 'of the year': np.int64(646),\n",
              " 'br br ve': np.int64(180),\n",
              " 'him br br': np.int64(355),\n",
              " 'some of them': np.int64(737),\n",
              " 'br br like': np.int64(157),\n",
              " 'in br br': np.int64(378),\n",
              " 'the film was': np.int64(835),\n",
              " 'if it were': np.int64(362),\n",
              " 'into the movie': np.int64(430),\n",
              " 'this film was': np.int64(978),\n",
              " 'on and on': np.int64(652),\n",
              " 'all of them': np.int64(13),\n",
              " 'until the end': np.int64(1103),\n",
              " 'the end br': np.int64(808),\n",
              " 'end br br': np.int64(261),\n",
              " 'br br although': np.int64(132),\n",
              " 'it will be': np.int64(519),\n",
              " 'the lack of': np.int64(849),\n",
              " 'br there is': np.int64(209),\n",
              " 'be able to': np.int64(111),\n",
              " 'it was like': np.int64(513),\n",
              " 'that it is': np.int64(759),\n",
              " 'that has been': np.int64(751),\n",
              " 'over the top': np.int64(683),\n",
              " 'br br then': np.int64(173),\n",
              " 'movie is not': np.int64(562),\n",
              " 'it is about': np.int64(483),\n",
              " 'is about the': np.int64(433),\n",
              " 'the film are': np.int64(820),\n",
              " 'turns out to': np.int64(1101),\n",
              " 'seems to have': np.int64(722),\n",
              " 'in the past': np.int64(411),\n",
              " 'the film but': np.int64(823),\n",
              " 'end of the': np.int64(262),\n",
              " 'of the plot': np.int64(633),\n",
              " 'the lives of': np.int64(853),\n",
              " 'happens to be': np.int64(328),\n",
              " 'the help of': np.int64(845),\n",
              " 'of the three': np.int64(639),\n",
              " 'have been better': np.int64(332),\n",
              " 'the hands of': np.int64(844),\n",
              " 'to the original': np.int64(1080),\n",
              " 'this one is': np.int64(1016),\n",
              " 'is the most': np.int64(461),\n",
              " 'turned out to': np.int64(1100),\n",
              " 'br the film': np.int64(202),\n",
              " 'the film is': np.int64(828),\n",
              " 'of the best': np.int64(611),\n",
              " 'br br finally': np.int64(146),\n",
              " 'fact that the': np.int64(273),\n",
              " 'that the film': np.int64(764),\n",
              " 'in which the': np.int64(428),\n",
              " 'the whole thing': np.int64(932),\n",
              " 'the movie was': np.int64(874),\n",
              " 'the entire film': np.int64(814),\n",
              " 'you have to': np.int64(1187),\n",
              " 'to the end': np.int64(1077),\n",
              " 'the beginning of': np.int64(787),\n",
              " 'at one point': np.int64(98),\n",
              " 'the first half': np.int64(837),\n",
              " 'half of the': np.int64(327),\n",
              " 'out br br': np.int64(673),\n",
              " 'there is one': np.int64(950),\n",
              " 'one br br': np.int64(663),\n",
              " 'the second half': np.int64(903),\n",
              " 'you know what': np.int64(1189),\n",
              " 'this movie has': np.int64(1001),\n",
              " 'the problem is': np.int64(892),\n",
              " 'problem is that': np.int64(693),\n",
              " 'an attempt to': np.int64(24),\n",
              " 'of the movie': np.int64(628),\n",
              " 'the movie but': np.int64(863),\n",
              " 'as far as': np.int64(75),\n",
              " 'the only reason': np.int64(879),\n",
              " 'to watch this': np.int64(1092),\n",
              " 'this film at': np.int64(967),\n",
              " 'the idea of': np.int64(847),\n",
              " 'was going to': np.int64(1120),\n",
              " 'or at least': np.int64(671),\n",
              " 'this movie because': np.int64(996),\n",
              " 'no matter what': np.int64(588),\n",
              " 'it would be': np.int64(520),\n",
              " 'the age of': np.int64(783),\n",
              " 'as if it': np.int64(78),\n",
              " 'way br br': np.int64(1142),\n",
              " 'at the beginning': np.int64(99),\n",
              " 'of those movies': np.int64(650),\n",
              " 'because of the': np.int64(116),\n",
              " 'the main characters': np.int64(855),\n",
              " 'to this movie': np.int64(1086),\n",
              " 'the death of': np.int64(803),\n",
              " 'is the one': np.int64(462),\n",
              " 'the movie it': np.int64(869),\n",
              " 'that he has': np.int64(752),\n",
              " 'the end the': np.int64(811),\n",
              " 'have to see': np.int64(344),\n",
              " 'watch the movie': np.int64(1135),\n",
              " 'to begin with': np.int64(1038),\n",
              " 'even though it': np.int64(267),\n",
              " 'but at least': np.int64(213),\n",
              " 'not in the': np.int64(594),\n",
              " 'in the way': np.int64(419),\n",
              " 'br br after': np.int64(129),\n",
              " 'in the woods': np.int64(420),\n",
              " 'in front of': np.int64(381),\n",
              " 'front of the': np.int64(312),\n",
              " 'it really is': np.int64(501),\n",
              " 'of the greatest': np.int64(624),\n",
              " 'movie it was': np.int64(567),\n",
              " 'throughout the film': np.int64(1025),\n",
              " 'out of it': np.int64(677),\n",
              " 'watching the movie': np.int64(1139),\n",
              " 'and at the': np.int64(27),\n",
              " 'the end of': np.int64(810),\n",
              " 'movies br br': np.int64(571),\n",
              " 'br br if': np.int64(153),\n",
              " 'br if you': np.int64(193),\n",
              " 'you are looking': np.int64(1180),\n",
              " 'are looking for': np.int64(70),\n",
              " 'recommend this movie': np.int64(700),\n",
              " 'is based on': np.int64(435),\n",
              " 'other than that': np.int64(672),\n",
              " 'the movie itself': np.int64(870),\n",
              " 'between the two': np.int64(123),\n",
              " 'the ending is': np.int64(812),\n",
              " 'for those who': np.int64(304),\n",
              " 'to be one': np.int64(1034),\n",
              " 'be one of': np.int64(113),\n",
              " 'it seems that': np.int64(503),\n",
              " 'nothing more than': np.int64(598),\n",
              " 'the film in': np.int64(827),\n",
              " 'was supposed to': np.int64(1125),\n",
              " 'to see this': np.int64(1074),\n",
              " 'to each other': np.int64(1045),\n",
              " 'each other and': np.int64(260),\n",
              " 'this movie on': np.int64(1007),\n",
              " 'made for tv': np.int64(537),\n",
              " 'parts of the': np.int64(687),\n",
              " 'compared to the': np.int64(247),\n",
              " 'as well as': np.int64(90),\n",
              " 'well as the': np.int64(1146),\n",
              " 'of course the': np.int64(603),\n",
              " 'the movie the': np.int64(872),\n",
              " 'the whole movie': np.int64(931),\n",
              " 'in my opinion': np.int64(387),\n",
              " 'of the characters': np.int64(615),\n",
              " 'the life of': np.int64(851),\n",
              " 'the movie and': np.int64(860),\n",
              " 'see this film': np.int64(716),\n",
              " 'have no idea': np.int64(338),\n",
              " 'would have been': np.int64(1175),\n",
              " 'for the film': np.int64(297),\n",
              " 'and of course': np.int64(36),\n",
              " 'br this is': np.int64(211),\n",
              " 'is not the': np.int64(449),\n",
              " 'but there are': np.int64(228),\n",
              " 'and his wife': np.int64(30),\n",
              " 'more and more': np.int64(548),\n",
              " 'br br not': np.int64(160),\n",
              " 'the end and': np.int64(807),\n",
              " 'br br when': np.int64(185),\n",
              " 'his wife and': np.int64(357),\n",
              " 'her br br': np.int64(351),\n",
              " 'it turns out': np.int64(508),\n",
              " 'film is not': np.int64(284),\n",
              " 'the use of': np.int64(921),\n",
              " 'this type of': np.int64(1020),\n",
              " 'br this film': np.int64(210),\n",
              " 'more or less': np.int64(550),\n",
              " 'of them are': np.int64(647),\n",
              " 'to try and': np.int64(1087),\n",
              " 'so if you': np.int64(732),\n",
              " 'up on the': np.int64(1106),\n",
              " 'it out of': np.int64(500),\n",
              " 'in love with': np.int64(383),\n",
              " 'that he was': np.int64(754),\n",
              " 'up in the': np.int64(1105),\n",
              " 'br br with': np.int64(188),\n",
              " 'new york city': np.int64(584),\n",
              " 'in new york': np.int64(388),\n",
              " 'no idea what': np.int64(586),\n",
              " 'of the better': np.int64(612),\n",
              " 'this movie the': np.int64(1009),\n",
              " 'the movie br': np.int64(862),\n",
              " 'movie br br': np.int64(555),\n",
              " 'as much as': np.int64(84),\n",
              " 'br br what': np.int64(184),\n",
              " 'there br br': np.int64(944),\n",
              " 'but it just': np.int64(220),\n",
              " 'it to be': np.int64(506),\n",
              " 'of course it': np.int64(602),\n",
              " 'not going to': np.int64(592),\n",
              " 'to be an': np.int64(1029),\n",
              " 'br the plot': np.int64(206),\n",
              " 'the whole film': np.int64(930),\n",
              " 'as the film': np.int64(88),\n",
              " 'br br 10': np.int64(128),\n",
              " 'all the way': np.int64(20),\n",
              " 'the way through': np.int64(929),\n",
              " 'don want to': np.int64(256),\n",
              " 'of my life': np.int64(608),\n",
              " 'spoilers br br': np.int64(741),\n",
              " 'of the more': np.int64(626),\n",
              " 'world war ii': np.int64(1173),\n",
              " 'of his life': np.int64(604),\n",
              " 'movie that is': np.int64(569),\n",
              " 'of the two': np.int64(641),\n",
              " 'this movie br': np.int64(997),\n",
              " 'is the story': np.int64(464),\n",
              " 'the characters and': np.int64(797),\n",
              " 'of the time': np.int64(640),\n",
              " 'br br yes': np.int64(190),\n",
              " 'in the cast': np.int64(398),\n",
              " 'of this movie': np.int64(649),\n",
              " 'this movie but': np.int64(998),\n",
              " 'but there is': np.int64(229),\n",
              " 'that is not': np.int64(757),\n",
              " 'to say that': np.int64(1066),\n",
              " 'might have been': np.int64(546),\n",
              " 'from beginning to': np.int64(306),\n",
              " 'beginning to end': np.int64(118),\n",
              " 'if you want': np.int64(374),\n",
              " 'you want to': np.int64(1198),\n",
              " 'want to see': np.int64(1115),\n",
              " 'that she is': np.int64(762),\n",
              " 'to make it': np.int64(1057),\n",
              " 'it was not': np.int64(515),\n",
              " 'it could have': np.int64(475),\n",
              " 'can think of': np.int64(241),\n",
              " 'that would have': np.int64(777),\n",
              " 'show br br': np.int64(728),\n",
              " 'the plot was': np.int64(890),\n",
              " 'the actors were': np.int64(782),\n",
              " 'but in the': np.int64(217),\n",
              " 'in the process': np.int64(413),\n",
              " 'the film br': np.int64(822),\n",
              " 'br br my': np.int64(158),\n",
              " 'to see it': np.int64(1071),\n",
              " 'the cast is': np.int64(794),\n",
              " 'some kind of': np.int64(734),\n",
              " 'on top of': np.int64(662),\n",
              " 'by the end': np.int64(237),\n",
              " 'in terms of': np.int64(394),\n",
              " 'br the story': np.int64(207),\n",
              " 'involved in the': np.int64(431),\n",
              " 'br br don': np.int64(144),\n",
              " 'with lots of': np.int64(1163),\n",
              " 'br br now': np.int64(161),\n",
              " 'br in the': np.int64(194),\n",
              " 'even though the': np.int64(268),\n",
              " 'this film to': np.int64(977),\n",
              " 'the special effects': np.int64(906),\n",
              " 'special effects are': np.int64(740),\n",
              " 'seen this movie': np.int64(724),\n",
              " 'this movie it': np.int64(1005),\n",
              " 'but this was': np.int64(235),\n",
              " 'the movie had': np.int64(865),\n",
              " 'the name of': np.int64(876),\n",
              " 'some sort of': np.int64(738),\n",
              " 'wanted to see': np.int64(1117),\n",
              " 'of this film': np.int64(648),\n",
              " 'in the face': np.int64(402),\n",
              " 'the face of': np.int64(817),\n",
              " 'again br br': np.int64(9),\n",
              " 'to have been': np.int64(1054),\n",
              " 'br br think': np.int64(176),\n",
              " 'and the plot': np.int64(51),\n",
              " 'for this film': np.int64(302),\n",
              " 'film is the': np.int64(286),\n",
              " 'characters in the': np.int64(244),\n",
              " 'of the original': np.int64(630),\n",
              " 'except for the': np.int64(271),\n",
              " 'this film has': np.int64(971),\n",
              " 'to be honest': np.int64(1031),\n",
              " 'about the film': np.int64(2),\n",
              " 'this is an': np.int64(979),\n",
              " 'it for the': np.int64(477),\n",
              " 'on the other': np.int64(657),\n",
              " 'the other hand': np.int64(883),\n",
              " 'him in the': np.int64(356),\n",
              " 'in the future': np.int64(405),\n",
              " 'was trying to': np.int64(1129),\n",
              " 'it might be': np.int64(497),\n",
              " 'to the screen': np.int64(1082),\n",
              " 'out in the': np.int64(674),\n",
              " 'scene in the': np.int64(711),\n",
              " 'in the late': np.int64(407),\n",
              " 'are going to': np.int64(68),\n",
              " 'and it was': np.int64(34),\n",
              " 'see the movie': np.int64(715),\n",
              " 'br br while': np.int64(186),\n",
              " 'to find the': np.int64(1048),\n",
              " 'br br was': np.int64(181),\n",
              " 'of the story': np.int64(638),\n",
              " 'br all in': np.int64(126),\n",
              " 'in all the': np.int64(375),\n",
              " 'tries to be': np.int64(1096),\n",
              " 'the people who': np.int64(885),\n",
              " 'even if it': np.int64(265),\n",
              " 'made in the': np.int64(538),\n",
              " 'and in the': np.int64(32),\n",
              " 'br br that': np.int64(171),\n",
              " 'on br br': np.int64(653),\n",
              " 'may have been': np.int64(540),\n",
              " 'on the dvd': np.int64(655),\n",
              " 'has to be': np.int64(331),\n",
              " 'to say it': np.int64(1065),\n",
              " 'in this case': np.int64(422),\n",
              " 'he has to': np.int64(345),\n",
              " 'of one of': np.int64(609),\n",
              " 'it looks like': np.int64(494),\n",
              " 'to see him': np.int64(1068),\n",
              " 'the best part': np.int64(789),\n",
              " 'seem to be': np.int64(718),\n",
              " 'that it was': np.int64(760),\n",
              " 'beginning of the': np.int64(117),\n",
              " 'this br br': np.int64(964),\n",
              " 'is must see': np.int64(446),\n",
              " 'even if you': np.int64(266),\n",
              " 'fan of the': np.int64(276),\n",
              " 'he is the': np.int64(347),\n",
              " 'watching this movie': np.int64(1141),\n",
              " 'as soon as': np.int64(87),\n",
              " 'to find out': np.int64(1047),\n",
              " 'this movie and': np.int64(992),\n",
              " 'the ending was': np.int64(813),\n",
              " 'and the story': np.int64(53),\n",
              " 'the story was': np.int64(912),\n",
              " 'is in the': np.int64(444),\n",
              " 'who wants to': np.int64(1158),\n",
              " 'the best of': np.int64(788),\n",
              " 'would have to': np.int64(1176),\n",
              " 'have to be': np.int64(342),\n",
              " 'hour and half': np.int64(358),\n",
              " 'the book and': np.int64(792),\n",
              " 'know how to': np.int64(523),\n",
              " 'and the ending': np.int64(46),\n",
              " 'the worst movies': np.int64(936),\n",
              " 'in the book': np.int64(397),\n",
              " 'the film that': np.int64(832),\n",
              " 'at this point': np.int64(104),\n",
              " 'and there is': np.int64(57),\n",
              " 'for the movie': np.int64(300),\n",
              " 'the movie to': np.int64(873),\n",
              " 'the acting was': np.int64(780),\n",
              " 'this film as': np.int64(966),\n",
              " 'to play the': np.int64(1062),\n",
              " 'and the acting': np.int64(44),\n",
              " 'what the hell': np.int64(1152),\n",
              " 'movie have ever': np.int64(557),\n",
              " 'have ever seen': np.int64(336),\n",
              " 'ever seen in': np.int64(270),\n",
              " 'in my life': np.int64(385),\n",
              " 'have never seen': np.int64(337),\n",
              " 'the only good': np.int64(877),\n",
              " 'don know what': np.int64(254),\n",
              " 'if you don': np.int64(368),\n",
              " 'and then the': np.int64(55),\n",
              " 'falls in love': np.int64(275),\n",
              " 'it is in': np.int64(486),\n",
              " 'at all the': np.int64(95),\n",
              " 'the first one': np.int64(839),\n",
              " 'none of the': np.int64(589),\n",
              " 'any of the': np.int64(65),\n",
              " 'with the same': np.int64(1167),\n",
              " 'over and over': np.int64(682),\n",
              " 'and over again': np.int64(39),\n",
              " 'of the way': np.int64(642),\n",
              " 'the same way': np.int64(899),\n",
              " 'all over the': np.int64(15),\n",
              " 'in the first': np.int64(404),\n",
              " 'the first movie': np.int64(838),\n",
              " 'the movie has': np.int64(866),\n",
              " 'this film and': np.int64(965),\n",
              " 'to say about': np.int64(1064),\n",
              " 'that this film': np.int64(771),\n",
              " 'of the scenes': np.int64(635),\n",
              " 'in the middle': np.int64(408),\n",
              " 'br br one': np.int64(165),\n",
              " 'br one of': np.int64(199),\n",
              " 'is br br': np.int64(437),\n",
              " 'to see if': np.int64(1070),\n",
              " 'watch it again': np.int64(1134),\n",
              " 'but the movie': np.int64(225),\n",
              " 'again and again': np.int64(8),\n",
              " 'ever seen and': np.int64(269),\n",
              " 'is the worst': np.int64(465),\n",
              " 'is not one': np.int64(447),\n",
              " 'not one of': np.int64(595),\n",
              " 'want to watch': np.int64(1116),\n",
              " 'want to be': np.int64(1114),\n",
              " 'bad br br': np.int64(109),\n",
              " 'to watch the': np.int64(1091),\n",
              " 'this piece of': np.int64(1018),\n",
              " 'as long as': np.int64(83),\n",
              " 'is that the': np.int64(457),\n",
              " 'takes place in': np.int64(747),\n",
              " 'back to the': np.int64(108),\n",
              " 'the best thing': np.int64(790),\n",
              " 'there is the': np.int64(952),\n",
              " 'by far the': np.int64(236),\n",
              " 'it is just': np.int64(487),\n",
              " 'as good as': np.int64(77),\n",
              " 'no matter how': np.int64(587),\n",
              " 'the type of': np.int64(919),\n",
              " '10 out of': np.int64(1),\n",
              " 'for what it': np.int64(305),\n",
              " 'what it is': np.int64(1150),\n",
              " 'the film the': np.int64(833),\n",
              " 'as part of': np.int64(86),\n",
              " 'part of the': np.int64(685),\n",
              " 'nothing to do': np.int64(599),\n",
              " 'to do with': np.int64(1044),\n",
              " 'br br well': np.int64(183),\n",
              " 'side of the': np.int64(729),\n",
              " 'much of the': np.int64(576),\n",
              " 'of the world': np.int64(644),\n",
              " 'to look at': np.int64(1056),\n",
              " 'look at the': np.int64(531),\n",
              " 'in all this': np.int64(376),\n",
              " 'for that matter': np.int64(296),\n",
              " 'the way the': np.int64(927),\n",
              " 'was very good': np.int64(1130),\n",
              " 'it all the': np.int64(469),\n",
              " 'it made me': np.int64(495),\n",
              " 'to make the': np.int64(1059),\n",
              " 'the time it': np.int64(915),\n",
              " 'that the director': np.int64(763),\n",
              " 'and there are': np.int64(56),\n",
              " 'of the day': np.int64(616),\n",
              " 'to see that': np.int64(1072),\n",
              " 'many of the': np.int64(539),\n",
              " 'is so bad': np.int64(454),\n",
              " 'so bad it': np.int64(730),\n",
              " 'to figure out': np.int64(1046),\n",
              " 'in this one': np.int64(425),\n",
              " 'as one of': np.int64(85),\n",
              " 'the music is': np.int64(875),\n",
              " 'are in the': np.int64(69),\n",
              " 'the back of': np.int64(784),\n",
              " 'br br br': np.int64(139),\n",
              " 'to the point': np.int64(1081),\n",
              " 'the point of': np.int64(891),\n",
              " 'do with the': np.int64(250),\n",
              " 'the scene where': np.int64(900),\n",
              " 'and the other': np.int64(50),\n",
              " 'as well br': np.int64(91),\n",
              " 'well br br': np.int64(1147),\n",
              " 'never heard of': np.int64(583),\n",
              " 'movies have ever': np.int64(572),\n",
              " 'whether or not': np.int64(1157),\n",
              " 'set in the': np.int64(726),\n",
              " 'and it is': np.int64(33),\n",
              " 'the film does': np.int64(824),\n",
              " 'but this film': np.int64(231),\n",
              " 'to sit through': np.int64(1076),\n",
              " 'that the movie': np.int64(765),\n",
              " 'the characters in': np.int64(799),\n",
              " 'the movie as': np.int64(861),\n",
              " 'read the book': np.int64(697),\n",
              " 'with this movie': np.int64(1169),\n",
              " 'not to mention': np.int64(597),\n",
              " 'the way he': np.int64(923),\n",
              " 'br br anyway': np.int64(136),\n",
              " 'at the time': np.int64(102),\n",
              " 'the first place': np.int64(840),\n",
              " 'and so on': np.int64(40),\n",
              " 'must see for': np.int64(578),\n",
              " 'that there is': np.int64(768),\n",
              " 'this is very': np.int64(989),\n",
              " 'watch this movie': np.int64(1137),\n",
              " 'the way it': np.int64(924),\n",
              " 'better than the': np.int64(121),\n",
              " 'piece of crap': np.int64(690),\n",
              " 'as bad as': np.int64(74),\n",
              " 'was the only': np.int64(1128),\n",
              " 'not to be': np.int64(596),\n",
              " 'in which he': np.int64(427),\n",
              " 'this would be': np.int64(1023),\n",
              " 'is that this': np.int64(458),\n",
              " 'this is what': np.int64(990),\n",
              " 'movie but it': np.int64(556),\n",
              " 'it is still': np.int64(491),\n",
              " 'think this is': np.int64(963),\n",
              " 'you will be': np.int64(1199),\n",
              " 'the movie that': np.int64(871),\n",
              " 'this film in': np.int64(972),\n",
              " 'film in the': np.int64(282),\n",
              " 'away from the': np.int64(105),\n",
              " 'up br br': np.int64(1104),\n",
              " 'to be seen': np.int64(1035),\n",
              " 'the history of': np.int64(846),\n",
              " 'to watch it': np.int64(1090),\n",
              " 'it in the': np.int64(482),\n",
              " 'along the way': np.int64(22),\n",
              " 'the middle of': np.int64(858),\n",
              " 'middle of the': np.int64(545),\n",
              " 'the way of': np.int64(925),\n",
              " 'is pretty good': np.int64(452),\n",
              " 'film is that': np.int64(285),\n",
              " 'that you can': np.int64(778),\n",
              " 'on the screen': np.int64(658),\n",
              " 'meant to be': np.int64(543),\n",
              " 'this film the': np.int64(976),\n",
              " 'that would be': np.int64(776),\n",
              " 'this film br': np.int64(968),\n",
              " 'br br am': np.int64(133),\n",
              " 'like it was': np.int64(527),\n",
              " 'it was made': np.int64(514),\n",
              " 'to see what': np.int64(1075),\n",
              " 'not br br': np.int64(591),\n",
              " 'to go to': np.int64(1053),\n",
              " 'and the fact': np.int64(47),\n",
              " 'on the edge': np.int64(656),\n",
              " 'the edge of': np.int64(806),\n",
              " 'needs to be': np.int64(582),\n",
              " 'in the same': np.int64(415),\n",
              " 'point of view': np.int64(692),\n",
              " 'watched this movie': np.int64(1138),\n",
              " 'scene in which': np.int64(712),\n",
              " 'huge fan of': np.int64(359),\n",
              " 'there is an': np.int64(946),\n",
              " 'film it is': np.int64(287),\n",
              " 'but that is': np.int64(223),\n",
              " 'to the film': np.int64(1078),\n",
              " 'the entire movie': np.int64(815),\n",
              " 'seen br br': np.int64(723),\n",
              " 'br br on': np.int64(164),\n",
              " 'br on the': np.int64(198),\n",
              " 'the cinematography is': np.int64(801),\n",
              " 'what happened to': np.int64(1149),\n",
              " 'br br also': np.int64(131),\n",
              " 'it has to': np.int64(480),\n",
              " 'from the start': np.int64(310),\n",
              " 'of the book': np.int64(613),\n",
              " 'out of this': np.int64(680),\n",
              " 'he wants to': np.int64(350),\n",
              " 'br br they': np.int64(175),\n",
              " 'don know why': np.int64(255),\n",
              " 'in the theater': np.int64(418),\n",
              " 'had to be': np.int64(326),\n",
              " 'this movie that': np.int64(1008),\n",
              " 'to work with': np.int64(1093),\n",
              " 'and the film': np.int64(48),\n",
              " 'in order to': np.int64(390),\n",
              " 'of my favorite': np.int64(607),\n",
              " 'was in the': np.int64(1121),\n",
              " 'they should have': np.int64(958),\n",
              " 'the end it': np.int64(809),\n",
              " 'it would have': np.int64(521),\n",
              " 'of his own': np.int64(605),\n",
              " 'the role of': np.int64(897),\n",
              " 'the film to': np.int64(834),\n",
              " 'they have to': np.int64(957),\n",
              " 'of time and': np.int64(651),\n",
              " 'but this one': np.int64(234),\n",
              " 'one of his': np.int64(664),\n",
              " 'away from this': np.int64(106),\n",
              " 'but if you': np.int64(216),\n",
              " 'check it out': np.int64(245),\n",
              " 'br it was': np.int64(196),\n",
              " 'it was so': np.int64(516),\n",
              " 'trying to be': np.int64(1097),\n",
              " 'when it was': np.int64(1156),\n",
              " 'the story and': np.int64(907),\n",
              " 'to think that': np.int64(1084),\n",
              " 'out of place': np.int64(678),\n",
              " 'it is the': np.int64(492),\n",
              " 'nice to see': np.int64(585),\n",
              " 'for the first': np.int64(298),\n",
              " 'the first time': np.int64(841),\n",
              " 'to get to': np.int64(1050),\n",
              " 'get to the': np.int64(318),\n",
              " 'the part of': np.int64(884),\n",
              " 'that was the': np.int64(775),\n",
              " 'was so bad': np.int64(1124),\n",
              " 'so bad that': np.int64(731),\n",
              " 'if they were': np.int64(364),\n",
              " 'to this film': np.int64(1085),\n",
              " 'at the very': np.int64(103),\n",
              " 'at least one': np.int64(96),\n",
              " 'the chance to': np.int64(795),\n",
              " 'as it was': np.int64(82),\n",
              " 'the sort of': np.int64(905),\n",
              " 'film that is': np.int64(288),\n",
              " 'the script was': np.int64(902),\n",
              " 'it to the': np.int64(507),\n",
              " 'have seen in': np.int64(339),\n",
              " 'it was just': np.int64(512),\n",
              " 'to do it': np.int64(1041),\n",
              " 'some of his': np.int64(735),\n",
              " 'have been more': np.int64(334),\n",
              " 'this movie for': np.int64(999),\n",
              " 'get out of': np.int64(316),\n",
              " 'we get to': np.int64(1144),\n",
              " 'too br br': np.int64(1094),\n",
              " 'br br by': np.int64(141),\n",
              " 'br br do': np.int64(143),\n",
              " 'all of this': np.int64(14),\n",
              " 'place in the': np.int64(691),\n",
              " 've never seen': np.int64(1110),\n",
              " 'and that is': np.int64(42),\n",
              " 'in many ways': np.int64(384),\n",
              " 'there is also': np.int64(945),\n",
              " 'br br overall': np.int64(167),\n",
              " 'you have the': np.int64(1186),\n",
              " 'about this movie': np.int64(5),\n",
              " 'movie is that': np.int64(564),\n",
              " 'movies like this': np.int64(573),\n",
              " 'by the time': np.int64(238),\n",
              " 'the time the': np.int64(917),\n",
              " 'the quality of': np.int64(893),\n",
              " 'quality of the': np.int64(694),\n",
              " 'that br br': np.int64(748),\n",
              " 'is very good': np.int64(468),\n",
              " 'seemed to be': np.int64(720),\n",
              " 'up to the': np.int64(1107),\n",
              " 'it is so': np.int64(490),\n",
              " 'as if the': np.int64(79),\n",
              " 'br br really': np.int64(168),\n",
              " 'recommend this film': np.int64(699),\n",
              " 'film and the': np.int64(278),\n",
              " 'for me to': np.int64(294),\n",
              " 'for the most': np.int64(299),\n",
              " 'the most part': np.int64(859),\n",
              " 'the film and': np.int64(819),\n",
              " 'but the film': np.int64(224),\n",
              " 'should have been': np.int64(727),\n",
              " 've seen in': np.int64(1111),\n",
              " 'members of the': np.int64(544),\n",
              " 'you can tell': np.int64(1184),\n",
              " 'but this movie': np.int64(233),\n",
              " 'to be funny': np.int64(1030),\n",
              " 'has nothing to': np.int64(330),\n",
              " 'if you do': np.int64(367),\n",
              " 'and you can': np.int64(61),\n",
              " 'and that the': np.int64(43),\n",
              " 'after the first': np.int64(7),\n",
              " 'to do the': np.int64(1043),\n",
              " 'give this movie': np.int64(319),\n",
              " 'there are few': np.int64(939),\n",
              " 'here and there': np.int64(352),\n",
              " 'in the plot': np.int64(412),\n",
              " 'in the series': np.int64(416),\n",
              " 'the opening scene': np.int64(882),\n",
              " 'of the whole': np.int64(643),\n",
              " 'from the beginning': np.int64(308),\n",
              " 'the united states': np.int64(920),\n",
              " 'such as the': np.int64(745),\n",
              " 'is able to': np.int64(432),\n",
              " 'br br why': np.int64(187),\n",
              " 'be in the': np.int64(112),\n",
              " 'world br br': np.int64(1172),\n",
              " 'br br to': np.int64(178),\n",
              " 'this movie are': np.int64(993),\n",
              " 'etc br br': np.int64(264),\n",
              " 'br br oh': np.int64(163),\n",
              " 'and one of': np.int64(37),\n",
              " 'is probably the': np.int64(453),\n",
              " 'br as for': np.int64(127),\n",
              " 'along with the': np.int64(23),\n",
              " 'the course of': np.int64(802),\n",
              " 'the characters were': np.int64(800),\n",
              " 'and some of': np.int64(41),\n",
              " 'on the big': np.int64(654),\n",
              " 'the big screen': np.int64(791),\n",
              " 'is not only': np.int64(448),\n",
              " 'movie was made': np.int64(570),\n",
              " 'the majority of': np.int64(856),\n",
              " 'the film makers': np.int64(831),\n",
              " 'the worst film': np.int64(934),\n",
              " 'it hard to': np.int64(478),\n",
              " 'br br can': np.int64(142),\n",
              " 'from the first': np.int64(309),\n",
              " 'we all know': np.int64(1143),\n",
              " 'you re not': np.int64(1194),\n",
              " 'from this movie': np.int64(311),\n",
              " 'and all the': np.int64(26),\n",
              " 'this show is': np.int64(1019),\n",
              " 'an hour and': np.int64(25),\n",
              " 'you br br': np.int64(1181),\n",
              " 'that if you': np.int64(755),\n",
              " 'special effects and': np.int64(739),\n",
              " 'so much more': np.int64(733),\n",
              " 'not have been': np.int64(593),\n",
              " 'the world of': np.int64(933),\n",
              " 'of it is': np.int64(606),\n",
              " 'reminded me of': np.int64(701),\n",
              " 'at all costs': np.int64(94),\n",
              " 'it one of': np.int64(499),\n",
              " 'and they are': np.int64(58),\n",
              " 'to get the': np.int64(1049),\n",
              " 'you re in': np.int64(1192),\n",
              " 'the plot and': np.int64(887),\n",
              " 'at all br': np.int64(93),\n",
              " 'all br br': np.int64(10),\n",
              " 'and you ll': np.int64(63),\n",
              " 'there are so': np.int64(942),\n",
              " 'are so many': np.int64(71),\n",
              " 'trying to get': np.int64(1098),\n",
              " 'it has been': np.int64(479),\n",
              " 'it was great': np.int64(511),\n",
              " 'was able to': np.int64(1119),\n",
              " 'the man who': np.int64(857),\n",
              " 'the way they': np.int64(928),\n",
              " 'that there are': np.int64(767),\n",
              " 'have been made': np.int64(333),\n",
              " 'the likes of': np.int64(852),\n",
              " 'enough to make': np.int64(263),\n",
              " 'this movie would': np.int64(1014),\n",
              " 'get to see': np.int64(317),\n",
              " 'is full of': np.int64(440),\n",
              " 'the very end': np.int64(922),\n",
              " 'in my mind': np.int64(386),\n",
              " 'it is one': np.int64(489),\n",
              " 'movie in the': np.int64(559),\n",
              " 'this is great': np.int64(982),\n",
              " 'in the story': np.int64(417),\n",
              " 'know what to': np.int64(524),\n",
              " 'as an actor': np.int64(73),\n",
              " 'this kind of': np.int64(991),\n",
              " 'there is some': np.int64(951),\n",
              " 'if you ve': np.int64(373),\n",
              " 'in fact the': np.int64(380),\n",
              " 'all the more': np.int64(17),\n",
              " 'it can be': np.int64(472),\n",
              " 'to save the': np.int64(1063),\n",
              " 'movie like this': np.int64(568),\n",
              " 'the bad guys': np.int64(786),\n",
              " 'it on the': np.int64(498),\n",
              " 'into the film': np.int64(429),\n",
              " 'br but the': np.int64(192),\n",
              " 'in the original': np.int64(410),\n",
              " 'work br br': np.int64(1171),\n",
              " 'on this one': np.int64(661),\n",
              " 'best of the': np.int64(119),\n",
              " 'you see the': np.int64(1195),\n",
              " 'you get the': np.int64(1185),\n",
              " 'at all and': np.int64(92),\n",
              " 'to do so': np.int64(1042),\n",
              " 'films br br': np.int64(289),\n",
              " 'in the early': np.int64(400),\n",
              " 'that they are': np.int64(770),\n",
              " 'to deal with': np.int64(1040),\n",
              " 'this movie will': np.int64(1012),\n",
              " 'with this film': np.int64(1168),\n",
              " 'the first two': np.int64(842),\n",
              " 'minutes of the': np.int64(547),\n",
              " 'in long time': np.int64(382),\n",
              " 'the guy who': np.int64(843),\n",
              " 'the film itself': np.int64(830),\n",
              " 'lot of the': np.int64(535),\n",
              " 'you need to': np.int64(1191),\n",
              " 'is going on': np.int64(441),\n",
              " 'it seems to': np.int64(504),\n",
              " 'films of the': np.int64(290),\n",
              " 'br br of': np.int64(162),\n",
              " ...}"
            ]
          },
          "execution_count": 89,
          "metadata": {},
          "output_type": "execute_result"
        }
      ],
      "source": [
        "cv.vocabulary_"
      ]
    },
    {
      "cell_type": "code",
      "execution_count": 92,
      "metadata": {},
      "outputs": [
        {
          "data": {
            "text/plain": [
              "1200"
            ]
          },
          "execution_count": 92,
          "metadata": {},
          "output_type": "execute_result"
        }
      ],
      "source": [
        "cv.get_feature_names_out().size"
      ]
    },
    {
      "cell_type": "markdown",
      "metadata": {},
      "source": [
        "While the combination of n-grams is indeed different, the dimensions may still be the same due to feature limiting and overlaps in frequently occurring n-grams. Adjusting max_features, analyzing overlaps, or allowing the full vocabulary can provide more clarity and variation in the dimensionality of your n-gram representations."
      ]
    },
    {
      "cell_type": "markdown",
      "metadata": {},
      "source": [
        "# Problem 6\n",
        "\n",
        "### Apply tf-idf and find out the idf scores of words, also find out the vocabulary."
      ]
    },
    {
      "cell_type": "markdown",
      "metadata": {},
      "source": [
        "Same error with `tf-idf` which is occur above with `one hot encoding` . You must specify the max_features parameter when the dataset large"
      ]
    },
    {
      "cell_type": "code",
      "execution_count": 97,
      "metadata": {
        "id": "coyvsD3OFrB4"
      },
      "outputs": [],
      "source": [
        "from sklearn.feature_extraction.text import TfidfVectorizer\n",
        "\n",
        "tfidf = TfidfVectorizer()\n",
        "\n",
        "bow = tfidf.fit_transform(df['review'])"
      ]
    },
    {
      "cell_type": "code",
      "execution_count": 101,
      "metadata": {},
      "outputs": [
        {
          "data": {
            "text/plain": [
              "(50000, 101895)"
            ]
          },
          "execution_count": 101,
          "metadata": {},
          "output_type": "execute_result"
        }
      ],
      "source": [
        "bow.shape"
      ]
    },
    {
      "cell_type": "code",
      "execution_count": 102,
      "metadata": {},
      "outputs": [
        {
          "data": {
            "text/plain": [
              "2"
            ]
          },
          "execution_count": 102,
          "metadata": {},
          "output_type": "execute_result"
        }
      ],
      "source": [
        "bow.ndim"
      ]
    },
    {
      "cell_type": "code",
      "execution_count": 104,
      "metadata": {},
      "outputs": [
        {
          "data": {
            "text/plain": [
              "101895"
            ]
          },
          "execution_count": 104,
          "metadata": {},
          "output_type": "execute_result"
        }
      ],
      "source": [
        "tfidf.get_feature_names_out().size"
      ]
    },
    {
      "cell_type": "code",
      "execution_count": 106,
      "metadata": {},
      "outputs": [
        {
          "data": {
            "text/plain": [
              "101895"
            ]
          },
          "execution_count": 106,
          "metadata": {},
          "output_type": "execute_result"
        }
      ],
      "source": [
        "len(tfidf.vocabulary_)"
      ]
    },
    {
      "cell_type": "code",
      "execution_count": null,
      "metadata": {},
      "outputs": [],
      "source": []
    },
    {
      "cell_type": "markdown",
      "metadata": {},
      "source": [
        "#### Specify the max_feature for tfidf"
      ]
    },
    {
      "cell_type": "code",
      "execution_count": 107,
      "metadata": {
        "id": "n7abDAiFF2Ij"
      },
      "outputs": [],
      "source": [
        "from sklearn.feature_extraction.text import TfidfVectorizer\n",
        "\n",
        "tfidf = TfidfVectorizer(max_features=1000)\n",
        "\n",
        "bow = tfidf.fit_transform(df['review']).toarray()"
      ]
    },
    {
      "cell_type": "code",
      "execution_count": 108,
      "metadata": {},
      "outputs": [
        {
          "data": {
            "text/plain": [
              "array([[0.        , 0.        , 0.        , ..., 0.04940528, 0.        ,\n",
              "        0.        ],\n",
              "       [0.        , 0.        , 0.        , ..., 0.        , 0.        ,\n",
              "        0.        ],\n",
              "       [0.        , 0.        , 0.        , ..., 0.        , 0.        ,\n",
              "        0.        ],\n",
              "       ...,\n",
              "       [0.        , 0.        , 0.        , ..., 0.        , 0.        ,\n",
              "        0.        ],\n",
              "       [0.        , 0.        , 0.13067749, ..., 0.        , 0.        ,\n",
              "        0.        ],\n",
              "       [0.        , 0.        , 0.        , ..., 0.        , 0.        ,\n",
              "        0.        ]])"
            ]
          },
          "execution_count": 108,
          "metadata": {},
          "output_type": "execute_result"
        }
      ],
      "source": [
        "bow"
      ]
    },
    {
      "cell_type": "code",
      "execution_count": 109,
      "metadata": {},
      "outputs": [
        {
          "data": {
            "text/plain": [
              "(50000, 1000)"
            ]
          },
          "execution_count": 109,
          "metadata": {},
          "output_type": "execute_result"
        }
      ],
      "source": [
        "bow.shape"
      ]
    },
    {
      "cell_type": "code",
      "execution_count": 110,
      "metadata": {},
      "outputs": [
        {
          "data": {
            "text/plain": [
              "2"
            ]
          },
          "execution_count": 110,
          "metadata": {},
          "output_type": "execute_result"
        }
      ],
      "source": [
        "bow.ndim"
      ]
    },
    {
      "cell_type": "code",
      "execution_count": 111,
      "metadata": {},
      "outputs": [
        {
          "data": {
            "text/plain": [
              "array([0.        , 0.        , 0.        , 0.        , 0.        ,\n",
              "       0.03363693, 0.        , 0.        , 0.        , 0.        ,\n",
              "       0.        , 0.        , 0.        , 0.        , 0.        ,\n",
              "       0.        , 0.        , 0.        , 0.        , 0.        ,\n",
              "       0.04442275, 0.        , 0.        , 0.        , 0.        ,\n",
              "       0.        , 0.        , 0.02967405, 0.        , 0.        ,\n",
              "       0.        , 0.        , 0.        , 0.        , 0.        ,\n",
              "       0.        , 0.        , 0.        , 0.        , 0.        ,\n",
              "       0.03081097, 0.11111843, 0.        , 0.        , 0.        ,\n",
              "       0.        , 0.        , 0.        , 0.        , 0.        ,\n",
              "       0.        , 0.        , 0.        , 0.05704899, 0.        ,\n",
              "       0.05598164, 0.        , 0.10365038, 0.        , 0.        ,\n",
              "       0.        , 0.        , 0.        , 0.        , 0.        ,\n",
              "       0.        , 0.        , 0.11967091, 0.        , 0.        ,\n",
              "       0.        , 0.        , 0.        , 0.        , 0.        ,\n",
              "       0.        , 0.        , 0.05630499, 0.        , 0.        ,\n",
              "       0.        , 0.        , 0.07082549, 0.        , 0.        ,\n",
              "       0.        , 0.        , 0.        , 0.        , 0.        ,\n",
              "       0.04660101, 0.        , 0.        , 0.        , 0.        ,\n",
              "       0.        , 0.        , 0.        , 0.        , 0.        ,\n",
              "       0.        , 0.        , 0.        , 0.        , 0.        ,\n",
              "       0.        , 0.        , 0.        , 0.        , 0.165165  ,\n",
              "       0.        , 0.        , 0.        , 0.        , 0.        ,\n",
              "       0.        , 0.        , 0.        , 0.        , 0.        ,\n",
              "       0.04776902, 0.        , 0.        , 0.        , 0.07068149,\n",
              "       0.        , 0.        , 0.03513917, 0.        , 0.        ,\n",
              "       0.        , 0.        , 0.        , 0.        , 0.        ,\n",
              "       0.        , 0.        , 0.        , 0.        , 0.        ,\n",
              "       0.        , 0.        , 0.        , 0.        , 0.        ,\n",
              "       0.        , 0.        , 0.15553948, 0.08122937, 0.06772893,\n",
              "       0.        , 0.        , 0.        , 0.        , 0.        ,\n",
              "       0.        , 0.        , 0.        , 0.        , 0.        ,\n",
              "       0.        , 0.        , 0.        , 0.        , 0.        ,\n",
              "       0.        , 0.06969818, 0.        , 0.        , 0.        ,\n",
              "       0.        , 0.        , 0.        , 0.        , 0.        ,\n",
              "       0.        , 0.        , 0.        , 0.        , 0.        ,\n",
              "       0.        , 0.        , 0.        , 0.        , 0.        ,\n",
              "       0.        , 0.        , 0.        , 0.        , 0.06803264,\n",
              "       0.        , 0.        , 0.        , 0.        , 0.        ,\n",
              "       0.        , 0.        , 0.        , 0.        , 0.        ,\n",
              "       0.        , 0.        , 0.        , 0.        , 0.        ,\n",
              "       0.        , 0.        , 0.        , 0.        , 0.        ,\n",
              "       0.        , 0.        , 0.        , 0.        , 0.        ,\n",
              "       0.05284002, 0.        , 0.        , 0.        , 0.        ,\n",
              "       0.        , 0.        , 0.        , 0.        , 0.        ,\n",
              "       0.        , 0.15804001, 0.        , 0.        , 0.        ,\n",
              "       0.        , 0.        , 0.        , 0.        , 0.        ,\n",
              "       0.        , 0.        , 0.        , 0.        , 0.        ,\n",
              "       0.        , 0.        , 0.        , 0.        , 0.        ,\n",
              "       0.        , 0.        , 0.        , 0.        , 0.        ,\n",
              "       0.        , 0.        , 0.        , 0.        , 0.        ,\n",
              "       0.        , 0.        , 0.15310732, 0.        , 0.        ,\n",
              "       0.        , 0.        , 0.        , 0.        , 0.        ,\n",
              "       0.0472957 , 0.        , 0.        , 0.        , 0.        ,\n",
              "       0.07727928, 0.        , 0.        , 0.        , 0.        ,\n",
              "       0.        , 0.        , 0.07558481, 0.        , 0.        ,\n",
              "       0.        , 0.06955652, 0.05648747, 0.        , 0.        ,\n",
              "       0.        , 0.        , 0.        , 0.        , 0.        ,\n",
              "       0.        , 0.        , 0.        , 0.0587511 , 0.        ,\n",
              "       0.        , 0.        , 0.        , 0.        , 0.        ,\n",
              "       0.        , 0.        , 0.        , 0.        , 0.        ,\n",
              "       0.        , 0.        , 0.        , 0.        , 0.        ,\n",
              "       0.        , 0.        , 0.        , 0.        , 0.        ,\n",
              "       0.        , 0.        , 0.        , 0.0851065 , 0.        ,\n",
              "       0.        , 0.        , 0.        , 0.        , 0.11992657,\n",
              "       0.        , 0.24747506, 0.        , 0.        , 0.        ,\n",
              "       0.        , 0.        , 0.        , 0.        , 0.        ,\n",
              "       0.03161292, 0.        , 0.        , 0.        , 0.        ,\n",
              "       0.        , 0.        , 0.        , 0.        , 0.        ,\n",
              "       0.        , 0.        , 0.        , 0.08298531, 0.        ,\n",
              "       0.        , 0.        , 0.        , 0.        , 0.        ,\n",
              "       0.06728847, 0.        , 0.        , 0.05038677, 0.        ,\n",
              "       0.06228764, 0.        , 0.        , 0.        , 0.        ,\n",
              "       0.05624496, 0.        , 0.        , 0.        , 0.        ,\n",
              "       0.        , 0.        , 0.        , 0.        , 0.        ,\n",
              "       0.        , 0.        , 0.        , 0.07696608, 0.        ,\n",
              "       0.        , 0.        , 0.03435658, 0.        , 0.02799199,\n",
              "       0.        , 0.        , 0.        , 0.        , 0.        ,\n",
              "       0.        , 0.        , 0.        , 0.        , 0.        ,\n",
              "       0.        , 0.        , 0.        , 0.12908713, 0.        ,\n",
              "       0.        , 0.        , 0.        , 0.        , 0.        ,\n",
              "       0.        , 0.        , 0.06789183, 0.        , 0.        ,\n",
              "       0.        , 0.        , 0.        , 0.        , 0.        ,\n",
              "       0.        , 0.        , 0.        , 0.        , 0.        ,\n",
              "       0.        , 0.        , 0.        , 0.03289538, 0.        ,\n",
              "       0.        , 0.        , 0.06055536, 0.        , 0.        ,\n",
              "       0.        , 0.        , 0.        , 0.        , 0.        ,\n",
              "       0.        , 0.0424669 , 0.        , 0.17905895, 0.        ,\n",
              "       0.        , 0.11989015, 0.09254975, 0.        , 0.        ,\n",
              "       0.        , 0.        , 0.        , 0.        , 0.        ,\n",
              "       0.        , 0.        , 0.06687255, 0.        , 0.        ,\n",
              "       0.        , 0.        , 0.        , 0.07533507, 0.        ,\n",
              "       0.        , 0.        , 0.        , 0.        , 0.        ,\n",
              "       0.        , 0.        , 0.        , 0.0764591 , 0.        ,\n",
              "       0.        , 0.        , 0.        , 0.        , 0.        ,\n",
              "       0.        , 0.        , 0.        , 0.        , 0.        ,\n",
              "       0.        , 0.        , 0.        , 0.        , 0.        ,\n",
              "       0.        , 0.        , 0.        , 0.        , 0.        ,\n",
              "       0.        , 0.        , 0.        , 0.        , 0.        ,\n",
              "       0.        , 0.        , 0.        , 0.        , 0.17953991,\n",
              "       0.        , 0.        , 0.        , 0.        , 0.        ,\n",
              "       0.        , 0.        , 0.        , 0.        , 0.        ,\n",
              "       0.        , 0.        , 0.        , 0.06369628, 0.        ,\n",
              "       0.        , 0.        , 0.        , 0.        , 0.        ,\n",
              "       0.        , 0.04645572, 0.        , 0.        , 0.        ,\n",
              "       0.        , 0.05803943, 0.        , 0.15942136, 0.        ,\n",
              "       0.        , 0.        , 0.        , 0.        , 0.        ,\n",
              "       0.        , 0.        , 0.08535048, 0.        , 0.        ,\n",
              "       0.07815958, 0.        , 0.        , 0.        , 0.        ,\n",
              "       0.        , 0.        , 0.        , 0.        , 0.        ,\n",
              "       0.        , 0.        , 0.07261496, 0.        , 0.        ,\n",
              "       0.        , 0.        , 0.        , 0.        , 0.        ,\n",
              "       0.        , 0.        , 0.        , 0.        , 0.        ,\n",
              "       0.        , 0.        , 0.        , 0.        , 0.        ,\n",
              "       0.        , 0.        , 0.        , 0.        , 0.        ,\n",
              "       0.        , 0.        , 0.04669913, 0.        , 0.        ,\n",
              "       0.        , 0.        , 0.03803716, 0.        , 0.        ,\n",
              "       0.        , 0.08152096, 0.        , 0.        , 0.        ,\n",
              "       0.        , 0.        , 0.        , 0.        , 0.13190515,\n",
              "       0.        , 0.        , 0.        , 0.        , 0.        ,\n",
              "       0.        , 0.        , 0.07871276, 0.        , 0.02799954,\n",
              "       0.        , 0.        , 0.        , 0.        , 0.        ,\n",
              "       0.10124554, 0.07822191, 0.        , 0.        , 0.08296926,\n",
              "       0.        , 0.        , 0.        , 0.03314532, 0.        ,\n",
              "       0.        , 0.        , 0.        , 0.        , 0.        ,\n",
              "       0.        , 0.        , 0.        , 0.        , 0.        ,\n",
              "       0.        , 0.        , 0.        , 0.        , 0.        ,\n",
              "       0.        , 0.        , 0.        , 0.        , 0.        ,\n",
              "       0.        , 0.        , 0.        , 0.        , 0.        ,\n",
              "       0.        , 0.        , 0.        , 0.        , 0.        ,\n",
              "       0.        , 0.        , 0.        , 0.        , 0.        ,\n",
              "       0.        , 0.        , 0.        , 0.        , 0.        ,\n",
              "       0.        , 0.        , 0.        , 0.        , 0.        ,\n",
              "       0.        , 0.        , 0.05659286, 0.        , 0.        ,\n",
              "       0.        , 0.        , 0.        , 0.        , 0.        ,\n",
              "       0.        , 0.        , 0.        , 0.        , 0.        ,\n",
              "       0.        , 0.        , 0.        , 0.        , 0.        ,\n",
              "       0.        , 0.        , 0.        , 0.        , 0.        ,\n",
              "       0.        , 0.        , 0.        , 0.        , 0.        ,\n",
              "       0.        , 0.        , 0.        , 0.        , 0.        ,\n",
              "       0.        , 0.        , 0.        , 0.        , 0.        ,\n",
              "       0.        , 0.        , 0.11481394, 0.        , 0.        ,\n",
              "       0.        , 0.        , 0.08515013, 0.        , 0.        ,\n",
              "       0.        , 0.        , 0.        , 0.        , 0.        ,\n",
              "       0.        , 0.05750811, 0.09838035, 0.        , 0.        ,\n",
              "       0.        , 0.        , 0.05095624, 0.        , 0.        ,\n",
              "       0.        , 0.        , 0.        , 0.        , 0.        ,\n",
              "       0.        , 0.        , 0.        , 0.        , 0.        ,\n",
              "       0.        , 0.        , 0.        , 0.        , 0.        ,\n",
              "       0.        , 0.        , 0.        , 0.        , 0.        ,\n",
              "       0.        , 0.06242922, 0.        , 0.        , 0.        ,\n",
              "       0.07200651, 0.        , 0.        , 0.        , 0.        ,\n",
              "       0.        , 0.        , 0.        , 0.16167376, 0.        ,\n",
              "       0.        , 0.0636778 , 0.07359755, 0.        , 0.        ,\n",
              "       0.        , 0.        , 0.        , 0.        , 0.        ,\n",
              "       0.        , 0.        , 0.        , 0.        , 0.09463814,\n",
              "       0.        , 0.        , 0.        , 0.        , 0.        ,\n",
              "       0.        , 0.        , 0.        , 0.        , 0.        ,\n",
              "       0.        , 0.        , 0.        , 0.        , 0.        ,\n",
              "       0.        , 0.        , 0.        , 0.        , 0.        ,\n",
              "       0.        , 0.        , 0.        , 0.        , 0.        ,\n",
              "       0.        , 0.        , 0.        , 0.        , 0.        ,\n",
              "       0.        , 0.        , 0.        , 0.        , 0.08630542,\n",
              "       0.        , 0.        , 0.        , 0.        , 0.        ,\n",
              "       0.        , 0.        , 0.        , 0.        , 0.        ,\n",
              "       0.        , 0.        , 0.        , 0.        , 0.        ,\n",
              "       0.        , 0.        , 0.        , 0.        , 0.        ,\n",
              "       0.        , 0.        , 0.        , 0.        , 0.        ,\n",
              "       0.        , 0.        , 0.        , 0.        , 0.        ,\n",
              "       0.08673234, 0.28894023, 0.        , 0.04086582, 0.        ,\n",
              "       0.        , 0.        , 0.        , 0.        , 0.        ,\n",
              "       0.03289621, 0.05183042, 0.        , 0.        , 0.        ,\n",
              "       0.        , 0.05901103, 0.        , 0.        , 0.        ,\n",
              "       0.        , 0.        , 0.        , 0.        , 0.        ,\n",
              "       0.        , 0.        , 0.11409904, 0.        , 0.        ,\n",
              "       0.        , 0.        , 0.        , 0.        , 0.        ,\n",
              "       0.        , 0.        , 0.        , 0.        , 0.        ,\n",
              "       0.        , 0.        , 0.        , 0.        , 0.        ,\n",
              "       0.        , 0.        , 0.07797386, 0.        , 0.        ,\n",
              "       0.        , 0.        , 0.        , 0.        , 0.        ,\n",
              "       0.        , 0.        , 0.        , 0.        , 0.        ,\n",
              "       0.        , 0.        , 0.        , 0.06731108, 0.        ,\n",
              "       0.        , 0.        , 0.        , 0.        , 0.        ,\n",
              "       0.        , 0.        , 0.        , 0.        , 0.        ,\n",
              "       0.        , 0.08209968, 0.        , 0.3134309 , 0.        ,\n",
              "       0.        , 0.        , 0.        , 0.        , 0.        ,\n",
              "       0.0773577 , 0.        , 0.        , 0.        , 0.        ,\n",
              "       0.06310961, 0.10320627, 0.        , 0.        , 0.        ,\n",
              "       0.        , 0.        , 0.        , 0.0394463 , 0.        ,\n",
              "       0.        , 0.        , 0.06889315, 0.        , 0.        ,\n",
              "       0.09509802, 0.        , 0.03956119, 0.        , 0.        ,\n",
              "       0.06445903, 0.        , 0.        , 0.        , 0.        ,\n",
              "       0.        , 0.        , 0.        , 0.        , 0.12198956,\n",
              "       0.        , 0.        , 0.        , 0.        , 0.        ,\n",
              "       0.        , 0.        , 0.15707379, 0.        , 0.        ,\n",
              "       0.        , 0.        , 0.        , 0.        , 0.        ,\n",
              "       0.        , 0.        , 0.0380968 , 0.07601202, 0.        ,\n",
              "       0.        , 0.        , 0.        , 0.        , 0.        ,\n",
              "       0.        , 0.        , 0.        , 0.        , 0.        ,\n",
              "       0.08601665, 0.        , 0.04940528, 0.        , 0.        ])"
            ]
          },
          "execution_count": 111,
          "metadata": {},
          "output_type": "execute_result"
        }
      ],
      "source": [
        "bow[0]"
      ]
    },
    {
      "cell_type": "code",
      "execution_count": 112,
      "metadata": {},
      "outputs": [
        {
          "data": {
            "text/plain": [
              "(1000,)"
            ]
          },
          "execution_count": 112,
          "metadata": {},
          "output_type": "execute_result"
        }
      ],
      "source": [
        "bow[0].shape"
      ]
    },
    {
      "cell_type": "code",
      "execution_count": 115,
      "metadata": {},
      "outputs": [
        {
          "data": {
            "text/plain": [
              "1000"
            ]
          },
          "execution_count": 115,
          "metadata": {},
          "output_type": "execute_result"
        }
      ],
      "source": [
        "len(tfidf.vocabulary_)"
      ]
    },
    {
      "cell_type": "code",
      "execution_count": 117,
      "metadata": {},
      "outputs": [
        {
          "data": {
            "text/plain": [
              "1000"
            ]
          },
          "execution_count": 117,
          "metadata": {},
          "output_type": "execute_result"
        }
      ],
      "source": [
        "tfidf.get_feature_names_out().size"
      ]
    },
    {
      "cell_type": "code",
      "execution_count": 120,
      "metadata": {},
      "outputs": [
        {
          "data": {
            "text/plain": [
              "array([3.00190808, 4.61416311, 4.79603933, 4.87282229, 4.05211101,\n",
              "       1.87906312, 4.45778773, 3.88995185, 4.3126572 , 4.14518079,\n",
              "       4.64660654, 2.54207968, 3.40397359, 3.55723931, 2.92938773,\n",
              "       4.2059796 , 4.6186274 , 2.98560697, 4.45461816, 4.78189232,\n",
              "       2.48159254, 3.05480795, 4.02127523, 4.31816383, 4.26284771,\n",
              "       4.82403213, 4.79159685, 1.65768421, 3.24113377, 4.32203658,\n",
              "       3.69505526, 4.02621148, 2.36627647, 3.44532139, 3.25553069,\n",
              "       3.36554489, 4.14239785, 4.73893039, 3.69032852, 4.54047945,\n",
              "       1.72119635, 1.03457004, 4.92411559, 4.38672294, 2.94465097,\n",
              "       2.47807883, 3.35347742, 3.29424018, 4.16440764, 4.78189232,\n",
              "       4.43394721, 4.77751211, 4.50524545, 1.59346665, 4.44391614,\n",
              "       3.12730815, 4.24318852, 1.44755788, 4.78982537, 1.66633053,\n",
              "       4.67145254, 4.2984803 , 4.84065301, 4.39324921, 3.6524463 ,\n",
              "       4.65662589, 4.55157526, 3.3425941 , 3.85286479, 4.95390721,\n",
              "       2.87616158, 4.75932192, 2.44487611, 4.78101474, 3.95461033,\n",
              "       4.42162419, 4.96123325, 1.57268557, 3.65216257, 4.81400926,\n",
              "       4.71073615, 2.39701137, 3.95653156, 4.07783038, 2.33584941,\n",
              "       2.94465097, 4.68969977, 3.9693051 , 4.64967874, 4.13501434,\n",
              "       2.60327705, 4.59577348, 3.43408146, 2.6430147 , 2.68709518,\n",
              "       3.22508865, 4.37030028, 3.18393356, 5.04329129, 3.29721962,\n",
              "       3.79264818, 4.3507144 , 4.44266457, 3.90518058, 3.79624589,\n",
              "       3.21331299, 4.72805617, 4.02662394, 4.87186122, 1.53777156,\n",
              "       4.8313851 , 4.17535752, 4.48873798, 4.77751211, 4.65353231,\n",
              "       4.44016613, 4.59869319, 3.78354834, 4.54324188, 4.82770186,\n",
              "       1.33426272, 4.56491347, 1.76136037, 4.36971871, 3.94848708,\n",
              "       3.79952781, 3.82888282, 1.96298314, 4.28290115, 4.3303862 ,\n",
              "       4.03283128, 4.37906458, 3.92809362, 3.0773837 , 4.54255056,\n",
              "       3.93522177, 4.24472658, 4.38495041, 2.65518776, 2.58447266,\n",
              "       4.4514586 , 4.62386106, 4.77054344, 4.26493976, 4.12449515,\n",
              "       4.05507774, 4.29739805, 4.34445905, 4.53772463, 3.78354834,\n",
              "       4.51730186, 4.46735718, 4.09756354, 3.19734458, 3.3581178 ,\n",
              "       3.48221034, 4.5965026 , 4.19860312, 4.74737638, 4.59577348,\n",
              "       4.26493976, 3.71057333, 4.35471555, 4.97285514, 4.83323182,\n",
              "       2.44921156, 3.89355676, 4.44705192, 3.82280788, 3.46889583,\n",
              "       4.90110307, 4.34957415, 4.81400926, 4.85850224, 4.69935391,\n",
              "       4.89616966, 4.83230804, 4.74230023, 4.34559348, 4.88735039,\n",
              "       4.93224571, 4.09446825, 4.35873277, 4.47378807, 3.44416866,\n",
              "       4.06103774, 4.99651216, 3.8469875 , 4.56562044, 3.80051449,\n",
              "       4.21540194, 4.66050638, 4.66674665, 3.87814703, 4.79425997,\n",
              "       4.0390774 , 4.8085843 , 4.56491347, 3.94126409, 2.66634577,\n",
              "       2.97445309, 4.54601197, 3.55723931, 4.6730261 , 4.11905049,\n",
              "       4.78013793, 3.99136193, 2.96527608, 4.8313851 , 4.37321319,\n",
              "       5.21585446, 2.32774361, 4.93428861, 4.67223901, 2.7211719 ,\n",
              "       2.95180739, 4.86325284, 3.871413  , 2.34917273, 3.24868525,\n",
              "       4.55506811, 3.08668759, 4.9090475 , 4.03740795, 4.80588281,\n",
              "       4.89518589, 4.41430262, 4.57986569, 4.88735039, 3.60804389,\n",
              "       3.54722768, 3.49691826, 4.75846392, 3.91104355, 4.62686406,\n",
              "       4.48677527, 4.52203   , 4.6030888 , 4.74061389, 3.60668759,\n",
              "       4.5494854 , 3.71268081, 4.60824155, 3.61951002, 4.75247844,\n",
              "       2.72587938, 4.84438436, 3.54340358, 4.36913749, 4.44956764,\n",
              "       3.73801408, 4.47961145, 4.12040888, 3.15677464, 3.92809362,\n",
              "       4.47249858, 3.97791236, 4.27652494, 4.71977112, 4.86325284,\n",
              "       3.41108157, 4.19469114, 2.09561684, 4.52203   , 4.66440198,\n",
              "       2.64208442, 3.02968139, 3.55081007, 3.47386802, 4.19811329,\n",
              "       4.31706007, 4.03532505, 3.64425069, 4.18933702, 4.15545165,\n",
              "       4.62536143, 4.85000761, 4.22240196, 4.25971782, 4.55576814,\n",
              "       4.17010566, 3.88564305, 3.15556535, 4.83415647, 4.81219767,\n",
              "       4.53979003, 4.50258588, 3.51406714, 4.62836895, 3.68621087,\n",
              "       4.06317495, 4.61119795, 5.00965583, 3.28201846, 4.47443344,\n",
              "       3.93334101, 4.1587419 , 4.5856211 , 4.75503926, 3.32076906,\n",
              "       4.22642409, 4.60455831, 4.00418775, 4.42346299, 3.00814604,\n",
              "       4.86515942, 4.3507144 , 4.94044248, 4.64890981, 1.58833881,\n",
              "       4.51662823, 2.69796131, 4.0597576 , 3.91916167, 2.99512039,\n",
              "       4.45525127, 4.09889303, 4.8981401 , 2.37715642, 4.51125549,\n",
              "       4.12449515, 4.59068441, 4.80408586, 4.92007518, 1.33989402,\n",
              "       4.68650233, 4.60824155, 4.60455831, 4.69451519, 3.40198354,\n",
              "       4.48091015, 4.68013795, 4.73222458, 4.00016198, 3.7955908 ,\n",
              "       1.76599597, 4.77663837, 3.77228877, 3.45389321, 3.05950206,\n",
              "       4.53635006, 4.52542098, 4.11183675, 5.13518656, 4.64814146,\n",
              "       4.18933702, 4.67066669, 5.2131481 , 2.31790833, 3.2701379 ,\n",
              "       3.83397362, 3.51258566, 4.82586531, 4.40763795, 3.13033387,\n",
              "       3.75894253, 3.9015336 , 4.47185446, 2.81476155, 4.27124231,\n",
              "       3.47958096, 2.99998515, 4.56209061, 1.9673409 , 4.48742908,\n",
              "       3.14201803, 2.38017326, 4.64814146, 4.26913704, 4.02538708,\n",
              "       4.95704037, 3.38555201, 4.10378302, 2.22623841, 3.65671191,\n",
              "       4.18063711, 4.72059654, 4.26493976, 4.29956373, 4.21789632,\n",
              "       4.41248057, 3.37024174, 1.91926509, 4.55297094, 1.56371911,\n",
              "       4.46351841, 3.45087311, 1.89528336, 3.92659941, 4.63214112,\n",
              "       4.19420321, 4.11633924, 4.30991522, 3.74639532, 2.38256141,\n",
              "       2.77823166, 4.42101201, 4.6519891 , 3.60560387, 4.16393427,\n",
              "       4.27282417, 2.59053803, 3.65585733, 1.86068683, 4.14378835,\n",
              "       4.31046302, 3.82045533, 3.79264818, 3.94810562, 4.16915373,\n",
              "       3.46913204, 4.75077486, 4.17823384, 4.35930798, 3.89139226,\n",
              "       2.37953738, 3.15850475, 4.34445905, 3.97830536, 4.10289215,\n",
              "       4.48677527, 3.65728203, 4.88930352, 1.83763819, 4.57557077,\n",
              "       4.65972908, 4.39205944, 1.1276034 , 4.26128154, 4.77838662,\n",
              "       4.67855316, 4.78452968, 3.56787357, 4.29577687, 4.72059654,\n",
              "       3.26357671, 2.37233256, 4.24011946, 1.11142094, 5.10320351,\n",
              "       3.26781727, 1.11623926, 2.58505803, 3.84664285, 4.76794266,\n",
              "       4.4900486 , 5.21585446, 3.58656078, 5.20507268, 3.78451937,\n",
              "       4.85755482, 4.49136093, 1.86785396, 3.83329335, 4.74314447,\n",
              "       4.56987275, 4.3039092 , 3.98699077, 4.20845057, 4.26232538,\n",
              "       4.38023898, 4.6977384 , 3.38186477, 4.8112931 , 4.4136949 ,\n",
              "       2.64105178, 4.20746145, 4.41308755, 4.27124231, 4.71155414,\n",
              "       4.71237281, 3.33554159, 4.15686043, 3.62750455, 3.95269278,\n",
              "       4.7380897 , 4.03865977, 4.81219767, 4.61416311, 4.68650233,\n",
              "       3.23794158, 4.23400946, 4.67145254, 5.08283133, 3.61786393,\n",
              "       3.70757033, 3.50790873, 4.37906458, 2.70773248, 4.37262992,\n",
              "       1.76935732, 3.97203575, 3.74111005, 3.91805077, 4.8566083 ,\n",
              "       2.66676928, 3.95653156, 4.06189208, 4.2984803 , 3.34321878,\n",
              "       4.49201775, 3.14782604, 2.98779435, 4.29146652, 3.43043846,\n",
              "       3.56657064, 3.97203575, 3.02664141, 4.55576814, 2.72318668,\n",
              "       3.98066664, 3.79624589, 2.39257391, 3.55827184, 4.42346299,\n",
              "       2.40757886, 2.96627572, 3.29781658, 4.77228106, 2.83247647,\n",
              "       4.84812968, 2.59516061, 4.87378429, 4.72307691, 4.62311171,\n",
              "       4.11769394, 3.24226286, 3.53226986, 2.22644293, 3.86192093,\n",
              "       4.57986569, 4.85094791, 4.74314447, 4.73222458, 4.69532002,\n",
              "       3.8842109 , 4.50924813, 4.76794266, 4.61416311, 4.32148241,\n",
              "       4.36623641, 3.33574831, 3.64172082, 4.57129421, 3.34948708,\n",
              "       4.48156013, 4.84906821, 4.47637206, 4.27546618, 3.86753498,\n",
              "       3.58364262, 4.91304351, 2.02824838, 2.35257015, 4.37554963,\n",
              "       4.08436493, 4.59723227, 1.49212201, 2.53760248, 4.45588478,\n",
              "       4.254005  , 2.26714562, 4.47378807, 3.34655698, 4.66909683,\n",
              "       3.17438779, 2.12795812, 4.16062692, 4.66596448, 3.871413  ,\n",
              "       4.63063055, 4.79159685, 4.46671636, 4.56987275, 3.76622912,\n",
              "       4.68889945, 4.52406321, 2.60875816, 3.09770698, 3.78354834,\n",
              "       3.72725302, 3.68386551, 2.1248736 , 4.3890912 , 4.2920043 ,\n",
              "       4.75932192, 1.51800452, 4.65430481, 2.99791842, 4.68251985,\n",
              "       2.90463467, 4.4395425 , 4.27440853, 4.15451357, 1.05266157,\n",
              "       2.68364281, 3.91141112, 3.98342852, 4.30936773, 4.63441127,\n",
              "       3.00665728, 4.80948642, 1.46571293, 3.49910671, 1.56414092,\n",
              "       4.4004177 , 2.11032033, 4.66596448, 4.31816383, 4.36797605,\n",
              "       1.88529668, 4.36971871, 3.41644591, 4.70502884, 2.31746017,\n",
              "       3.85982376, 4.66440198, 3.60641655, 1.85160035, 4.84719203,\n",
              "       2.68644695, 3.92809362, 3.22231626, 4.69290748, 3.07419543,\n",
              "       4.65430481, 4.27917676, 4.15264003, 4.96438949, 4.15170458,\n",
              "       4.8031886 , 4.78452968, 2.4018748 , 3.93033913, 4.73893039,\n",
              "       3.42432085, 3.76782021, 3.86017298, 4.6412528 , 3.9018977 ,\n",
              "       4.74737638, 4.73473399, 4.02086497, 3.91177884, 3.49813348,\n",
              "       3.64763383, 3.47315619, 3.88456874, 3.60858692, 4.32092855,\n",
              "       4.81219767, 2.61316477, 4.76018066, 3.27927927, 4.61564899,\n",
              "       4.48156013, 4.99108621, 3.74018025, 4.70340414, 4.82128864,\n",
              "       4.30882053, 4.6753911 , 4.50924813, 4.82128864, 4.47831443,\n",
              "       4.6620628 , 4.83230804, 3.16145281, 4.75932192, 3.33100457,\n",
              "       4.02045489, 4.47896273, 3.82348105, 3.46300861, 4.06574565,\n",
              "       4.72639366, 4.73724971, 3.13269356, 4.77228106, 3.44025926,\n",
              "       4.43208905, 3.01068203, 3.76464055, 4.68889945, 2.91245669,\n",
              "       4.62761623, 4.41734676, 4.76018066, 2.20079791, 3.53226986,\n",
              "       4.7969302 , 4.81219767, 3.72847701, 4.79337148, 4.44893812,\n",
              "       4.58130144, 4.32481205, 3.87850271, 4.58634287, 3.75453308,\n",
              "       4.73138951, 4.89322125, 4.52338502, 4.67066669, 4.87378429,\n",
              "       4.71977112, 4.36971871, 3.20693134, 4.44079016, 4.79782186,\n",
              "       3.3230119 , 4.26232538, 4.75675012, 4.63820634, 4.47572543,\n",
              "       4.10378302, 4.35357073, 4.34559348, 3.57783172, 3.01397347,\n",
              "       4.27176931, 3.21258159, 2.74791571, 4.32425634, 4.25815654,\n",
              "       4.51797594, 2.86357627, 2.84657362, 3.95077891, 4.87474722,\n",
              "       4.27546618, 3.45879118, 4.75589432, 3.31164584, 5.11906717,\n",
              "       3.70159123, 4.9394142 , 2.12278155, 3.58709227, 3.59375985,\n",
              "       4.08261821, 3.1691237 , 2.54264074, 4.23756909, 3.53883388,\n",
              "       4.68650233, 4.56774433, 4.69371101, 3.5720544 , 4.30772704,\n",
              "       4.3126572 , 3.48748993, 4.48481641, 4.74992416, 3.97242645,\n",
              "       4.02250701, 4.8231168 , 4.68490743, 2.54273428, 3.75579094,\n",
              "       3.69772391, 4.44141457, 2.83310159, 3.01053267, 4.51797594,\n",
              "       4.3359916 , 3.55723931, 4.11138762, 4.42530518, 4.49136093,\n",
              "       4.29523706, 3.71872678, 3.31690688, 4.41491071, 4.69854583,\n",
              "       4.60897983, 4.69050074, 4.25504127, 3.88707726, 1.76226006,\n",
              "       4.7862918 , 1.95848781, 4.61713709, 3.54264051, 2.81243126,\n",
              "       4.22894616, 4.37906458, 4.29254236, 4.49333267, 4.64737371,\n",
              "       4.19079439, 4.52474187, 3.97909183, 4.08043908, 4.74314447,\n",
              "       4.52338502, 4.74230023, 3.63166487, 4.79960758, 4.86325284,\n",
              "       4.55646867, 3.75327679, 3.8906718 , 3.79069123, 4.37321319,\n",
              "       4.20548614, 4.5536695 , 2.75760995, 4.19420321, 4.3639216 ,\n",
              "       2.21269724, 4.5727177 , 4.50192209, 4.45969431, 4.82128864,\n",
              "       4.29092903, 4.16820271, 3.89103196, 3.91104355, 4.63214112,\n",
              "       4.85471794, 2.84962047, 4.72972145, 4.50791212, 3.99735355,\n",
              "       3.36917234, 4.65817628, 4.49201775, 4.60529387, 3.12362244,\n",
              "       4.27018912, 3.57835859, 4.3359916 , 4.64507397, 4.34786621,\n",
              "       4.53087059, 4.42346299, 4.69371101, 4.54185971, 3.80513191,\n",
              "       4.81491629, 4.49728785, 4.50059583, 3.91805077, 2.27384319,\n",
              "       1.21128439, 1.00881859, 4.61490577, 2.28289172, 2.48989868,\n",
              "       4.59504488, 4.16251549, 2.49764824, 1.84208491, 2.82401345,\n",
              "       1.83768441, 2.89540815, 3.12328805, 2.53527851, 4.14564536,\n",
              "       4.68013795, 1.09884635, 2.88824632, 2.96527608, 3.14099658,\n",
              "       3.60262969, 4.55227286, 2.85715034, 4.01066289, 2.05937311,\n",
              "       3.20838642, 3.95269278, 1.06232103, 4.15077   , 3.55595015,\n",
              "       4.26284771, 4.8981401 , 2.49140825, 4.19274087, 3.70457631,\n",
              "       4.73893039, 4.03782505, 4.76794266, 4.31706007, 4.53292187,\n",
              "       4.14564536, 3.55749734, 3.7998566 , 4.73977178, 3.72878324,\n",
              "       3.45902501, 4.01147523, 4.35586168, 4.12495021, 3.4518014 ,\n",
              "       4.91204301, 2.63129461, 4.19958351, 4.5720057 , 4.01636323,\n",
              "       3.85044054, 4.03075788, 4.78364979, 4.64507397, 3.75705038,\n",
              "       2.06046983, 4.41978877, 3.22250085, 3.76020596, 3.68915032,\n",
              "       4.56068216, 4.38613174, 4.33374567, 4.80768299, 2.85971576,\n",
              "       3.88349559, 2.06905407, 3.91805077, 4.37379679, 4.16298819,\n",
              "       4.58923513, 4.58634287, 4.95495051, 4.37730556, 4.33150477,\n",
              "       4.65353231, 3.09672978, 4.02250701, 4.12404029, 4.00742008,\n",
              "       1.44048036, 3.57493889, 3.98184937, 4.82403213, 2.52263822,\n",
              "       3.52549868, 2.88271125, 4.9633363 , 2.44174251, 4.52474187,\n",
              "       2.46207293, 4.66752943, 4.78541035, 2.20359288, 3.89789987,\n",
              "       2.31343572, 4.98246547, 1.9242925 , 4.64277952, 2.02267175,\n",
              "       2.6562351 , 4.48742908, 2.21001088, 2.82426134, 4.13455468,\n",
              "       1.80044064, 3.25724939, 4.7414567 , 4.39324921, 2.86512466,\n",
              "       3.79755737, 2.38919852, 4.92512824, 4.3467292 , 1.36294299,\n",
              "       4.53772463, 3.20602299, 3.52724977, 3.98263863, 3.82314441,\n",
              "       4.24987063, 3.88923243, 4.38731448, 4.39146509, 2.98415136,\n",
              "       4.75077486, 4.52203   , 4.1082493 , 3.18749229, 3.9658052 ,\n",
              "       3.42251539, 3.45785638, 2.12820529, 4.24626702, 4.69371101,\n",
              "       4.23655076, 4.79337148, 4.09667819, 3.86612851, 3.76941383,\n",
              "       3.59697615, 2.95265269, 3.95730109, 3.39669602, 4.8085843 ,\n",
              "       1.60171899, 3.24584676, 2.75993203, 4.32926888, 5.49902999])"
            ]
          },
          "execution_count": 120,
          "metadata": {},
          "output_type": "execute_result"
        }
      ],
      "source": [
        "tfidf.idf_"
      ]
    },
    {
      "cell_type": "code",
      "execution_count": 124,
      "metadata": {},
      "outputs": [],
      "source": [
        "# Convert the TF-IDF matrix to a DataFrame for better readability\n",
        "tfidf_df = pd.DataFrame(bow, columns=tfidf.get_feature_names_out())\n"
      ]
    },
    {
      "cell_type": "code",
      "execution_count": 132,
      "metadata": {},
      "outputs": [
        {
          "data": {
            "text/html": [
              "<div>\n",
              "<style scoped>\n",
              "    .dataframe tbody tr th:only-of-type {\n",
              "        vertical-align: middle;\n",
              "    }\n",
              "\n",
              "    .dataframe tbody tr th {\n",
              "        vertical-align: top;\n",
              "    }\n",
              "\n",
              "    .dataframe thead th {\n",
              "        text-align: right;\n",
              "    }\n",
              "</style>\n",
              "<table border=\"1\" class=\"dataframe\">\n",
              "  <thead>\n",
              "    <tr style=\"text-align: right;\">\n",
              "      <th></th>\n",
              "      <th>10</th>\n",
              "      <th>20</th>\n",
              "      <th>30</th>\n",
              "      <th>80</th>\n",
              "      <th>able</th>\n",
              "      <th>about</th>\n",
              "      <th>above</th>\n",
              "      <th>absolutely</th>\n",
              "      <th>across</th>\n",
              "      <th>act</th>\n",
              "      <th>...</th>\n",
              "      <th>year</th>\n",
              "      <th>years</th>\n",
              "      <th>yes</th>\n",
              "      <th>yet</th>\n",
              "      <th>york</th>\n",
              "      <th>you</th>\n",
              "      <th>young</th>\n",
              "      <th>your</th>\n",
              "      <th>yourself</th>\n",
              "      <th>zombie</th>\n",
              "    </tr>\n",
              "  </thead>\n",
              "  <tbody>\n",
              "    <tr>\n",
              "      <th>33229</th>\n",
              "      <td>0.0</td>\n",
              "      <td>0.0</td>\n",
              "      <td>0.0</td>\n",
              "      <td>0.0</td>\n",
              "      <td>0.00000</td>\n",
              "      <td>0.000000</td>\n",
              "      <td>0.0</td>\n",
              "      <td>0.0</td>\n",
              "      <td>0.0</td>\n",
              "      <td>0.000000</td>\n",
              "      <td>...</td>\n",
              "      <td>0.109522</td>\n",
              "      <td>0.000000</td>\n",
              "      <td>0.0</td>\n",
              "      <td>0.0</td>\n",
              "      <td>0.0</td>\n",
              "      <td>0.048770</td>\n",
              "      <td>0.0</td>\n",
              "      <td>0.0</td>\n",
              "      <td>0.0</td>\n",
              "      <td>0.0</td>\n",
              "    </tr>\n",
              "    <tr>\n",
              "      <th>403</th>\n",
              "      <td>0.0</td>\n",
              "      <td>0.0</td>\n",
              "      <td>0.0</td>\n",
              "      <td>0.0</td>\n",
              "      <td>0.08847</td>\n",
              "      <td>0.041026</td>\n",
              "      <td>0.0</td>\n",
              "      <td>0.0</td>\n",
              "      <td>0.0</td>\n",
              "      <td>0.090502</td>\n",
              "      <td>...</td>\n",
              "      <td>0.078533</td>\n",
              "      <td>0.000000</td>\n",
              "      <td>0.0</td>\n",
              "      <td>0.0</td>\n",
              "      <td>0.0</td>\n",
              "      <td>0.034970</td>\n",
              "      <td>0.0</td>\n",
              "      <td>0.0</td>\n",
              "      <td>0.0</td>\n",
              "      <td>0.0</td>\n",
              "    </tr>\n",
              "    <tr>\n",
              "      <th>22542</th>\n",
              "      <td>0.0</td>\n",
              "      <td>0.0</td>\n",
              "      <td>0.0</td>\n",
              "      <td>0.0</td>\n",
              "      <td>0.00000</td>\n",
              "      <td>0.030867</td>\n",
              "      <td>0.0</td>\n",
              "      <td>0.0</td>\n",
              "      <td>0.0</td>\n",
              "      <td>0.000000</td>\n",
              "      <td>...</td>\n",
              "      <td>0.000000</td>\n",
              "      <td>0.000000</td>\n",
              "      <td>0.0</td>\n",
              "      <td>0.0</td>\n",
              "      <td>0.0</td>\n",
              "      <td>0.105246</td>\n",
              "      <td>0.0</td>\n",
              "      <td>0.0</td>\n",
              "      <td>0.0</td>\n",
              "      <td>0.0</td>\n",
              "    </tr>\n",
              "    <tr>\n",
              "      <th>32697</th>\n",
              "      <td>0.0</td>\n",
              "      <td>0.0</td>\n",
              "      <td>0.0</td>\n",
              "      <td>0.0</td>\n",
              "      <td>0.00000</td>\n",
              "      <td>0.056514</td>\n",
              "      <td>0.0</td>\n",
              "      <td>0.0</td>\n",
              "      <td>0.0</td>\n",
              "      <td>0.000000</td>\n",
              "      <td>...</td>\n",
              "      <td>0.000000</td>\n",
              "      <td>0.000000</td>\n",
              "      <td>0.0</td>\n",
              "      <td>0.0</td>\n",
              "      <td>0.0</td>\n",
              "      <td>0.192691</td>\n",
              "      <td>0.0</td>\n",
              "      <td>0.0</td>\n",
              "      <td>0.0</td>\n",
              "      <td>0.0</td>\n",
              "    </tr>\n",
              "    <tr>\n",
              "      <th>12636</th>\n",
              "      <td>0.0</td>\n",
              "      <td>0.0</td>\n",
              "      <td>0.0</td>\n",
              "      <td>0.0</td>\n",
              "      <td>0.00000</td>\n",
              "      <td>0.129142</td>\n",
              "      <td>0.0</td>\n",
              "      <td>0.0</td>\n",
              "      <td>0.0</td>\n",
              "      <td>0.000000</td>\n",
              "      <td>...</td>\n",
              "      <td>0.000000</td>\n",
              "      <td>0.101463</td>\n",
              "      <td>0.0</td>\n",
              "      <td>0.0</td>\n",
              "      <td>0.0</td>\n",
              "      <td>0.000000</td>\n",
              "      <td>0.0</td>\n",
              "      <td>0.0</td>\n",
              "      <td>0.0</td>\n",
              "      <td>0.0</td>\n",
              "    </tr>\n",
              "  </tbody>\n",
              "</table>\n",
              "<p>5 rows × 1000 columns</p>\n",
              "</div>"
            ],
            "text/plain": [
              "        10   20   30   80     able     about  above  absolutely  across  \\\n",
              "33229  0.0  0.0  0.0  0.0  0.00000  0.000000    0.0         0.0     0.0   \n",
              "403    0.0  0.0  0.0  0.0  0.08847  0.041026    0.0         0.0     0.0   \n",
              "22542  0.0  0.0  0.0  0.0  0.00000  0.030867    0.0         0.0     0.0   \n",
              "32697  0.0  0.0  0.0  0.0  0.00000  0.056514    0.0         0.0     0.0   \n",
              "12636  0.0  0.0  0.0  0.0  0.00000  0.129142    0.0         0.0     0.0   \n",
              "\n",
              "            act  ...      year     years  yes  yet  york       you  young  \\\n",
              "33229  0.000000  ...  0.109522  0.000000  0.0  0.0   0.0  0.048770    0.0   \n",
              "403    0.090502  ...  0.078533  0.000000  0.0  0.0   0.0  0.034970    0.0   \n",
              "22542  0.000000  ...  0.000000  0.000000  0.0  0.0   0.0  0.105246    0.0   \n",
              "32697  0.000000  ...  0.000000  0.000000  0.0  0.0   0.0  0.192691    0.0   \n",
              "12636  0.000000  ...  0.000000  0.101463  0.0  0.0   0.0  0.000000    0.0   \n",
              "\n",
              "       your  yourself  zombie  \n",
              "33229   0.0       0.0     0.0  \n",
              "403     0.0       0.0     0.0  \n",
              "22542   0.0       0.0     0.0  \n",
              "32697   0.0       0.0     0.0  \n",
              "12636   0.0       0.0     0.0  \n",
              "\n",
              "[5 rows x 1000 columns]"
            ]
          },
          "execution_count": 132,
          "metadata": {},
          "output_type": "execute_result"
        }
      ],
      "source": [
        "tfidf_df.sample(5)"
      ]
    },
    {
      "cell_type": "code",
      "execution_count": 126,
      "metadata": {},
      "outputs": [],
      "source": [
        "# Create a DataFrame for better readability\n",
        "idf_df = pd.DataFrame(tfidf.idf_, index=tfidf.get_feature_names_out(), columns=[\"IDF Score\"])\n"
      ]
    },
    {
      "cell_type": "code",
      "execution_count": 130,
      "metadata": {},
      "outputs": [
        {
          "data": {
            "text/html": [
              "<div>\n",
              "<style scoped>\n",
              "    .dataframe tbody tr th:only-of-type {\n",
              "        vertical-align: middle;\n",
              "    }\n",
              "\n",
              "    .dataframe tbody tr th {\n",
              "        vertical-align: top;\n",
              "    }\n",
              "\n",
              "    .dataframe thead th {\n",
              "        text-align: right;\n",
              "    }\n",
              "</style>\n",
              "<table border=\"1\" class=\"dataframe\">\n",
              "  <thead>\n",
              "    <tr style=\"text-align: right;\">\n",
              "      <th></th>\n",
              "      <th>IDF Score</th>\n",
              "    </tr>\n",
              "  </thead>\n",
              "  <tbody>\n",
              "    <tr>\n",
              "      <th>recently</th>\n",
              "      <td>4.812198</td>\n",
              "    </tr>\n",
              "    <tr>\n",
              "      <th>through</th>\n",
              "      <td>2.857150</td>\n",
              "    </tr>\n",
              "    <tr>\n",
              "      <th>since</th>\n",
              "      <td>3.316907</td>\n",
              "    </tr>\n",
              "    <tr>\n",
              "      <th>know</th>\n",
              "      <td>2.641052</td>\n",
              "    </tr>\n",
              "    <tr>\n",
              "      <th>dull</th>\n",
              "      <td>4.579866</td>\n",
              "    </tr>\n",
              "  </tbody>\n",
              "</table>\n",
              "</div>"
            ],
            "text/plain": [
              "          IDF Score\n",
              "recently   4.812198\n",
              "through    2.857150\n",
              "since      3.316907\n",
              "know       2.641052\n",
              "dull       4.579866"
            ]
          },
          "execution_count": 130,
          "metadata": {},
          "output_type": "execute_result"
        }
      ],
      "source": [
        "idf_df.sample(5)"
      ]
    },
    {
      "cell_type": "code",
      "execution_count": null,
      "metadata": {},
      "outputs": [],
      "source": []
    }
  ],
  "metadata": {
    "colab": {
      "provenance": []
    },
    "kernelspec": {
      "display_name": "Python 3",
      "name": "python3"
    },
    "language_info": {
      "codemirror_mode": {
        "name": "ipython",
        "version": 3
      },
      "file_extension": ".py",
      "mimetype": "text/x-python",
      "name": "python",
      "nbconvert_exporter": "python",
      "pygments_lexer": "ipython3",
      "version": "3.12.4"
    }
  },
  "nbformat": 4,
  "nbformat_minor": 0
}
